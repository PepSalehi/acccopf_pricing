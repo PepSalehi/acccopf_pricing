{
 "cells": [
  {
   "cell_type": "markdown",
   "metadata": {},
   "source": [
    "Notes:\n",
    "\n",
    "- a_pij^2 + a_qij^2 <= s^2 approximated via inner polygon to recover dual (cannot retrieve dual from conic constraint), this slightly increases the objective by around 0.1% "
   ]
  },
  {
   "cell_type": "code",
   "execution_count": 1,
   "metadata": {},
   "outputs": [],
   "source": [
    "# display(\"text/html\", \"<style>.container { width:80% !important; }</style>\")\n",
    "ENV[\"Columns\"] = 5000;"
   ]
  },
  {
   "cell_type": "code",
   "execution_count": 2,
   "metadata": {
    "hideCode": false,
    "hidePrompt": false
   },
   "outputs": [
    {
     "data": {
      "text/plain": [
       "\"C:\\\\Users\\\\Robert\\\\Promotion\\\\Workshop\\\\02_cc_dlmp_varaware\\\\02_var_aware_accc_lmp\\\\Project.toml\""
      ]
     },
     "execution_count": 2,
     "metadata": {},
     "output_type": "execute_result"
    }
   ],
   "source": [
    "using Pkg\n",
    "Pkg.activate(\".\")\n",
    "# Pkg.instantiate()"
   ]
  },
  {
   "cell_type": "code",
   "execution_count": 3,
   "metadata": {
    "hideCode": false,
    "hidePrompt": false
   },
   "outputs": [
    {
     "data": {
      "text/plain": [
       "save_results (generic function with 1 method)"
      ]
     },
     "execution_count": 3,
     "metadata": {},
     "output_type": "execute_result"
    }
   ],
   "source": [
    "using Distributions, LinearAlgebra, JLD, SparseArrays, DataFrames, Dates\n",
    "using CSV, JSON\n",
    "using JuMP\n",
    "using Mosek, MosekTools\n",
    "using Ipopt\n",
    "\n",
    "include(\"acopf_input.jl\")\n",
    "include(\"model_definitions.jl\")\n",
    "include(\"tools.jl\")\n",
    "include(\"output.jl\")"
   ]
  },
  {
   "cell_type": "code",
   "execution_count": 4,
   "metadata": {
    "hideCode": false,
    "hidePrompt": false
   },
   "outputs": [
    {
     "name": "stdout",
     "output_type": "stream",
     "text": [
      "bus: 118\n",
      "line: 186\n",
      "gen: 54\n",
      "farm: 11\n"
     ]
    }
   ],
   "source": [
    "casedat = load(\"casedata/118bus.jld\")\n",
    "generators = casedat[\"generators\"]\n",
    "buses = casedat[\"buses\"]\n",
    "lines = casedat[\"lines\"]\n",
    "generatorlist = casedat[\"generatorlist\"]\n",
    "\n",
    "n_buses = length(buses)\n",
    "n_lines = length(lines)\n",
    "n_generators = length(generators)\n",
    "\n",
    "refbus = 1\n",
    "loadscale = 1.10\n",
    "mvaBase = 100\n",
    "thermalLimitscale = 0.6\n",
    "theta_u = 15\n",
    "\n",
    "line_limits= [175 175 500 175 175 175 500 500 500 175 175 175 175 175 175 175 175 175 175 175 500 175 175 175 175 175 175 175 175 175 500 500 500 175 175 500 175 500 175 175 140 175 175 175 175 175 175 175 175 500 500 175 175 175 175 175 175 175 175 175 175 175 175 175 175 175 175 175 175 175 175 175 175 175 175 175 175 175 175 175 175 175 175 175 175 175 175 175 175 500 175 175 500 500 500 500 500 500 500 175 175 500 175 500 175 175 500 500 175 175 175 175 175 175 175 500 175 175 175 175 175 175 500 500 175 500 500 200 200 175 175 175 500 500 175 175 500 500 500 175 500 500 175 175 175 175 175 175 175 175 175 175 200 175 175 175 175 175 175 175 175 175 500 175 175 175 175 175 175 175 175 175 175 175 175 175 175 175 500 175 175 175 500 175 175 175]\n",
    "\n",
    "for i in 1:length(lines)\n",
    "    lines[i].u = 0.99*thermalLimitscale * line_limits[i]/mvaBase\n",
    "end\n",
    "\n",
    "wp = 1.25 \n",
    "factor_σ =  1.25*wp\n",
    "voll = 10000\n",
    "\n",
    "farms = Farm[]\n",
    "push!(farms, Farm(70.0/100*wp,   factor_σ *7.0/100,  3))\n",
    "push!(farms, Farm(147.0/100*wp,  factor_σ *14.7/100, 8))\n",
    "push!(farms, Farm(102.0/100*wp,  factor_σ *10.2/100, 11))\n",
    "push!(farms, Farm(105.0/100*wp,  factor_σ *10.5/100, 20))\n",
    "push!(farms, Farm(113.0/100*wp,  factor_σ *11.3/100, 24))\n",
    "push!(farms, Farm(84.0/100*wp,   factor_σ *8.4/100,  26))\n",
    "push!(farms, Farm(59.0/100*wp,   factor_σ * 5.9/100, 31))\n",
    "push!(farms, Farm(250.0/100*wp,  factor_σ *25.0/100, 38))\n",
    "push!(farms, Farm(118.0/100*wp,  factor_σ *11.8/100, 43))\n",
    "push!(farms, Farm(76.0/100*wp,   factor_σ *7.6/100,  49))\n",
    "push!(farms, Farm(72.0/100*wp,   factor_σ *7.2/100,  53))\n",
    "n_farms = length(farms)\n",
    "\n",
    "println(\"bus: \", n_buses)\n",
    "println(\"line: \", n_lines)\n",
    "println(\"gen: \", n_generators)\n",
    "println(\"farm: \", n_farms)\n",
    "\n",
    "\n",
    "for (i,f) in enumerate(farms)\n",
    "    push!(buses[f.bus].farmids, i)\n",
    "end\n",
    "\n",
    "PV = findall(b -> b.kind==:PV, buses)\n",
    "PQ = findall(b -> b.kind==:PQ, buses)\n",
    "REF = findall(b -> b.kind==:Ref, buses)\n",
    "@assert length(REF) == 1\n"
   ]
  },
  {
   "cell_type": "code",
   "execution_count": 5,
   "metadata": {
    "hideCode": false,
    "hidePrompt": false
   },
   "outputs": [
    {
     "name": "stdout",
     "output_type": "stream",
     "text": [
      ">>> Total Deviaton = 1.4477201144585377\n",
      "\n",
      "******************************************************************************\n",
      "This program contains Ipopt, a library for large-scale nonlinear optimization.\n",
      " Ipopt is released as open source code under the Eclipse Public License (EPL).\n",
      "         For more information visit http://projects.coin-or.org/Ipopt\n",
      "******************************************************************************\n",
      "\n",
      "This is Ipopt version 3.12.10, running with linear solver mumps.\n",
      "NOTE: Other linear solvers might be more efficient (see Ipopt documentation).\n",
      "\n",
      "Number of nonzeros in equality constraint Jacobian...:     5156\n",
      "Number of nonzeros in inequality constraint Jacobian.:     1358\n",
      "Number of nonzeros in Lagrangian Hessian.............:     8252\n",
      "\n",
      "Total number of variables............................:     1339\n",
      "                     variables with only lower bounds:      183\n",
      "                variables with lower and upper bounds:      186\n",
      "                     variables with only upper bounds:        0\n",
      "Total number of equality constraints.................:     1167\n",
      "Total number of inequality constraints...............:      825\n",
      "        inequality constraints with only lower bounds:      227\n",
      "   inequality constraints with lower and upper bounds:        0\n",
      "        inequality constraints with only upper bounds:      598\n",
      "\n",
      "iter    objective    inf_pr   inf_du lg(mu)  ||d||  lg(rg) alpha_du alpha_pr  ls\n",
      "   0  0.0000000e+00 3.12e+00 1.00e+02  -1.0 0.00e+00    -  0.00e+00 0.00e+00   0\n",
      "   1  6.1129916e+01 3.12e+00 9.99e+01  -1.0 5.88e+02    -  3.18e-04 5.49e-04h  1\n",
      "   2  9.8388324e+01 3.12e+00 9.99e+01  -1.0 2.13e+02    -  7.05e-04 3.07e-04f  1\n",
      "   3  6.2977151e+02 3.11e+00 1.18e+02  -1.0 8.67e+01   0.0 5.10e-04 4.07e-03f  1\n",
      "   4  6.7464681e+02 3.11e+00 1.18e+02  -1.0 1.87e+01   1.3 5.97e-03 3.75e-04h  1\n",
      "   5  6.7935294e+02 3.11e+00 1.18e+02  -1.0 3.16e+01   0.9 1.86e-03 4.26e-05h  8\n",
      "   6  1.2445879e+03 3.09e+00 1.54e+02  -1.0 2.07e+01   1.3 4.99e-03 4.99e-03s 15\n",
      "   7  1.3619712e+03 3.09e+00 1.53e+02  -1.0 1.07e+01   0.8 1.11e-03 1.11e-03s 15\n",
      "   8  1.3931022e+03 3.09e+00 1.53e+02  -1.0 2.55e+01   1.2 2.80e-04 2.80e-04s 15\n",
      "   9  1.4994385e+03 3.09e+00 1.59e+02  -1.0 3.38e+01   0.7 2.29e-03 0.00e+00S 15\n",
      "iter    objective    inf_pr   inf_du lg(mu)  ||d||  lg(rg) alpha_du alpha_pr  ls\n",
      "  10  1.5190739e+03 3.08e+00 9.03e+02  -1.0 7.91e+01   1.2 4.20e-03 1.82e-04h  1\n",
      "  11  1.7338280e+03 3.08e+00 8.31e+02  -1.0 7.92e+01   0.7 1.00e-03 2.41e-03h  1\n",
      "  12  1.7417292e+03 3.08e+00 8.31e+02  -1.0 4.92e+01   1.1 9.13e-04 7.35e-05h  1\n",
      "  13  1.7986940e+03 3.08e+00 8.16e+02  -1.0 6.31e+01   1.6 4.89e-05 4.71e-04h  1\n",
      "  14  1.9830687e+03 3.07e+00 7.76e+02  -1.0 2.92e+01   2.0 1.23e-03 1.59e-03h  1\n",
      "  15  2.0118364e+03 3.07e+00 7.80e+02  -1.0 2.32e+01   1.5 8.89e-05 2.90e-04h  1\n",
      "  16  2.0337147e+03 3.07e+00 7.35e+02  -1.0 2.40e+01   1.9 2.37e-03 1.95e-04h  1\n",
      "  17  2.2426091e+03 3.06e+00 7.84e+02  -1.0 8.61e+01   1.4 1.07e-05 2.41e-03h  1\n",
      "  18  2.7412843e+03 3.05e+00 8.27e+02  -1.0 1.59e+01   1.9 1.13e-03 4.41e-03h  1\n",
      "  19  3.1565809e+03 3.04e+00 8.56e+02  -1.0 7.42e+00   1.4 5.10e-04 3.78e-03h  1\n",
      "iter    objective    inf_pr   inf_du lg(mu)  ||d||  lg(rg) alpha_du alpha_pr  ls\n",
      "  20  3.2347443e+03 3.03e+00 8.22e+02  -1.0 1.73e+01   0.9 5.15e-03 7.83e-04h  1\n",
      "  21  3.2912554e+03 3.03e+00 7.32e+02  -1.0 2.05e+01   1.3 2.44e-02 5.32e-04h  1\n",
      "  22  3.4682781e+03 3.03e+00 7.26e+02  -1.0 1.04e+02   0.9 1.16e-03 2.28e-03h  2\n",
      "  23  4.4571865e+03 3.00e+00 9.89e+02  -1.0 1.67e+01   1.3 2.41e-02 9.25e-03h  1\n",
      "  24  5.3054666e+03 2.97e+00 9.90e+02  -1.0 9.86e+00   0.8 5.82e-03 8.43e-03h  1\n",
      "  25  5.7898489e+03 2.96e+00 9.85e+02  -1.0 6.90e+00   1.2 5.27e-03 4.82e-03h  1\n",
      "  26  5.8280444e+03 2.96e+00 1.84e+03  -1.0 5.78e+00   2.6 1.68e-02 3.62e-04h  1\n",
      "  27  6.5603951e+03 2.94e+00 1.58e+03  -1.0 7.09e+00   2.1 2.65e-04 7.15e-03h  1\n",
      "  28  6.7673833e+03 2.93e+00 1.58e+03  -1.0 4.92e+00   1.6 1.26e-03 2.14e-03h  1\n",
      "  29  6.7936817e+03 2.93e+00 2.30e+03  -1.0 1.07e+01   2.0 2.02e-02 2.71e-04h  1\n",
      "iter    objective    inf_pr   inf_du lg(mu)  ||d||  lg(rg) alpha_du alpha_pr  ls\n",
      "  30  7.5788513e+03 2.91e+00 1.63e+03  -1.0 1.12e+01   2.5 2.68e-03 7.80e-03h  1\n",
      "  31  8.5503205e+03 2.88e+00 1.77e+03  -1.0 9.28e+00   2.0 1.47e-03 1.07e-02h  1\n",
      "  32  9.3952603e+03 2.85e+00 1.49e+03  -1.0 5.91e+00   1.5 1.87e-02 9.14e-03h  1\n",
      "  33  9.6767685e+03 2.84e+00 1.30e+03  -1.0 2.80e+00   1.9 4.59e-02 2.94e-03h  1\n",
      "  34  1.2418133e+04 2.76e+00 1.43e+03  -1.0 6.26e+00   1.5 4.49e-04 3.01e-02h  1\n",
      "  35  1.3618859e+04 2.72e+00 1.32e+03  -1.0 1.71e+00   1.9 4.14e-02 1.30e-02h  1\n",
      "  36  1.7298007e+04 2.61e+00 1.37e+03  -1.0 2.65e+00   1.4 3.56e-03 4.10e-02h  1\n",
      "  37  1.9795193e+04 2.53e+00 1.38e+03  -1.0 2.77e+00   0.9 8.30e-03 2.96e-02h  1\n",
      "  38  2.0468775e+04 2.51e+00 1.37e+03  -1.0 5.43e+00   0.5 5.10e-03 8.70e-03h  1\n",
      "  39  2.2454706e+04 2.45e+00 1.32e+03  -1.0 2.00e+00   0.9 3.41e-02 2.43e-02h  1\n",
      "iter    objective    inf_pr   inf_du lg(mu)  ||d||  lg(rg) alpha_du alpha_pr  ls\n",
      "  40  2.2624645e+04 2.44e+00 1.24e+03  -1.0 3.38e+00   0.4 4.56e-02 2.33e-03h  1\n",
      "  41  2.5118329e+04 2.36e+00 1.21e+03  -1.0 2.26e+00   0.8 2.38e-02 3.21e-02h  1\n",
      "  42  3.1320563e+04 2.16e+00 1.22e+03  -1.0 3.32e+00   0.4 1.61e-02 8.79e-02h  1\n",
      "  43  3.3941806e+04 2.06e+00 1.18e+03  -1.0 5.80e+00  -0.1 3.44e-02 4.39e-02h  1\n",
      "  44  3.7132312e+04 1.94e+00 1.17e+03  -1.0 5.31e+00    -  1.54e-02 5.75e-02h  1\n",
      "  45  4.3838715e+04 1.72e+00 1.01e+03  -1.0 2.63e+00   0.3 1.33e-01 1.16e-01h  1\n",
      "  46  5.0655193e+04 1.46e+00 9.70e+02  -1.0 3.70e+00    -  4.41e-02 1.48e-01h  1\n",
      "  47  5.5109540e+04 1.30e+00 7.30e+02  -1.0 6.23e+00    -  2.44e-01 1.14e-01h  1\n",
      "  48  6.3631875e+04 9.97e-01 6.61e+02  -1.0 2.98e+00    -  9.92e-02 2.32e-01h  1\n",
      "  49  7.0294313e+04 7.74e-01 4.67e+02  -1.0 2.92e+00    -  2.91e-01 2.24e-01h  1\n",
      "iter    objective    inf_pr   inf_du lg(mu)  ||d||  lg(rg) alpha_du alpha_pr  ls\n",
      "  50  7.9454671e+04 4.89e-01 3.40e+02  -1.0 2.58e+00    -  2.75e-01 3.68e-01h  1\n",
      "  51  8.8466666e+04 2.26e-01 2.69e+02  -1.0 2.02e+00    -  2.17e-01 5.37e-01h  1\n",
      "  52  9.4170556e+04 6.79e-02 1.78e+02  -1.0 1.20e+00    -  3.43e-01 7.00e-01h  1\n",
      "  53  9.6501353e+04 3.14e-02 1.41e+02  -1.0 1.24e+00    -  2.11e-01 1.00e+00h  1\n",
      "  54  9.6375803e+04 5.77e-03 8.52e+01  -1.0 1.04e+00    -  3.96e-01 1.00e+00f  1\n",
      "  55  9.5312511e+04 6.00e-03 8.01e+01  -1.0 2.53e+00    -  2.99e-02 3.62e-01f  1\n",
      "  56  9.4138804e+04 2.53e-02 5.30e+01  -1.0 1.48e+00    -  2.77e-01 7.89e-01f  1\n",
      "  57  9.3831881e+04 8.21e-03 4.18e+01  -1.0 1.27e+00    -  2.02e-01 7.33e-01f  1\n",
      "  58  9.3400475e+04 7.33e-03 3.36e+01  -1.0 3.40e+00    -  2.44e-01 1.14e-01f  1\n",
      "  59  9.1711546e+04 1.47e-02 1.60e+01  -1.0 2.49e+00    -  1.00e-01 5.22e-01f  1\n",
      "iter    objective    inf_pr   inf_du lg(mu)  ||d||  lg(rg) alpha_du alpha_pr  ls\n",
      "  60  9.1413131e+04 1.87e-01 7.59e+00  -1.0 3.17e+00    -  7.79e-01 5.25e-01f  1\n",
      "  61  9.1416534e+04 1.45e-01 4.77e+00  -1.0 8.85e-01    -  8.27e-01 4.54e-01h  1\n",
      "  62  9.1462087e+04 2.42e-03 6.01e-01  -1.0 6.66e-01    -  1.00e+00 1.00e+00h  1\n",
      "  63  9.1262903e+04 2.01e-03 6.41e-01  -1.7 3.57e-01    -  9.17e-01 7.47e-01f  1\n",
      "  64  9.1182955e+04 1.49e-03 2.45e+00  -1.7 2.17e-01    -  1.00e+00 7.17e-01f  1\n",
      "  65  9.1160201e+04 2.07e-04 7.65e-03  -1.7 1.71e-01    -  1.00e+00 1.00e+00f  1\n",
      "  66  9.1108503e+04 5.40e-04 1.86e+00  -3.8 2.24e-01    -  8.26e-01 6.56e-01f  1\n",
      "  67  9.1086262e+04 1.69e-04 3.26e-01  -3.8 2.36e-01    -  8.59e-01 8.49e-01f  1\n",
      "  68  9.1083322e+04 4.76e-05 3.13e-03  -3.8 7.73e-02    -  1.00e+00 1.00e+00h  1\n",
      "  69  9.1083472e+04 2.75e-06 3.14e-04  -3.8 1.86e-02    -  1.00e+00 1.00e+00h  1\n",
      "iter    objective    inf_pr   inf_du lg(mu)  ||d||  lg(rg) alpha_du alpha_pr  ls\n",
      "  70  9.1082949e+04 1.45e-06 3.79e-04  -5.7 1.18e-02    -  9.81e-01 9.82e-01h  1\n",
      "  71  9.1082937e+04 2.06e-07 3.20e-05  -5.7 5.04e-03    -  1.00e+00 1.00e+00h  1\n",
      "  72  9.1082937e+04 4.24e-08 6.90e-06  -5.7 1.96e-03    -  1.00e+00 1.00e+00h  1\n",
      "  73  9.1082930e+04 1.67e-08 4.78e-05  -8.6 1.20e-03    -  9.97e-01 1.00e+00h  1\n",
      "  74  9.1082930e+04 3.76e-09 5.92e-07  -8.6 5.86e-04    -  1.00e+00 1.00e+00h  1\n",
      "  75  9.1082930e+04 6.77e-10 1.06e-07  -8.6 2.48e-04    -  1.00e+00 1.00e+00h  1\n",
      "  76  9.1082930e+04 5.21e-11 8.17e-09  -8.6 6.89e-05    -  1.00e+00 1.00e+00h  1\n",
      "\n",
      "Number of Iterations....: 76\n",
      "\n",
      "                                   (scaled)                 (unscaled)\n",
      "Objective...............:   2.2770732461562216e+03    9.1082929846248851e+04\n",
      "Dual infeasibility......:   8.1674136387885379e-09    3.2669654555154153e-07\n",
      "Constraint violation....:   5.2093246383222436e-11    5.2093246383222436e-11\n",
      "Complementarity.........:   6.4916789087357805e-09    2.5966715634943122e-07\n",
      "Overall NLP error.......:   8.1674136387885379e-09    3.2669654555154153e-07\n",
      "\n",
      "\n",
      "Number of objective function evaluations             = 100\n",
      "Number of objective gradient evaluations             = 77\n",
      "Number of equality constraint evaluations            = 100\n",
      "Number of inequality constraint evaluations          = 100\n",
      "Number of equality constraint Jacobian evaluations   = 77\n",
      "Number of inequality constraint Jacobian evaluations = 77\n",
      "Number of Lagrangian Hessian evaluations             = 76\n",
      "Total CPU secs in IPOPT (w/o function evaluations)   =      3.751\n",
      "Total CPU secs in NLP function evaluations           =      1.727\n",
      "\n",
      "EXIT: Optimal Solution Found.\n"
     ]
    },
    {
     "data": {
      "text/plain": [
       "19.240453599"
      ]
     },
     "execution_count": 5,
     "metadata": {},
     "output_type": "execute_result"
    }
   ],
   "source": [
    "settings = Dict(\n",
    "    \"ϵ\" => 0.01,\n",
    "    \"theta_u\" => 180,\n",
    ")\n",
    "m_det = build_ac_opf(thermalLimitscale, generators, buses, lines, farms, settings);\n",
    "\n",
    "solvetime = @elapsed optimize!(m_det)"
   ]
  },
  {
   "cell_type": "code",
   "execution_count": 6,
   "metadata": {},
   "outputs": [
    {
     "data": {
      "text/plain": [
       "91082.92984624885"
      ]
     },
     "execution_count": 6,
     "metadata": {},
     "output_type": "execute_result"
    }
   ],
   "source": [
    "objective_value(m_det)"
   ]
  },
  {
   "cell_type": "code",
   "execution_count": 13,
   "metadata": {
    "hideCode": false,
    "hidePrompt": false
   },
   "outputs": [
    {
     "name": "stdout",
     "output_type": "stream",
     "text": [
      "MOSEK warning 705: #26 (nearly) zero elements are specified in sparse row ''(11723) of matrix 'A'.\n",
      "MOSEK warning 705: #25 (nearly) zero elements are specified in sparse row ''(11724) of matrix 'A'.\n",
      "MOSEK warning 705: #25 (nearly) zero elements are specified in sparse row ''(11725) of matrix 'A'.\n",
      "MOSEK warning 705: #26 (nearly) zero elements are specified in sparse row ''(11726) of matrix 'A'.\n",
      "MOSEK warning 705: #25 (nearly) zero elements are specified in sparse row ''(11727) of matrix 'A'.\n",
      "MOSEK warning 705: #25 (nearly) zero elements are specified in sparse row ''(11728) of matrix 'A'.\n",
      "MOSEK warning 705: #25 (nearly) zero elements are specified in sparse row ''(11729) of matrix 'A'.\n",
      "MOSEK warning 705: #25 (nearly) zero elements are specified in sparse row ''(11730) of matrix 'A'.\n",
      "MOSEK warning 705: #25 (nearly) zero elements are specified in sparse row ''(11731) of matrix 'A'.\n",
      "MOSEK warning 705: #25 (nearly) zero elements are specified in sparse row ''(11732) of matrix 'A'.\n"
     ]
    },
    {
     "data": {
      "text/plain": [
       "SLOW_PROGRESS::TerminationStatusCode = 19"
      ]
     },
     "execution_count": 13,
     "metadata": {},
     "output_type": "execute_result"
    }
   ],
   "source": [
    "include(\"model_definitions.jl\")\n",
    "# var_penalty = Dict(\"p_G\" => 100, \"q_G\" => 100, \"v\" => 100, \"f_p\" => 100, \"f_q\" => 100)\n",
    "var_penalty = Dict(\"p_G\" => 0, \"q_G\" => 0, \"v\" => 0, \"f_p\" => 0, \"f_q\" => 0)\n",
    "\n",
    "settings = Dict(\n",
    "    \"ϵ\" => 0.01,\n",
    "    \"theta_u\" => 180,\n",
    "    \"alpha_mod\" => \"split\",\n",
    "    \"var_penalty\" => var_penalty,\n",
    "    \"run_type\" => \"full_cc\", # det, gen_cc, full_cc\n",
    ")\n",
    "\n",
    "m_cc, meta = build_ac_cc_opf(generators, buses, lines, farms, settings, m_det; print_output=false);\n",
    "solvetime_cc = @elapsed optimize!(m_cc)\n",
    "termination_status(m_cc)"
   ]
  },
  {
   "cell_type": "code",
   "execution_count": 15,
   "metadata": {},
   "outputs": [
    {
     "name": "stdout",
     "output_type": "stream",
     "text": [
      "92387.83732570862\n"
     ]
    },
    {
     "data": {
      "text/plain": [
       "11-element Array{Float64,1}:\n",
       " 0.9393980753352086\n",
       " 1.0195792166877344\n",
       " 0.98460591844448  \n",
       " 1.0437901802167864\n",
       " 0.9919004084005948\n",
       " 0.9898855318051123\n",
       " 0.992417873137231 \n",
       " 1.0009193092990505\n",
       " 1.002230945480472 \n",
       " 1.003378022419564 \n",
       " 0.9988246277032211"
      ]
     },
     "execution_count": 15,
     "metadata": {},
     "output_type": "execute_result"
    }
   ],
   "source": [
    "# Show alpha sum for sanity check\n",
    "println(objective_value(m_cc))\n",
    "\n",
    "if length(size((m_cc[:α]))) == 1\n",
    "    sum(value.(m_cc[:α]))\n",
    "else\n",
    "    [sum(value.(m_cc[:α])[:,i]) for i in 1:size(m_cc[:α])[2]]\n",
    "end"
   ]
  },
  {
   "cell_type": "code",
   "execution_count": 16,
   "metadata": {},
   "outputs": [
    {
     "name": "stdout",
     "output_type": "stream",
     "text": [
      "minimum(value.(m_cc[:α])) = -0.024220730970527644\n",
      "maximum(value.(m_cc[:α])) = 1.0705232316132451\n"
     ]
    },
    {
     "data": {
      "text/plain": [
       "1.0705232316132451"
      ]
     },
     "execution_count": 16,
     "metadata": {},
     "output_type": "execute_result"
    }
   ],
   "source": [
    "@show minimum(value.(m_cc[:α]))\n",
    "@show maximum(value.(m_cc[:α]))"
   ]
  },
  {
   "cell_type": "code",
   "execution_count": 17,
   "metadata": {},
   "outputs": [
    {
     "data": {
      "text/html": [
       "<table class=\"data-frame\"><thead><tr><th></th><th>bus</th><th>btype</th><th>haswind</th><th>gp</th><th>gq</th><th>v</th><th>alpha</th><th>std_v</th><th>std_q_G</th><th>std_p_G</th><th>lambda_p</th><th>lambda_q</th><th>gamma</th><th>delta_p_plus</th><th>delta_p_minus</th><th>delta_p_det_plus</th><th>delta_p_det_minus</th><th>mu_v_p</th><th>mu_v_m</th></tr><tr><th></th><th>Int64</th><th>String</th><th>Bool</th><th>Real</th><th>Real</th><th>Float64</th><th>Float64</th><th>Float64</th><th>Float64</th><th>Real</th><th>Float64</th><th>Float64</th><th>Float64</th><th>Real</th><th>Real</th><th>Real</th><th>Real</th><th>Float64</th><th>Float64</th></tr></thead><tbody><p>118 rows × 19 columns</p><tr><th>1</th><td>1</td><td>PV</td><td>false</td><td>-1.3632e-5</td><td>0.0500107</td><td>1.03124</td><td>0.0</td><td>0.0</td><td>0.0429883</td><td>-1.7699e-7</td><td>-3138.57</td><td>-15.4535</td><td>0.0</td><td>-0.000331583</td><td>-189.783</td><td>-671.64</td><td>-0.0003287</td><td>-0.0115848</td><td>-0.00365016</td></tr><tr><th>2</th><td>2</td><td>PQ</td><td>false</td><td>0</td><td>0</td><td>1.03222</td><td>0.0</td><td>0.00763577</td><td>0.0</td><td>0</td><td>-3183.49</td><td>-11.1244</td><td>0.0</td><td>0</td><td>0</td><td>0</td><td>0</td><td>-0.0315288</td><td>-0.00455829</td></tr><tr><th>3</th><td>3</td><td>PQ</td><td>true</td><td>0</td><td>0</td><td>1.04738</td><td>0.0</td><td>0.003711</td><td>0.0</td><td>0</td><td>-3078.32</td><td>-6.45776</td><td>-0.66208</td><td>0</td><td>0</td><td>0</td><td>0</td><td>-0.0721386</td><td>-0.00334557</td></tr><tr><th>4</th><td>4</td><td>PV</td><td>false</td><td>-1.39788e-5</td><td>1.97702</td><td>1.06001</td><td>0.0</td><td>0.0</td><td>0.282726</td><td>-4.84706e-7</td><td>-2967.42</td><td>-0.00119376</td><td>0.0</td><td>-0.000331006</td><td>-167.794</td><td>-864.787</td><td>-0.000327025</td><td>-1395.76</td><td>-0.00275659</td></tr><tr><th>5</th><td>5</td><td>PQ</td><td>false</td><td>0</td><td>0</td><td>1.04855</td><td>0.0</td><td>0.00323761</td><td>0.0</td><td>0</td><td>-2949.47</td><td>-13.4229</td><td>0.0</td><td>0</td><td>0</td><td>0</td><td>0</td><td>-0.0827189</td><td>-0.00322773</td></tr><tr><th>6</th><td>6</td><td>PV</td><td>false</td><td>-1.37659e-5</td><td>0.497718</td><td>1.04788</td><td>0.0</td><td>0.0</td><td>0.000960855</td><td>-2.75325e-7</td><td>-3090.72</td><td>-4.6133</td><td>0.0</td><td>-0.000331242</td><td>-183.088</td><td>-726.187</td><td>-0.000327752</td><td>-0.0294071</td><td>-0.00304993</td></tr><tr><th>7</th><td>7</td><td>PQ</td><td>false</td><td>0</td><td>0</td><td>1.04518</td><td>0.0</td><td>0.00417897</td><td>0.0</td><td>0</td><td>-3130.45</td><td>-3.83158</td><td>0.0</td><td>0</td><td>0</td><td>0</td><td>0</td><td>-0.0673034</td><td>-0.00340879</td></tr><tr><th>8</th><td>8</td><td>PV</td><td>true</td><td>-1.42412e-5</td><td>-2.68882</td><td>0.997063</td><td>0.0</td><td>0.0</td><td>0.0937228</td><td>-8.5814e-7</td><td>-2791.41</td><td>-0.00317415</td><td>-30.2441</td><td>-0.000330442</td><td>-131.944</td><td>-1076.65</td><td>-0.000327006</td><td>-0.00540315</td><td>-0.0057267</td></tr><tr><th>9</th><td>9</td><td>PQ</td><td>false</td><td>0</td><td>0</td><td>1.01573</td><td>0.0</td><td>0.0113232</td><td>0.0</td><td>0</td><td>-2768.98</td><td>-7.26771</td><td>0.0</td><td>0</td><td>0</td><td>0</td><td>0</td><td>-0.0189716</td><td>-0.00637107</td></tr><tr><th>10</th><td>10</td><td>PV</td><td>false</td><td>1.67761</td><td>-1.22311</td><td>0.999095</td><td>0.0</td><td>0.0</td><td>0.0697958</td><td>0.481528</td><td>-2745.6</td><td>-0.00359831</td><td>0.0</td><td>-0.000121927</td><td>-0.000587483</td><td>-0.000362553</td><td>-0.000110103</td><td>-0.00579603</td><td>-0.00542144</td></tr><tr><th>11</th><td>11</td><td>PQ</td><td>true</td><td>0</td><td>0</td><td>1.04306</td><td>0.0</td><td>0.00477658</td><td>0.0</td><td>0</td><td>-3121.57</td><td>-0.408858</td><td>-0.492664</td><td>0</td><td>0</td><td>0</td><td>0</td><td>-0.0507811</td><td>-0.00357076</td></tr><tr><th>12</th><td>12</td><td>PV</td><td>false</td><td>0.504503</td><td>0.563794</td><td>1.04129</td><td>0.0</td><td>0.0</td><td>0.14444</td><td>0.1378</td><td>-3187.06</td><td>-0.000603284</td><td>0.0</td><td>-0.000325633</td><td>-0.00180589</td><td>-0.00120079</td><td>-0.000299508</td><td>-0.0119626</td><td>-0.0</td></tr><tr><th>13</th><td>13</td><td>PQ</td><td>false</td><td>0</td><td>0</td><td>1.01433</td><td>0.0</td><td>0.0115049</td><td>0.0</td><td>0</td><td>-3331.56</td><td>-5.29478</td><td>0.0</td><td>0</td><td>0</td><td>0</td><td>0</td><td>-0.0173672</td><td>-0.00690062</td></tr><tr><th>14</th><td>14</td><td>PQ</td><td>false</td><td>0</td><td>0</td><td>1.02402</td><td>0.0</td><td>0.00955698</td><td>0.0</td><td>0</td><td>-3382.56</td><td>-15.8415</td><td>0.0</td><td>0</td><td>0</td><td>0</td><td>0</td><td>-0.0226866</td><td>-0.00587655</td></tr><tr><th>15</th><td>15</td><td>PV</td><td>false</td><td>2.95585e-5</td><td>-0.0800719</td><td>0.979094</td><td>0.0</td><td>0.0</td><td>0.00857675</td><td>1.78424e-5</td><td>-3871.77</td><td>-71.1644</td><td>0.0</td><td>-0.000331766</td><td>-112.492</td><td>-15.7391</td><td>-0.00032837</td><td>-0.00422806</td><td>-0.00857268</td></tr><tr><th>16</th><td>16</td><td>PQ</td><td>false</td><td>0</td><td>0</td><td>1.01651</td><td>0.0</td><td>0.0110409</td><td>0.0</td><td>0</td><td>-3347.55</td><td>-5.69166</td><td>0.0</td><td>0</td><td>0</td><td>0</td><td>0</td><td>-0.0177963</td><td>-0.0070866</td></tr><tr><th>17</th><td>17</td><td>PQ</td><td>false</td><td>0</td><td>0</td><td>0.98814</td><td>0.0</td><td>0.011662</td><td>0.0</td><td>0</td><td>-3618.71</td><td>-40.4895</td><td>0.0</td><td>0</td><td>0</td><td>0</td><td>0</td><td>-0.00769212</td><td>-0.0157836</td></tr><tr><th>18</th><td>18</td><td>PV</td><td>false</td><td>0.029866</td><td>-0.152988</td><td>0.966434</td><td>0.0</td><td>0.0</td><td>0.00302472</td><td>0.0128419</td><td>-3951.86</td><td>-87.6194</td><td>0.0</td><td>-0.000345851</td><td>-54.0558</td><td>-0.0572163</td><td>-0.00033954</td><td>-0.00368062</td><td>-0.0127553</td></tr><tr><th>19</th><td>19</td><td>PV</td><td>false</td><td>0.900462</td><td>-0.01664</td><td>0.977623</td><td>0.0</td><td>0.0</td><td>0.0272475</td><td>0.0427884</td><td>-4226.65</td><td>-147.143</td><td>0.0</td><td>-46.5569</td><td>-0.000535028</td><td>-0.00424598</td><td>-0.0118766</td><td>-0.00415953</td><td>-0.00891786</td></tr><tr><th>20</th><td>20</td><td>PQ</td><td>true</td><td>0</td><td>0</td><td>0.995112</td><td>0.0</td><td>0.0125394</td><td>0.0</td><td>0</td><td>-4034.98</td><td>-236.627</td><td>-178.092</td><td>0</td><td>0</td><td>0</td><td>0</td><td>-0.00942443</td><td>-0.0129027</td></tr><tr><th>21</th><td>21</td><td>PQ</td><td>false</td><td>0</td><td>0</td><td>0.991097</td><td>0.0</td><td>0.0121807</td><td>0.0</td><td>0</td><td>-2552.7</td><td>-189.078</td><td>0.0</td><td>0</td><td>0</td><td>0</td><td>0</td><td>-0.0083652</td><td>-0.0143839</td></tr><tr><th>22</th><td>22</td><td>PQ</td><td>false</td><td>0</td><td>0</td><td>0.99641</td><td>0.0</td><td>0.0127171</td><td>0.0</td><td>0</td><td>-824.39</td><td>-144.877</td><td>0.0</td><td>0</td><td>0</td><td>0</td><td>0</td><td>-0.0102447</td><td>-0.0118602</td></tr><tr><th>23</th><td>23</td><td>PQ</td><td>false</td><td>0</td><td>0</td><td>1.01224</td><td>0.0</td><td>0.0119763</td><td>0.0</td><td>0</td><td>-2003.58</td><td>-28.8754</td><td>0.0</td><td>0</td><td>0</td><td>0</td><td>0</td><td>-0.0181925</td><td>-0.00700577</td></tr><tr><th>24</th><td>24</td><td>PV</td><td>true</td><td>-1.42961e-5</td><td>-1.78124</td><td>0.982909</td><td>0.0</td><td>0.0</td><td>0.337491</td><td>-5.43026e-8</td><td>-2219.31</td><td>-0.000643806</td><td>-0.699719</td><td>-0.000330628</td><td>-583.777</td><td>-1196.91</td><td>-0.000326929</td><td>-0.0133776</td><td>-0.00725265</td></tr><tr><th>25</th><td>25</td><td>PV</td><td>false</td><td>0.620099</td><td>-0.408474</td><td>1.06001</td><td>0.0</td><td>0.0</td><td>0.0264574</td><td>0.237883</td><td>-2563.71</td><td>-54.4929</td><td>0.0</td><td>-0.000168115</td><td>-0.00693414</td><td>-0.000997133</td><td>-0.00014942</td><td>-242.632</td><td>-0.00275475</td></tr><tr><th>26</th><td>26</td><td>PV</td><td>true</td><td>1.29888</td><td>-3.33136</td><td>1.04102</td><td>0.0</td><td>0.0</td><td>1.68593</td><td>0.351493</td><td>-2827.3</td><td>-8.39266e-5</td><td>-0.607358</td><td>-0.000165863</td><td>-0.000671493</td><td>-0.000455163</td><td>-0.000151698</td><td>-0.0172128</td><td>-0.0032934</td></tr><tr><th>27</th><td>27</td><td>PV</td><td>false</td><td>-1.41576e-5</td><td>1.90088</td><td>1.05581</td><td>0.0</td><td>0.0</td><td>0.306696</td><td>-9.05552e-7</td><td>-2867.6</td><td>-0.000747982</td><td>0.0</td><td>-0.000330896</td><td>-135.446</td><td>-996.95</td><td>-0.000327316</td><td>-3.46344</td><td>-0.0028895</td></tr><tr><th>28</th><td>28</td><td>PQ</td><td>false</td><td>0</td><td>0</td><td>1.00254</td><td>0.0</td><td>0.0126528</td><td>0.0</td><td>0</td><td>-2975.12</td><td>-7.32762</td><td>0.0</td><td>0</td><td>0</td><td>0</td><td>0</td><td>-0.0121678</td><td>-0.00977846</td></tr><tr><th>29</th><td>29</td><td>PQ</td><td>false</td><td>0</td><td>0</td><td>0.953017</td><td>0.0</td><td>0.00349553</td><td>0.0</td><td>0</td><td>-3071.78</td><td>-5.0747</td><td>0.0</td><td>0</td><td>0</td><td>0</td><td>0</td><td>-0.00381526</td><td>-0.0659113</td></tr><tr><th>30</th><td>30</td><td>PQ</td><td>false</td><td>0</td><td>0</td><td>0.992666</td><td>0.0</td><td>0.0123445</td><td>0.0</td><td>0</td><td>-3554.72</td><td>-7.80135</td><td>0.0</td><td>0</td><td>0</td><td>0</td><td>0</td><td>-0.00874485</td><td>-0.0136065</td></tr><tr><th>&vellip;</th><td>&vellip;</td><td>&vellip;</td><td>&vellip;</td><td>&vellip;</td><td>&vellip;</td><td>&vellip;</td><td>&vellip;</td><td>&vellip;</td><td>&vellip;</td><td>&vellip;</td><td>&vellip;</td><td>&vellip;</td><td>&vellip;</td><td>&vellip;</td><td>&vellip;</td><td>&vellip;</td><td>&vellip;</td><td>&vellip;</td><td>&vellip;</td></tr></tbody></table>"
      ],
      "text/latex": [
       "\\begin{tabular}{r|ccccccccccccccccccc}\n",
       "\t& bus & btype & haswind & gp & gq & v & alpha & std\\_v & std\\_q\\_G & std\\_p\\_G & lambda\\_p & lambda\\_q & gamma & delta\\_p\\_plus & delta\\_p\\_minus & delta\\_p\\_det\\_plus & delta\\_p\\_det\\_minus & mu\\_v\\_p & mu\\_v\\_m\\\\\n",
       "\t\\hline\n",
       "\t& Int64 & String & Bool & Real & Real & Float64 & Float64 & Float64 & Float64 & Real & Float64 & Float64 & Float64 & Real & Real & Real & Real & Float64 & Float64\\\\\n",
       "\t\\hline\n",
       "\t1 & 1 & PV & false & -1.3632e-5 & 0.0500107 & 1.03124 & 0.0 & 0.0 & 0.0429883 & -1.7699e-7 & -3138.57 & -15.4535 & 0.0 & -0.000331583 & -189.783 & -671.64 & -0.0003287 & -0.0115848 & -0.00365016 \\\\\n",
       "\t2 & 2 & PQ & false & 0 & 0 & 1.03222 & 0.0 & 0.00763577 & 0.0 & 0 & -3183.49 & -11.1244 & 0.0 & 0 & 0 & 0 & 0 & -0.0315288 & -0.00455829 \\\\\n",
       "\t3 & 3 & PQ & true & 0 & 0 & 1.04738 & 0.0 & 0.003711 & 0.0 & 0 & -3078.32 & -6.45776 & -0.66208 & 0 & 0 & 0 & 0 & -0.0721386 & -0.00334557 \\\\\n",
       "\t4 & 4 & PV & false & -1.39788e-5 & 1.97702 & 1.06001 & 0.0 & 0.0 & 0.282726 & -4.84706e-7 & -2967.42 & -0.00119376 & 0.0 & -0.000331006 & -167.794 & -864.787 & -0.000327025 & -1395.76 & -0.00275659 \\\\\n",
       "\t5 & 5 & PQ & false & 0 & 0 & 1.04855 & 0.0 & 0.00323761 & 0.0 & 0 & -2949.47 & -13.4229 & 0.0 & 0 & 0 & 0 & 0 & -0.0827189 & -0.00322773 \\\\\n",
       "\t6 & 6 & PV & false & -1.37659e-5 & 0.497718 & 1.04788 & 0.0 & 0.0 & 0.000960855 & -2.75325e-7 & -3090.72 & -4.6133 & 0.0 & -0.000331242 & -183.088 & -726.187 & -0.000327752 & -0.0294071 & -0.00304993 \\\\\n",
       "\t7 & 7 & PQ & false & 0 & 0 & 1.04518 & 0.0 & 0.00417897 & 0.0 & 0 & -3130.45 & -3.83158 & 0.0 & 0 & 0 & 0 & 0 & -0.0673034 & -0.00340879 \\\\\n",
       "\t8 & 8 & PV & true & -1.42412e-5 & -2.68882 & 0.997063 & 0.0 & 0.0 & 0.0937228 & -8.5814e-7 & -2791.41 & -0.00317415 & -30.2441 & -0.000330442 & -131.944 & -1076.65 & -0.000327006 & -0.00540315 & -0.0057267 \\\\\n",
       "\t9 & 9 & PQ & false & 0 & 0 & 1.01573 & 0.0 & 0.0113232 & 0.0 & 0 & -2768.98 & -7.26771 & 0.0 & 0 & 0 & 0 & 0 & -0.0189716 & -0.00637107 \\\\\n",
       "\t10 & 10 & PV & false & 1.67761 & -1.22311 & 0.999095 & 0.0 & 0.0 & 0.0697958 & 0.481528 & -2745.6 & -0.00359831 & 0.0 & -0.000121927 & -0.000587483 & -0.000362553 & -0.000110103 & -0.00579603 & -0.00542144 \\\\\n",
       "\t11 & 11 & PQ & true & 0 & 0 & 1.04306 & 0.0 & 0.00477658 & 0.0 & 0 & -3121.57 & -0.408858 & -0.492664 & 0 & 0 & 0 & 0 & -0.0507811 & -0.00357076 \\\\\n",
       "\t12 & 12 & PV & false & 0.504503 & 0.563794 & 1.04129 & 0.0 & 0.0 & 0.14444 & 0.1378 & -3187.06 & -0.000603284 & 0.0 & -0.000325633 & -0.00180589 & -0.00120079 & -0.000299508 & -0.0119626 & -0.0 \\\\\n",
       "\t13 & 13 & PQ & false & 0 & 0 & 1.01433 & 0.0 & 0.0115049 & 0.0 & 0 & -3331.56 & -5.29478 & 0.0 & 0 & 0 & 0 & 0 & -0.0173672 & -0.00690062 \\\\\n",
       "\t14 & 14 & PQ & false & 0 & 0 & 1.02402 & 0.0 & 0.00955698 & 0.0 & 0 & -3382.56 & -15.8415 & 0.0 & 0 & 0 & 0 & 0 & -0.0226866 & -0.00587655 \\\\\n",
       "\t15 & 15 & PV & false & 2.95585e-5 & -0.0800719 & 0.979094 & 0.0 & 0.0 & 0.00857675 & 1.78424e-5 & -3871.77 & -71.1644 & 0.0 & -0.000331766 & -112.492 & -15.7391 & -0.00032837 & -0.00422806 & -0.00857268 \\\\\n",
       "\t16 & 16 & PQ & false & 0 & 0 & 1.01651 & 0.0 & 0.0110409 & 0.0 & 0 & -3347.55 & -5.69166 & 0.0 & 0 & 0 & 0 & 0 & -0.0177963 & -0.0070866 \\\\\n",
       "\t17 & 17 & PQ & false & 0 & 0 & 0.98814 & 0.0 & 0.011662 & 0.0 & 0 & -3618.71 & -40.4895 & 0.0 & 0 & 0 & 0 & 0 & -0.00769212 & -0.0157836 \\\\\n",
       "\t18 & 18 & PV & false & 0.029866 & -0.152988 & 0.966434 & 0.0 & 0.0 & 0.00302472 & 0.0128419 & -3951.86 & -87.6194 & 0.0 & -0.000345851 & -54.0558 & -0.0572163 & -0.00033954 & -0.00368062 & -0.0127553 \\\\\n",
       "\t19 & 19 & PV & false & 0.900462 & -0.01664 & 0.977623 & 0.0 & 0.0 & 0.0272475 & 0.0427884 & -4226.65 & -147.143 & 0.0 & -46.5569 & -0.000535028 & -0.00424598 & -0.0118766 & -0.00415953 & -0.00891786 \\\\\n",
       "\t20 & 20 & PQ & true & 0 & 0 & 0.995112 & 0.0 & 0.0125394 & 0.0 & 0 & -4034.98 & -236.627 & -178.092 & 0 & 0 & 0 & 0 & -0.00942443 & -0.0129027 \\\\\n",
       "\t21 & 21 & PQ & false & 0 & 0 & 0.991097 & 0.0 & 0.0121807 & 0.0 & 0 & -2552.7 & -189.078 & 0.0 & 0 & 0 & 0 & 0 & -0.0083652 & -0.0143839 \\\\\n",
       "\t22 & 22 & PQ & false & 0 & 0 & 0.99641 & 0.0 & 0.0127171 & 0.0 & 0 & -824.39 & -144.877 & 0.0 & 0 & 0 & 0 & 0 & -0.0102447 & -0.0118602 \\\\\n",
       "\t23 & 23 & PQ & false & 0 & 0 & 1.01224 & 0.0 & 0.0119763 & 0.0 & 0 & -2003.58 & -28.8754 & 0.0 & 0 & 0 & 0 & 0 & -0.0181925 & -0.00700577 \\\\\n",
       "\t24 & 24 & PV & true & -1.42961e-5 & -1.78124 & 0.982909 & 0.0 & 0.0 & 0.337491 & -5.43026e-8 & -2219.31 & -0.000643806 & -0.699719 & -0.000330628 & -583.777 & -1196.91 & -0.000326929 & -0.0133776 & -0.00725265 \\\\\n",
       "\t25 & 25 & PV & false & 0.620099 & -0.408474 & 1.06001 & 0.0 & 0.0 & 0.0264574 & 0.237883 & -2563.71 & -54.4929 & 0.0 & -0.000168115 & -0.00693414 & -0.000997133 & -0.00014942 & -242.632 & -0.00275475 \\\\\n",
       "\t26 & 26 & PV & true & 1.29888 & -3.33136 & 1.04102 & 0.0 & 0.0 & 1.68593 & 0.351493 & -2827.3 & -8.39266e-5 & -0.607358 & -0.000165863 & -0.000671493 & -0.000455163 & -0.000151698 & -0.0172128 & -0.0032934 \\\\\n",
       "\t27 & 27 & PV & false & -1.41576e-5 & 1.90088 & 1.05581 & 0.0 & 0.0 & 0.306696 & -9.05552e-7 & -2867.6 & -0.000747982 & 0.0 & -0.000330896 & -135.446 & -996.95 & -0.000327316 & -3.46344 & -0.0028895 \\\\\n",
       "\t28 & 28 & PQ & false & 0 & 0 & 1.00254 & 0.0 & 0.0126528 & 0.0 & 0 & -2975.12 & -7.32762 & 0.0 & 0 & 0 & 0 & 0 & -0.0121678 & -0.00977846 \\\\\n",
       "\t29 & 29 & PQ & false & 0 & 0 & 0.953017 & 0.0 & 0.00349553 & 0.0 & 0 & -3071.78 & -5.0747 & 0.0 & 0 & 0 & 0 & 0 & -0.00381526 & -0.0659113 \\\\\n",
       "\t30 & 30 & PQ & false & 0 & 0 & 0.992666 & 0.0 & 0.0123445 & 0.0 & 0 & -3554.72 & -7.80135 & 0.0 & 0 & 0 & 0 & 0 & -0.00874485 & -0.0136065 \\\\\n",
       "\t$\\dots$ & $\\dots$ & $\\dots$ & $\\dots$ & $\\dots$ & $\\dots$ & $\\dots$ & $\\dots$ & $\\dots$ & $\\dots$ & $\\dots$ & $\\dots$ & $\\dots$ & $\\dots$ & $\\dots$ & $\\dots$ & $\\dots$ & $\\dots$ & $\\dots$ & $\\dots$ \\\\\n",
       "\\end{tabular}\n"
      ],
      "text/plain": [
       "118×19 DataFrame\n",
       "│ Row │ bus   │ btype  │ haswind │ gp          │ gq        │ v        │ alpha   │ std_v      │ std_q_G     │ std_p_G     │ lambda_p │ lambda_q     │ gamma    │ delta_p_plus │ delta_p_minus │ delta_p_det_plus │ delta_p_det_minus │ mu_v_p      │ mu_v_m      │\n",
       "│     │ \u001b[90mInt64\u001b[39m │ \u001b[90mString\u001b[39m │ \u001b[90mBool\u001b[39m    │ \u001b[90mReal\u001b[39m        │ \u001b[90mReal\u001b[39m      │ \u001b[90mFloat64\u001b[39m  │ \u001b[90mFloat64\u001b[39m │ \u001b[90mFloat64\u001b[39m    │ \u001b[90mFloat64\u001b[39m     │ \u001b[90mReal\u001b[39m        │ \u001b[90mFloat64\u001b[39m  │ \u001b[90mFloat64\u001b[39m      │ \u001b[90mFloat64\u001b[39m  │ \u001b[90mReal\u001b[39m         │ \u001b[90mReal\u001b[39m          │ \u001b[90mReal\u001b[39m             │ \u001b[90mReal\u001b[39m              │ \u001b[90mFloat64\u001b[39m     │ \u001b[90mFloat64\u001b[39m     │\n",
       "├─────┼───────┼────────┼─────────┼─────────────┼───────────┼──────────┼─────────┼────────────┼─────────────┼─────────────┼──────────┼──────────────┼──────────┼──────────────┼───────────────┼──────────────────┼───────────────────┼─────────────┼─────────────┤\n",
       "│ 1   │ 1     │ PV     │ false   │ -1.3632e-5  │ 0.0500107 │ 1.03124  │ 0.0     │ 0.0        │ 0.0429883   │ -1.7699e-7  │ -3138.57 │ -15.4535     │ 0.0      │ -0.000331583 │ -189.783      │ -671.64          │ -0.0003287        │ -0.0115848  │ -0.00365016 │\n",
       "│ 2   │ 2     │ PQ     │ false   │ 0           │ 0         │ 1.03222  │ 0.0     │ 0.00763577 │ 0.0         │ 0           │ -3183.49 │ -11.1244     │ 0.0      │ 0            │ 0             │ 0                │ 0                 │ -0.0315288  │ -0.00455829 │\n",
       "│ 3   │ 3     │ PQ     │ true    │ 0           │ 0         │ 1.04738  │ 0.0     │ 0.003711   │ 0.0         │ 0           │ -3078.32 │ -6.45776     │ -0.66208 │ 0            │ 0             │ 0                │ 0                 │ -0.0721386  │ -0.00334557 │\n",
       "│ 4   │ 4     │ PV     │ false   │ -1.39788e-5 │ 1.97702   │ 1.06001  │ 0.0     │ 0.0        │ 0.282726    │ -4.84706e-7 │ -2967.42 │ -0.00119376  │ 0.0      │ -0.000331006 │ -167.794      │ -864.787         │ -0.000327025      │ -1395.76    │ -0.00275659 │\n",
       "│ 5   │ 5     │ PQ     │ false   │ 0           │ 0         │ 1.04855  │ 0.0     │ 0.00323761 │ 0.0         │ 0           │ -2949.47 │ -13.4229     │ 0.0      │ 0            │ 0             │ 0                │ 0                 │ -0.0827189  │ -0.00322773 │\n",
       "│ 6   │ 6     │ PV     │ false   │ -1.37659e-5 │ 0.497718  │ 1.04788  │ 0.0     │ 0.0        │ 0.000960855 │ -2.75325e-7 │ -3090.72 │ -4.6133      │ 0.0      │ -0.000331242 │ -183.088      │ -726.187         │ -0.000327752      │ -0.0294071  │ -0.00304993 │\n",
       "│ 7   │ 7     │ PQ     │ false   │ 0           │ 0         │ 1.04518  │ 0.0     │ 0.00417897 │ 0.0         │ 0           │ -3130.45 │ -3.83158     │ 0.0      │ 0            │ 0             │ 0                │ 0                 │ -0.0673034  │ -0.00340879 │\n",
       "│ 8   │ 8     │ PV     │ true    │ -1.42412e-5 │ -2.68882  │ 0.997063 │ 0.0     │ 0.0        │ 0.0937228   │ -8.5814e-7  │ -2791.41 │ -0.00317415  │ -30.2441 │ -0.000330442 │ -131.944      │ -1076.65         │ -0.000327006      │ -0.00540315 │ -0.0057267  │\n",
       "│ 9   │ 9     │ PQ     │ false   │ 0           │ 0         │ 1.01573  │ 0.0     │ 0.0113232  │ 0.0         │ 0           │ -2768.98 │ -7.26771     │ 0.0      │ 0            │ 0             │ 0                │ 0                 │ -0.0189716  │ -0.00637107 │\n",
       "│ 10  │ 10    │ PV     │ false   │ 1.67761     │ -1.22311  │ 0.999095 │ 0.0     │ 0.0        │ 0.0697958   │ 0.481528    │ -2745.6  │ -0.00359831  │ 0.0      │ -0.000121927 │ -0.000587483  │ -0.000362553     │ -0.000110103      │ -0.00579603 │ -0.00542144 │\n",
       "⋮\n",
       "│ 108 │ 108   │ PQ     │ false   │ 0           │ 0         │ 0.955128 │ 0.0     │ 0.00425385 │ 0.0         │ 0           │ -4024.55 │ -1.33366     │ 0.0      │ 0            │ 0             │ 0                │ 0                 │ -0.00467345 │ -0.0475174  │\n",
       "│ 109 │ 109   │ PQ     │ false   │ 0           │ 0         │ 0.956676 │ 0.0     │ 0.0046783  │ 0.0         │ 0           │ -4027.6  │ -2.08052     │ 0.0      │ 0            │ 0             │ 0                │ 0                 │ -0.00474521 │ -0.0434056  │\n",
       "│ 110 │ 110   │ PV     │ false   │ 0.0863904   │ 0.225743  │ 0.964922 │ 0.0     │ 0.0        │ 0.00130879  │ 0.0244117   │ -4017.26 │ -0.227759    │ 0.0      │ -0.000393092 │ -0.0106036    │ -0.00708048      │ -0.000383373      │ -0.00389026 │ -0.0112144  │\n",
       "│ 111 │ 111   │ PV     │ false   │ 0.352868    │ 0.0954007 │ 0.980124 │ 0.0     │ 0.0        │ 0.306912    │ 0.0957971   │ -3960.36 │ -0.000858112 │ 0.0      │ -0.000425135 │ -0.00255378   │ -0.00172475      │ -0.000392848      │ -0.00467756 │ -0.00733277 │\n",
       "│ 112 │ 112   │ PV     │ false   │ 0.397731    │ 0.240372  │ 0.963549 │ 0.0     │ 0.0        │ 0.346797    │ 0.100472    │ -4079.54 │ -0.000751604 │ 0.0      │ -0.000922435 │ -0.00201598   │ -0.00137261      │ -0.000758436      │ -0.00378031 │ -0.0119042  │\n",
       "│ 113 │ 113   │ PV     │ false   │ -1.19588e-5 │ -0.992254 │ 0.965741 │ 0.0     │ 0.0        │ 0.00333528  │ 6.57335e-7  │ -3524.51 │ -25.5844     │ 0.0      │ -0.00033109  │ -213.389      │ -262.102         │ -0.000327457      │ -0.00380824 │ -0.0128854  │\n",
       "│ 114 │ 114   │ PQ     │ false   │ 0           │ 0         │ 1.02367  │ 0.0     │ 0.00967628 │ 0.0         │ 0           │ -2873.08 │ -5.91017     │ 0.0      │ 0            │ 0             │ 0                │ 0                 │ -0.0239145  │ -0.00534917 │\n",
       "│ 115 │ 115   │ PQ     │ false   │ 0           │ 0         │ 1.02657  │ 0.0     │ 0.0089704  │ 0.0         │ 0           │ -2875.06 │ -5.90539     │ 0.0      │ 0            │ 0             │ 0                │ 0                 │ -0.0261893  │ -0.0050134  │\n",
       "│ 116 │ 116   │ PV     │ false   │ -1.24779e-5 │ 1.86797   │ 1.03438  │ 0.0     │ 0.0        │ 1.919       │ 2.83774e-7  │ -3511.58 │ -4.00099e-5  │ 0.0      │ -0.000330782 │ -189.452      │ -298.967         │ -0.000327314      │ -0.0119035  │ -0.00360846 │\n",
       "│ 117 │ 117   │ PQ     │ false   │ 0           │ 0         │ 1.02439  │ 0.0     │ 0.00718776 │ 0.0         │ 0           │ -3230.37 │ -14.8569     │ 0.0      │ 0            │ 0             │ 0                │ 0                 │ -0.0118709  │ -0.00413205 │\n",
       "│ 118 │ 118   │ PQ     │ false   │ 0           │ 0         │ 0.992221 │ 0.0     │ 0.0123959  │ 0.0         │ 0           │ -3712.71 │ -83.5384     │ 0.0      │ 0            │ 0             │ 0                │ 0                 │ -0.00875707 │ -0.0136214  │"
      ]
     },
     "metadata": {},
     "output_type": "display_data"
    },
    {
     "data": {
      "text/html": [
       "<table class=\"data-frame\"><thead><tr><th></th><th>f_p_ij</th><th>f_p_ji</th><th>f_q_ij</th><th>f_q_ji</th><th>std_pij</th><th>std_pji</th><th>std_qij</th><th>std_qji</th><th>aux_pij</th><th>aux_pji</th><th>aux_qij</th><th>aux_qji</th><th>eta_ij</th><th>eta_ji</th></tr><tr><th></th><th>Float64</th><th>Float64</th><th>Float64</th><th>Float64</th><th>Float64</th><th>Float64</th><th>Float64</th><th>Float64</th><th>Float64</th><th>Float64</th><th>Float64</th><th>Float64</th><th>Float64</th><th>Float64</th></tr></thead><tbody><p>186 rows × 14 columns</p><tr><th>1</th><td>0.0342082</td><td>-0.0341786</td><td>-0.0342803</td><td>0.00734603</td><td>0.100532</td><td>0.100601</td><td>0.0980272</td><td>0.0982046</td><td>0.591697</td><td>0.592162</td><td>0.587065</td><td>0.586156</td><td>-0.00367942</td><td>-0.00367528</td></tr><tr><th>2</th><td>-0.595232</td><td>0.599968</td><td>-0.212709</td><td>0.21659</td><td>0.0550867</td><td>0.0545299</td><td>0.0730163</td><td>0.0730042</td><td>0.790304</td><td>0.792272</td><td>0.502261</td><td>0.502861</td><td>-0.00653903</td><td>-0.00665069</td></tr><tr><th>3</th><td>-0.773857</td><td>0.777253</td><td>1.69593</td><td>-1.68286</td><td>0.178758</td><td>0.179537</td><td>0.140053</td><td>0.141482</td><td>1.48836</td><td>1.49485</td><td>2.21415</td><td>2.20674</td><td>-0.00234872</td><td>-0.00232479</td></tr><tr><th>4</th><td>-0.263024</td><td>0.26456</td><td>0.0349682</td><td>-0.0592686</td><td>0.101044</td><td>0.101085</td><td>0.0911483</td><td>0.0908042</td><td>0.662334</td><td>0.662516</td><td>0.547202</td><td>0.548603</td><td>-0.00410077</td><td>-0.00412017</td></tr><tr><th>5</th><td>0.787751</td><td>-0.780812</td><td>-0.152087</td><td>0.167907</td><td>0.0322973</td><td>0.0326812</td><td>0.053077</td><td>0.0530314</td><td>0.897057</td><td>0.891935</td><td>0.375236</td><td>0.386961</td><td>-0.0115543</td><td>-0.0112977</td></tr><tr><th>6</th><td>0.208751</td><td>-0.208551</td><td>0.0878155</td><td>-0.0929324</td><td>0.0921903</td><td>0.0921256</td><td>0.0930796</td><td>0.0929532</td><td>0.619653</td><td>0.619196</td><td>0.578707</td><td>0.579504</td><td>-0.00390341</td><td>-0.00390641</td></tr><tr><th>7</th><td>-1.66228</td><td>1.66944</td><td>-1.007</td><td>-0.0789056</td><td>0.276351</td><td>0.289505</td><td>0.120893</td><td>0.185603</td><td>2.40601</td><td>2.48729</td><td>1.4482</td><td>1.10836</td><td>-0.00398004</td><td>-0.00280928</td></tr><tr><th>8</th><td>2.24726</td><td>-2.24724</td><td>-1.34626</td><td>1.49762</td><td>0.129783</td><td>0.125988</td><td>0.0258882</td><td>0.00815313</td><td>2.56386</td><td>2.54036</td><td>1.43852</td><td>1.51662</td><td>-0.0230037</td><td>-9.2942</td></tr><tr><th>9</th><td>-1.66945</td><td>1.67761</td><td>0.0789101</td><td>-1.22311</td><td>0.289504</td><td>0.274224</td><td>0.185603</td><td>0.0831045</td><td>2.48729</td><td>2.39437</td><td>1.10836</td><td>1.52695</td><td>-0.00280889</td><td>-0.00478501</td></tr><tr><th>10</th><td>0.34466</td><td>-0.342899</td><td>0.149096</td><td>-0.162628</td><td>0.0862199</td><td>0.0858225</td><td>0.0836633</td><td>0.0831446</td><td>0.677092</td><td>0.674301</td><td>0.555388</td><td>0.55966</td><td>-0.00444672</td><td>-0.00446359</td></tr><tr><th>11</th><td>0.417528</td><td>-0.414464</td><td>-0.0431471</td><td>0.0344351</td><td>0.0840728</td><td>0.0840539</td><td>0.0839485</td><td>0.0843267</td><td>0.726599</td><td>0.724641</td><td>0.507237</td><td>0.508332</td><td>-0.00465609</td><td>-0.00463011</td></tr><tr><th>12</th><td>0.867223</td><td>-0.869359</td><td>0.0053112</td><td>-0.00481509</td><td>0.0703328</td><td>0.0697209</td><td>0.01139</td><td>0.0101299</td><td>1.03088</td><td>1.03165</td><td>0.0320204</td><td>0.0289467</td><td>-6.91558</td><td>-3.04501</td></tr><tr><th>13</th><td>-0.187414</td><td>0.188174</td><td>-0.104214</td><td>0.0895614</td><td>0.094786</td><td>0.0949972</td><td>0.093889</td><td>0.0942777</td><td>0.61578</td><td>0.61729</td><td>0.580314</td><td>0.57768</td><td>-0.00388201</td><td>-0.00386855</td></tr><tr><th>14</th><td>0.108824</td><td>-0.10828</td><td>-0.0143285</td><td>-0.02826</td><td>0.10077</td><td>0.100661</td><td>0.0969079</td><td>0.0968277</td><td>0.603592</td><td>0.603136</td><td>0.580087</td><td>0.580666</td><td>-0.00373515</td><td>-0.00373808</td></tr><tr><th>15</th><td>-0.00942421</td><td>0.00944623</td><td>0.124156</td><td>-0.134225</td><td>0.0981287</td><td>0.0979463</td><td>0.095542</td><td>0.0951788</td><td>0.581588</td><td>0.580503</td><td>0.602556</td><td>0.604563</td><td>-0.00377997</td><td>-0.00379748</td></tr><tr><th>16</th><td>0.460423</td><td>-0.455047</td><td>0.266483</td><td>-0.26867</td><td>0.0659627</td><td>0.0663523</td><td>0.0715483</td><td>0.0717612</td><td>0.709562</td><td>0.706247</td><td>0.562139</td><td>0.564829</td><td>-0.00528142</td><td>-0.00525181</td></tr><tr><th>17</th><td>0.252281</td><td>-0.251085</td><td>0.17134</td><td>-0.186839</td><td>0.0879072</td><td>0.0875264</td><td>0.0891641</td><td>0.0883943</td><td>0.628636</td><td>0.625887</td><td>0.583509</td><td>0.588347</td><td>-0.00414234</td><td>-0.00417014</td></tr><tr><th>18</th><td>0.0810533</td><td>-0.0811413</td><td>0.0926709</td><td>-0.155117</td><td>0.097816</td><td>0.0966494</td><td>0.096556</td><td>0.0943253</td><td>0.591433</td><td>0.584749</td><td>0.591262</td><td>0.603819</td><td>-0.00372424</td><td>-0.00379111</td></tr><tr><th>19</th><td>0.102916</td><td>-0.102021</td><td>0.182262</td><td>-0.229607</td><td>0.0953563</td><td>0.0939267</td><td>0.0927209</td><td>0.0899592</td><td>0.584216</td><td>0.575727</td><td>0.609375</td><td>0.624689</td><td>-0.00383601</td><td>-0.00391984</td></tr><tr><th>20</th><td>0.23483</td><td>-0.233296</td><td>0.242163</td><td>-0.258861</td><td>0.0870099</td><td>0.0864461</td><td>0.0855518</td><td>0.0844119</td><td>0.610439</td><td>0.606499</td><td>0.609978</td><td>0.616735</td><td>-0.00422946</td><td>-0.00427256</td></tr><tr><th>21</th><td>-0.497318</td><td>0.49996</td><td>-0.0649467</td><td>0.0309038</td><td>0.270828</td><td>0.270866</td><td>0.275119</td><td>0.275105</td><td>1.7541</td><td>1.75555</td><td>1.63765</td><td>1.63608</td><td>-0.00132434</td><td>-0.00132425</td></tr><tr><th>22</th><td>-0.0408275</td><td>0.0405368</td><td>0.15238</td><td>-0.200247</td><td>0.0975723</td><td>0.0963652</td><td>0.0949536</td><td>0.0925047</td><td>0.581233</td><td>0.573957</td><td>0.60473</td><td>0.61807</td><td>-0.00375541</td><td>-0.00382478</td></tr><tr><th>23</th><td>0.290245</td><td>-0.289218</td><td>0.358096</td><td>-0.366216</td><td>0.0847433</td><td>0.084152</td><td>0.0709362</td><td>0.0706454</td><td>0.613947</td><td>0.61131</td><td>0.647641</td><td>0.65212</td><td>-0.00503837</td><td>-0.00506511</td></tr><tr><th>24</th><td>-0.340797</td><td>0.341175</td><td>-0.160767</td><td>0.151697</td><td>0.0869128</td><td>0.0871168</td><td>0.0850553</td><td>0.085485</td><td>0.675608</td><td>0.676888</td><td>0.555466</td><td>0.552895</td><td>-0.00440465</td><td>-0.00438939</td></tr><tr><th>25</th><td>-0.774142</td><td>0.789696</td><td>0.0446318</td><td>0.00029982</td><td>0.10222</td><td>0.105412</td><td>0.0162363</td><td>0.00667188</td><td>1.01354</td><td>1.03491</td><td>0.0898638</td><td>0.0171785</td><td>-2.28075</td><td>-10142.1</td></tr><tr><th>26</th><td>-0.581396</td><td>0.58364</td><td>0.218253</td><td>-0.220513</td><td>0.0755918</td><td>0.0755626</td><td>0.0636841</td><td>0.0630496</td><td>0.815988</td><td>0.817452</td><td>0.47909</td><td>0.478485</td><td>-0.00690611</td><td>-0.00696703</td></tr><tr><th>27</th><td>0.324106</td><td>-0.322901</td><td>-0.0337378</td><td>0.0181101</td><td>0.100027</td><td>0.0999974</td><td>0.087844</td><td>0.0881525</td><td>0.692629</td><td>0.692037</td><td>0.530013</td><td>0.529941</td><td>-0.00433179</td><td>-0.00431969</td></tr><tr><th>28</th><td>0.168535</td><td>-0.168515</td><td>-0.106216</td><td>0.0820999</td><td>0.108292</td><td>0.108587</td><td>0.0924563</td><td>0.0931584</td><td>0.62744</td><td>0.629269</td><td>0.575113</td><td>0.571296</td><td>-0.0039578</td><td>-0.00393412</td></tr><tr><th>29</th><td>0.058449</td><td>-0.0590261</td><td>-0.137117</td><td>0.0937827</td><td>0.111036</td><td>0.111864</td><td>0.0933606</td><td>0.0947275</td><td>0.602598</td><td>0.607256</td><td>0.593181</td><td>0.584562</td><td>-0.00387073</td><td>-0.00382339</td></tr><tr><th>30</th><td>0.127401</td><td>-0.129151</td><td>0.570924</td><td>-0.626672</td><td>0.162749</td><td>0.159494</td><td>0.0559212</td><td>0.0541901</td><td>0.591313</td><td>0.566846</td><td>0.757061</td><td>0.795615</td><td>-0.00795906</td><td>-0.00964079</td></tr><tr><th>&vellip;</th><td>&vellip;</td><td>&vellip;</td><td>&vellip;</td><td>&vellip;</td><td>&vellip;</td><td>&vellip;</td><td>&vellip;</td><td>&vellip;</td><td>&vellip;</td><td>&vellip;</td><td>&vellip;</td><td>&vellip;</td><td>&vellip;</td><td>&vellip;</td></tr></tbody></table>"
      ],
      "text/latex": [
       "\\begin{tabular}{r|cccccccccccccc}\n",
       "\t& f\\_p\\_ij & f\\_p\\_ji & f\\_q\\_ij & f\\_q\\_ji & std\\_pij & std\\_pji & std\\_qij & std\\_qji & aux\\_pij & aux\\_pji & aux\\_qij & aux\\_qji & eta\\_ij & eta\\_ji\\\\\n",
       "\t\\hline\n",
       "\t& Float64 & Float64 & Float64 & Float64 & Float64 & Float64 & Float64 & Float64 & Float64 & Float64 & Float64 & Float64 & Float64 & Float64\\\\\n",
       "\t\\hline\n",
       "\t1 & 0.0342082 & -0.0341786 & -0.0342803 & 0.00734603 & 0.100532 & 0.100601 & 0.0980272 & 0.0982046 & 0.591697 & 0.592162 & 0.587065 & 0.586156 & -0.00367942 & -0.00367528 \\\\\n",
       "\t2 & -0.595232 & 0.599968 & -0.212709 & 0.21659 & 0.0550867 & 0.0545299 & 0.0730163 & 0.0730042 & 0.790304 & 0.792272 & 0.502261 & 0.502861 & -0.00653903 & -0.00665069 \\\\\n",
       "\t3 & -0.773857 & 0.777253 & 1.69593 & -1.68286 & 0.178758 & 0.179537 & 0.140053 & 0.141482 & 1.48836 & 1.49485 & 2.21415 & 2.20674 & -0.00234872 & -0.00232479 \\\\\n",
       "\t4 & -0.263024 & 0.26456 & 0.0349682 & -0.0592686 & 0.101044 & 0.101085 & 0.0911483 & 0.0908042 & 0.662334 & 0.662516 & 0.547202 & 0.548603 & -0.00410077 & -0.00412017 \\\\\n",
       "\t5 & 0.787751 & -0.780812 & -0.152087 & 0.167907 & 0.0322973 & 0.0326812 & 0.053077 & 0.0530314 & 0.897057 & 0.891935 & 0.375236 & 0.386961 & -0.0115543 & -0.0112977 \\\\\n",
       "\t6 & 0.208751 & -0.208551 & 0.0878155 & -0.0929324 & 0.0921903 & 0.0921256 & 0.0930796 & 0.0929532 & 0.619653 & 0.619196 & 0.578707 & 0.579504 & -0.00390341 & -0.00390641 \\\\\n",
       "\t7 & -1.66228 & 1.66944 & -1.007 & -0.0789056 & 0.276351 & 0.289505 & 0.120893 & 0.185603 & 2.40601 & 2.48729 & 1.4482 & 1.10836 & -0.00398004 & -0.00280928 \\\\\n",
       "\t8 & 2.24726 & -2.24724 & -1.34626 & 1.49762 & 0.129783 & 0.125988 & 0.0258882 & 0.00815313 & 2.56386 & 2.54036 & 1.43852 & 1.51662 & -0.0230037 & -9.2942 \\\\\n",
       "\t9 & -1.66945 & 1.67761 & 0.0789101 & -1.22311 & 0.289504 & 0.274224 & 0.185603 & 0.0831045 & 2.48729 & 2.39437 & 1.10836 & 1.52695 & -0.00280889 & -0.00478501 \\\\\n",
       "\t10 & 0.34466 & -0.342899 & 0.149096 & -0.162628 & 0.0862199 & 0.0858225 & 0.0836633 & 0.0831446 & 0.677092 & 0.674301 & 0.555388 & 0.55966 & -0.00444672 & -0.00446359 \\\\\n",
       "\t11 & 0.417528 & -0.414464 & -0.0431471 & 0.0344351 & 0.0840728 & 0.0840539 & 0.0839485 & 0.0843267 & 0.726599 & 0.724641 & 0.507237 & 0.508332 & -0.00465609 & -0.00463011 \\\\\n",
       "\t12 & 0.867223 & -0.869359 & 0.0053112 & -0.00481509 & 0.0703328 & 0.0697209 & 0.01139 & 0.0101299 & 1.03088 & 1.03165 & 0.0320204 & 0.0289467 & -6.91558 & -3.04501 \\\\\n",
       "\t13 & -0.187414 & 0.188174 & -0.104214 & 0.0895614 & 0.094786 & 0.0949972 & 0.093889 & 0.0942777 & 0.61578 & 0.61729 & 0.580314 & 0.57768 & -0.00388201 & -0.00386855 \\\\\n",
       "\t14 & 0.108824 & -0.10828 & -0.0143285 & -0.02826 & 0.10077 & 0.100661 & 0.0969079 & 0.0968277 & 0.603592 & 0.603136 & 0.580087 & 0.580666 & -0.00373515 & -0.00373808 \\\\\n",
       "\t15 & -0.00942421 & 0.00944623 & 0.124156 & -0.134225 & 0.0981287 & 0.0979463 & 0.095542 & 0.0951788 & 0.581588 & 0.580503 & 0.602556 & 0.604563 & -0.00377997 & -0.00379748 \\\\\n",
       "\t16 & 0.460423 & -0.455047 & 0.266483 & -0.26867 & 0.0659627 & 0.0663523 & 0.0715483 & 0.0717612 & 0.709562 & 0.706247 & 0.562139 & 0.564829 & -0.00528142 & -0.00525181 \\\\\n",
       "\t17 & 0.252281 & -0.251085 & 0.17134 & -0.186839 & 0.0879072 & 0.0875264 & 0.0891641 & 0.0883943 & 0.628636 & 0.625887 & 0.583509 & 0.588347 & -0.00414234 & -0.00417014 \\\\\n",
       "\t18 & 0.0810533 & -0.0811413 & 0.0926709 & -0.155117 & 0.097816 & 0.0966494 & 0.096556 & 0.0943253 & 0.591433 & 0.584749 & 0.591262 & 0.603819 & -0.00372424 & -0.00379111 \\\\\n",
       "\t19 & 0.102916 & -0.102021 & 0.182262 & -0.229607 & 0.0953563 & 0.0939267 & 0.0927209 & 0.0899592 & 0.584216 & 0.575727 & 0.609375 & 0.624689 & -0.00383601 & -0.00391984 \\\\\n",
       "\t20 & 0.23483 & -0.233296 & 0.242163 & -0.258861 & 0.0870099 & 0.0864461 & 0.0855518 & 0.0844119 & 0.610439 & 0.606499 & 0.609978 & 0.616735 & -0.00422946 & -0.00427256 \\\\\n",
       "\t21 & -0.497318 & 0.49996 & -0.0649467 & 0.0309038 & 0.270828 & 0.270866 & 0.275119 & 0.275105 & 1.7541 & 1.75555 & 1.63765 & 1.63608 & -0.00132434 & -0.00132425 \\\\\n",
       "\t22 & -0.0408275 & 0.0405368 & 0.15238 & -0.200247 & 0.0975723 & 0.0963652 & 0.0949536 & 0.0925047 & 0.581233 & 0.573957 & 0.60473 & 0.61807 & -0.00375541 & -0.00382478 \\\\\n",
       "\t23 & 0.290245 & -0.289218 & 0.358096 & -0.366216 & 0.0847433 & 0.084152 & 0.0709362 & 0.0706454 & 0.613947 & 0.61131 & 0.647641 & 0.65212 & -0.00503837 & -0.00506511 \\\\\n",
       "\t24 & -0.340797 & 0.341175 & -0.160767 & 0.151697 & 0.0869128 & 0.0871168 & 0.0850553 & 0.085485 & 0.675608 & 0.676888 & 0.555466 & 0.552895 & -0.00440465 & -0.00438939 \\\\\n",
       "\t25 & -0.774142 & 0.789696 & 0.0446318 & 0.00029982 & 0.10222 & 0.105412 & 0.0162363 & 0.00667188 & 1.01354 & 1.03491 & 0.0898638 & 0.0171785 & -2.28075 & -10142.1 \\\\\n",
       "\t26 & -0.581396 & 0.58364 & 0.218253 & -0.220513 & 0.0755918 & 0.0755626 & 0.0636841 & 0.0630496 & 0.815988 & 0.817452 & 0.47909 & 0.478485 & -0.00690611 & -0.00696703 \\\\\n",
       "\t27 & 0.324106 & -0.322901 & -0.0337378 & 0.0181101 & 0.100027 & 0.0999974 & 0.087844 & 0.0881525 & 0.692629 & 0.692037 & 0.530013 & 0.529941 & -0.00433179 & -0.00431969 \\\\\n",
       "\t28 & 0.168535 & -0.168515 & -0.106216 & 0.0820999 & 0.108292 & 0.108587 & 0.0924563 & 0.0931584 & 0.62744 & 0.629269 & 0.575113 & 0.571296 & -0.0039578 & -0.00393412 \\\\\n",
       "\t29 & 0.058449 & -0.0590261 & -0.137117 & 0.0937827 & 0.111036 & 0.111864 & 0.0933606 & 0.0947275 & 0.602598 & 0.607256 & 0.593181 & 0.584562 & -0.00387073 & -0.00382339 \\\\\n",
       "\t30 & 0.127401 & -0.129151 & 0.570924 & -0.626672 & 0.162749 & 0.159494 & 0.0559212 & 0.0541901 & 0.591313 & 0.566846 & 0.757061 & 0.795615 & -0.00795906 & -0.00964079 \\\\\n",
       "\t$\\dots$ & $\\dots$ & $\\dots$ & $\\dots$ & $\\dots$ & $\\dots$ & $\\dots$ & $\\dots$ & $\\dots$ & $\\dots$ & $\\dots$ & $\\dots$ & $\\dots$ & $\\dots$ & $\\dots$ \\\\\n",
       "\\end{tabular}\n"
      ],
      "text/plain": [
       "186×14 DataFrame\n",
       "│ Row │ f_p_ij    │ f_p_ji     │ f_q_ij     │ f_q_ji     │ std_pij     │ std_pji   │ std_qij    │ std_qji    │ aux_pij  │ aux_pji  │ aux_qij  │ aux_qji  │ eta_ij      │ eta_ji      │\n",
       "│     │ \u001b[90mFloat64\u001b[39m   │ \u001b[90mFloat64\u001b[39m    │ \u001b[90mFloat64\u001b[39m    │ \u001b[90mFloat64\u001b[39m    │ \u001b[90mFloat64\u001b[39m     │ \u001b[90mFloat64\u001b[39m   │ \u001b[90mFloat64\u001b[39m    │ \u001b[90mFloat64\u001b[39m    │ \u001b[90mFloat64\u001b[39m  │ \u001b[90mFloat64\u001b[39m  │ \u001b[90mFloat64\u001b[39m  │ \u001b[90mFloat64\u001b[39m  │ \u001b[90mFloat64\u001b[39m     │ \u001b[90mFloat64\u001b[39m     │\n",
       "├─────┼───────────┼────────────┼────────────┼────────────┼─────────────┼───────────┼────────────┼────────────┼──────────┼──────────┼──────────┼──────────┼─────────────┼─────────────┤\n",
       "│ 1   │ 0.0342082 │ -0.0341786 │ -0.0342803 │ 0.00734603 │ 0.100532    │ 0.100601  │ 0.0980272  │ 0.0982046  │ 0.591697 │ 0.592162 │ 0.587065 │ 0.586156 │ -0.00367942 │ -0.00367528 │\n",
       "│ 2   │ -0.595232 │ 0.599968   │ -0.212709  │ 0.21659    │ 0.0550867   │ 0.0545299 │ 0.0730163  │ 0.0730042  │ 0.790304 │ 0.792272 │ 0.502261 │ 0.502861 │ -0.00653903 │ -0.00665069 │\n",
       "│ 3   │ -0.773857 │ 0.777253   │ 1.69593    │ -1.68286   │ 0.178758    │ 0.179537  │ 0.140053   │ 0.141482   │ 1.48836  │ 1.49485  │ 2.21415  │ 2.20674  │ -0.00234872 │ -0.00232479 │\n",
       "│ 4   │ -0.263024 │ 0.26456    │ 0.0349682  │ -0.0592686 │ 0.101044    │ 0.101085  │ 0.0911483  │ 0.0908042  │ 0.662334 │ 0.662516 │ 0.547202 │ 0.548603 │ -0.00410077 │ -0.00412017 │\n",
       "│ 5   │ 0.787751  │ -0.780812  │ -0.152087  │ 0.167907   │ 0.0322973   │ 0.0326812 │ 0.053077   │ 0.0530314  │ 0.897057 │ 0.891935 │ 0.375236 │ 0.386961 │ -0.0115543  │ -0.0112977  │\n",
       "│ 6   │ 0.208751  │ -0.208551  │ 0.0878155  │ -0.0929324 │ 0.0921903   │ 0.0921256 │ 0.0930796  │ 0.0929532  │ 0.619653 │ 0.619196 │ 0.578707 │ 0.579504 │ -0.00390341 │ -0.00390641 │\n",
       "│ 7   │ -1.66228  │ 1.66944    │ -1.007     │ -0.0789056 │ 0.276351    │ 0.289505  │ 0.120893   │ 0.185603   │ 2.40601  │ 2.48729  │ 1.4482   │ 1.10836  │ -0.00398004 │ -0.00280928 │\n",
       "│ 8   │ 2.24726   │ -2.24724   │ -1.34626   │ 1.49762    │ 0.129783    │ 0.125988  │ 0.0258882  │ 0.00815313 │ 2.56386  │ 2.54036  │ 1.43852  │ 1.51662  │ -0.0230037  │ -9.2942     │\n",
       "│ 9   │ -1.66945  │ 1.67761    │ 0.0789101  │ -1.22311   │ 0.289504    │ 0.274224  │ 0.185603   │ 0.0831045  │ 2.48729  │ 2.39437  │ 1.10836  │ 1.52695  │ -0.00280889 │ -0.00478501 │\n",
       "│ 10  │ 0.34466   │ -0.342899  │ 0.149096   │ -0.162628  │ 0.0862199   │ 0.0858225 │ 0.0836633  │ 0.0831446  │ 0.677092 │ 0.674301 │ 0.555388 │ 0.55966  │ -0.00444672 │ -0.00446359 │\n",
       "⋮\n",
       "│ 176 │ -0.350001 │ 0.352864   │ -0.104402  │ 0.0954008  │ 0.0502467   │ 0.0502151 │ 0.0533419  │ 0.0533746  │ 0.644411 │ 0.64639  │ 0.521282 │ 0.51898  │ -0.00356781 │ -0.00356876 │\n",
       "│ 177 │ 0.353507  │ -0.350288  │ -0.146381  │ 0.0973726  │ 0.0502317   │ 0.0509208 │ 0.0526657  │ 0.0538593  │ 0.644082 │ 0.646403 │ 0.528208 │ 0.519115 │ -0.00366813 │ -0.00361249 │\n",
       "│ 178 │ 0.189479  │ -0.187029  │ 0.70627    │ -0.705485  │ 0.0444774   │ 0.0445985 │ 0.0246323  │ 0.0247528  │ 0.433905 │ 0.433291 │ 0.83202  │ 0.831772 │ -0.00640922 │ -0.00638367 │\n",
       "│ 179 │ -0.121615 │ 0.121043   │ 0.234519   │ -0.286768  │ 0.171785    │ 0.171418  │ 0.169147   │ 0.168395   │ 1.58812  │ 1.58465  │ 1.60129  │ 1.60868  │ -0.00109249 │ -0.00109612 │\n",
       "│ 180 │ 0.205508  │ -0.205416  │ -0.298167  │ 0.281768   │ 0.0538629   │ 0.0542341 │ 0.0505945  │ 0.0513339  │ 0.561912 │ 0.565089 │ 0.607076 │ 0.600297 │ -0.0035519  │ -0.00351557 │\n",
       "│ 181 │ 0.12977   │ -0.129144  │ 0.370277   │ -0.388827  │ 0.0540474   │ 0.0535142 │ 0.0482157  │ 0.0472472  │ 0.525064 │ 0.520085 │ 0.648225 │ 0.657427 │ -0.00363804 │ -0.00369432 │\n",
       "│ 182 │ 0.115136  │ -0.115153  │ -0.314795  │ 0.311815   │ 0.0557894   │ 0.0558596 │ 0.0511507  │ 0.0512893  │ 0.535055 │ 0.535711 │ 0.623943 │ 0.62265  │ -0.00347901 │ -0.00347222 │\n",
       "│ 183 │ 2.02878   │ -2.02758   │ -2.01784   │ 1.86803    │ 0.000372839 │ 0.0128044 │ 0.00277943 │ 0.0137567  │ 2.03055  │ 2.08771  │ 2.02537  │ 1.93363  │ -0.51467    │ -0.00927269 │\n",
       "│ 184 │ 0.221667  │ -0.22      │ 0.0569088  │ -0.088     │ 0.0         │ 0.0       │ 0.0        │ 0.0        │ 0.437035 │ 0.479535 │ 0.561697 │ 0.3713   │ -0.00292001 │ -0.00239108 │\n",
       "│ 185 │ 0.675676  │ -0.668697  │ 0.181134   │ -0.169997  │ 0.0283369   │ 0.0290051 │ 0.0386583  │ 0.0394563  │ 0.814885 │ 0.8118   │ 0.433702 │ 0.432726 │ -0.00581651 │ -0.00568026 │\n",
       "│ 186 │ -0.304053 │ 0.305607   │ -0.0131156 │ 0.0049977  │ 0.0525418   │ 0.0524899 │ 0.0554786  │ 0.0554429  │ 0.626753 │ 0.627478 │ 0.523487 │ 0.523008 │ -0.00341432 │ -0.0034172  │"
      ]
     },
     "metadata": {},
     "output_type": "display_data"
    },
    {
     "data": {
      "text/html": [
       "<table class=\"data-frame\"><thead><tr><th></th><th>status</th><th>solvetime</th><th>objective</th><th>gen_cost</th><th>var_pen</th><th>sum_p_var</th><th>sum_q_var</th><th>sum_v_var</th><th>sum_fp_var</th><th>sum_fq_var</th></tr><tr><th></th><th>MathOptI…</th><th>Float64</th><th>Float64</th><th>Float64</th><th>Float64</th><th>Float64</th><th>Float64</th><th>Float64</th><th>Float64</th><th>Float64</th></tr></thead><tbody><p>1 rows × 10 columns</p><tr><th>1</th><td>SLOW_PROGRESS</td><td>11.7549</td><td>92387.8</td><td>92387.8</td><td>0.0</td><td>2.51289</td><td>9.23299</td><td>0.00628366</td><td>3.73999</td><td>3.08217</td></tr></tbody></table>"
      ],
      "text/latex": [
       "\\begin{tabular}{r|cccccccccc}\n",
       "\t& status & solvetime & objective & gen\\_cost & var\\_pen & sum\\_p\\_var & sum\\_q\\_var & sum\\_v\\_var & sum\\_fp\\_var & sum\\_fq\\_var\\\\\n",
       "\t\\hline\n",
       "\t& MathOptI… & Float64 & Float64 & Float64 & Float64 & Float64 & Float64 & Float64 & Float64 & Float64\\\\\n",
       "\t\\hline\n",
       "\t1 & SLOW\\_PROGRESS & 11.7549 & 92387.8 & 92387.8 & 0.0 & 2.51289 & 9.23299 & 0.00628366 & 3.73999 & 3.08217 \\\\\n",
       "\\end{tabular}\n"
      ],
      "text/plain": [
       "1×10 DataFrame\n",
       "│ Row │ status        │ solvetime │ objective │ gen_cost │ var_pen │ sum_p_var │ sum_q_var │ sum_v_var  │ sum_fp_var │ sum_fq_var │\n",
       "│     │ \u001b[90mMathOptI…\u001b[39m     │ \u001b[90mFloat64\u001b[39m   │ \u001b[90mFloat64\u001b[39m   │ \u001b[90mFloat64\u001b[39m  │ \u001b[90mFloat64\u001b[39m │ \u001b[90mFloat64\u001b[39m   │ \u001b[90mFloat64\u001b[39m   │ \u001b[90mFloat64\u001b[39m    │ \u001b[90mFloat64\u001b[39m    │ \u001b[90mFloat64\u001b[39m    │\n",
       "├─────┼───────────────┼───────────┼───────────┼──────────┼─────────┼───────────┼───────────┼────────────┼────────────┼────────────┤\n",
       "│ 1   │ SLOW_PROGRESS │ 11.7549   │ 92387.8   │ 92387.8  │ 0.0     │ 2.51289   │ 9.23299   │ 0.00628366 │ 3.73999    │ 3.08217    │"
      ]
     },
     "metadata": {},
     "output_type": "display_data"
    },
    {
     "data": {
      "text/html": [
       "<table class=\"data-frame\"><thead><tr><th></th><th>gen</th><th>at_bus</th><th>3</th><th>8</th><th>11</th><th>20</th><th>24</th><th>26</th><th>31</th><th>38</th><th>43</th><th>49</th><th>53</th></tr><tr><th></th><th>Int64</th><th>Int64</th><th>Float64</th><th>Float64</th><th>Float64</th><th>Float64</th><th>Float64</th><th>Float64</th><th>Float64</th><th>Float64</th><th>Float64</th><th>Float64</th><th>Float64</th></tr></thead><tbody><p>54 rows × 13 columns</p><tr><th>1</th><td>1</td><td>1</td><td>1.73873e-5</td><td>7.1612e-6</td><td>1.04286e-5</td><td>-3.52529e-5</td><td>3.12384e-8</td><td>5.95624e-6</td><td>9.45182e-6</td><td>2.53532e-6</td><td>5.19493e-6</td><td>6.37283e-6</td><td>6.73209e-6</td></tr><tr><th>2</th><td>2</td><td>4</td><td>1.53785e-5</td><td>9.70632e-6</td><td>1.36642e-5</td><td>-2.90785e-5</td><td>1.91665e-6</td><td>6.67612e-6</td><td>1.04771e-5</td><td>2.34365e-6</td><td>5.44236e-6</td><td>7.30524e-6</td><td>7.70877e-6</td></tr><tr><th>3</th><td>3</td><td>6</td><td>1.43023e-5</td><td>7.77962e-6</td><td>1.10664e-5</td><td>-3.4226e-5</td><td>4.61397e-7</td><td>6.15884e-6</td><td>9.73653e-6</td><td>2.51202e-6</td><td>5.28759e-6</td><td>6.62328e-6</td><td>6.99417e-6</td></tr><tr><th>4</th><td>4</td><td>8</td><td>1.76914e-5</td><td>1.62917e-5</td><td>1.43973e-5</td><td>8.71582e-6</td><td>6.53924e-6</td><td>8.13968e-6</td><td>1.2322e-5</td><td>1.63021e-6</td><td>5.68208e-6</td><td>9.14585e-6</td><td>9.64725e-6</td></tr><tr><th>5</th><td>5</td><td>10</td><td>0.683788</td><td>0.954884</td><td>0.654163</td><td>-0.0242207</td><td>0.0332049</td><td>-0.0140828</td><td>0.0435053</td><td>0.00123468</td><td>-0.0149846</td><td>0.000808167</td><td>-0.000407696</td></tr><tr><th>6</th><td>6</td><td>12</td><td>0.152625</td><td>0.067288</td><td>0.1259</td><td>-4.13813e-5</td><td>-7.91139e-6</td><td>0.0128398</td><td>0.0445334</td><td>0.0167016</td><td>0.0394037</td><td>0.00669624</td><td>0.00729912</td></tr><tr><th>7</th><td>7</td><td>15</td><td>4.05042e-5</td><td>-5.85928e-6</td><td>4.43996e-5</td><td>-4.38581e-5</td><td>-2.72589e-5</td><td>2.98768e-5</td><td>4.4295e-5</td><td>4.51269e-5</td><td>5.06443e-5</td><td>2.93297e-5</td><td>3.13903e-5</td></tr><tr><th>8</th><td>8</td><td>18</td><td>0.010834</td><td>-1.38285e-5</td><td>0.0141869</td><td>-4.3949e-5</td><td>-3.14833e-5</td><td>0.00528586</td><td>0.00212075</td><td>0.0292138</td><td>0.0282111</td><td>0.0048005</td><td>0.00547741</td></tr><tr><th>9</th><td>9</td><td>19</td><td>0.0539611</td><td>-1.36621e-5</td><td>0.0727695</td><td>-4.41168e-5</td><td>-3.44453e-5</td><td>0.00762826</td><td>0.0317748</td><td>0.0922595</td><td>0.0999934</td><td>0.0205368</td><td>0.0219797</td></tr><tr><th>10</th><td>10</td><td>24</td><td>1.55506e-6</td><td>-1.2779e-6</td><td>1.04667e-6</td><td>4.22926e-5</td><td>9.64461e-6</td><td>3.41589e-6</td><td>3.87237e-6</td><td>-2.06626e-7</td><td>4.0798e-7</td><td>2.24645e-6</td><td>2.35282e-6</td></tr><tr><th>11</th><td>11</td><td>25</td><td>0.000429366</td><td>-1.73646e-5</td><td>0.000406478</td><td>1.07052</td><td>0.641395</td><td>0.303579</td><td>0.223118</td><td>1.77021e-5</td><td>0.0001671</td><td>0.0234085</td><td>0.0213449</td></tr><tr><th>12</th><td>12</td><td>26</td><td>0.00455972</td><td>-1.80909e-5</td><td>0.0287626</td><td>-3.60751e-5</td><td>0.302011</td><td>0.444183</td><td>0.324368</td><td>0.0193355</td><td>0.0392097</td><td>0.0359997</td><td>0.0349305</td></tr><tr><th>13</th><td>13</td><td>27</td><td>9.08092e-6</td><td>-4.89953e-6</td><td>7.32838e-6</td><td>1.072e-5</td><td>1.76373e-5</td><td>1.45277e-5</td><td>2.40845e-5</td><td>2.66983e-6</td><td>6.13806e-6</td><td>9.84262e-6</td><td>1.03438e-5</td></tr><tr><th>14</th><td>14</td><td>31</td><td>0.00215502</td><td>-1.5466e-5</td><td>0.00295137</td><td>-3.98392e-5</td><td>0.00159911</td><td>0.00727285</td><td>0.0166656</td><td>0.00240865</td><td>0.00301516</td><td>0.00148683</td><td>0.00154467</td></tr><tr><th>15</th><td>15</td><td>32</td><td>8.77862e-6</td><td>-4.5373e-6</td><td>7.07627e-6</td><td>1.67162e-5</td><td>1.57203e-5</td><td>1.38106e-5</td><td>2.39761e-5</td><td>2.76193e-6</td><td>5.92457e-6</td><td>9.32951e-6</td><td>9.81356e-6</td></tr><tr><th>16</th><td>16</td><td>34</td><td>8.78261e-6</td><td>-4.8088e-6</td><td>7.81923e-6</td><td>-4.27666e-5</td><td>-7.85178e-6</td><td>7.35082e-6</td><td>1.18098e-5</td><td>1.0315e-5</td><td>1.33123e-5</td><td>9.64274e-6</td><td>1.01525e-5</td></tr><tr><th>17</th><td>17</td><td>36</td><td>9.33287e-6</td><td>-5.08246e-6</td><td>8.32332e-6</td><td>-4.27017e-5</td><td>-8.29267e-6</td><td>7.89461e-6</td><td>1.26663e-5</td><td>1.13042e-5</td><td>1.39594e-5</td><td>1.01789e-5</td><td>1.07291e-5</td></tr><tr><th>18</th><td>18</td><td>40</td><td>0.000682077</td><td>-1.68117e-5</td><td>0.0010486</td><td>-4.27636e-5</td><td>-1.69443e-5</td><td>8.53587e-5</td><td>0.00016004</td><td>-9.96481e-6</td><td>3.08619e-5</td><td>0.0172148</td><td>0.00574795</td></tr><tr><th>19</th><td>19</td><td>42</td><td>0.000839221</td><td>-1.70376e-5</td><td>0.00639047</td><td>-4.25916e-5</td><td>-1.19959e-5</td><td>0.000158379</td><td>0.000298525</td><td>-2.83481e-6</td><td>0.000103858</td><td>0.184722</td><td>0.160899</td></tr><tr><th>20</th><td>20</td><td>46</td><td>0.000791617</td><td>-1.78068e-5</td><td>0.00185595</td><td>-4.25384e-5</td><td>4.67763e-6</td><td>0.00182655</td><td>0.00326087</td><td>0.00894262</td><td>0.0107565</td><td>0.00927137</td><td>0.00887883</td></tr><tr><th>21</th><td>21</td><td>49</td><td>0.000967952</td><td>-1.77645e-5</td><td>0.00925951</td><td>-4.24998e-5</td><td>9.47388e-6</td><td>0.00941239</td><td>0.019251</td><td>0.0709581</td><td>0.0874911</td><td>0.0989334</td><td>0.0935705</td></tr><tr><th>22</th><td>22</td><td>54</td><td>0.000915405</td><td>-1.72272e-5</td><td>0.00308931</td><td>-4.24039e-5</td><td>9.75998e-6</td><td>0.00327575</td><td>0.0062584</td><td>0.020697</td><td>0.0225424</td><td>0.0218883</td><td>0.0215619</td></tr><tr><th>23</th><td>23</td><td>55</td><td>1.37873e-5</td><td>-8.5684e-6</td><td>1.1028e-5</td><td>-4.21464e-5</td><td>1.89616e-6</td><td>1.37161e-5</td><td>1.9852e-5</td><td>8.37733e-6</td><td>1.37409e-5</td><td>1.88068e-5</td><td>1.98107e-5</td></tr><tr><th>24</th><td>24</td><td>56</td><td>1.31817e-5</td><td>-8.30099e-6</td><td>1.05368e-5</td><td>-4.21317e-5</td><td>1.81227e-6</td><td>1.31033e-5</td><td>1.89614e-5</td><td>7.96294e-6</td><td>1.31136e-5</td><td>1.80019e-5</td><td>1.91406e-5</td></tr><tr><th>25</th><td>25</td><td>59</td><td>0.0010739</td><td>-1.7098e-5</td><td>0.00853449</td><td>-4.2412e-5</td><td>1.36663e-5</td><td>0.0114027</td><td>0.0214486</td><td>0.0754848</td><td>0.0752937</td><td>0.0640649</td><td>0.0633917</td></tr><tr><th>26</th><td>26</td><td>61</td><td>0.00104227</td><td>-1.70895e-5</td><td>0.00855879</td><td>-4.23933e-5</td><td>1.57994e-5</td><td>0.0131726</td><td>0.0236991</td><td>0.0815669</td><td>0.0796428</td><td>0.0662222</td><td>0.0663597</td></tr><tr><th>27</th><td>27</td><td>62</td><td>6.87331e-6</td><td>-4.69455e-6</td><td>5.46826e-6</td><td>-4.15381e-5</td><td>1.35397e-6</td><td>6.91009e-6</td><td>9.94907e-6</td><td>4.47116e-6</td><td>6.83217e-6</td><td>9.25483e-6</td><td>9.76367e-6</td></tr><tr><th>28</th><td>28</td><td>65</td><td>0.00101377</td><td>-1.69554e-5</td><td>0.0198865</td><td>-4.24286e-5</td><td>2.00563e-5</td><td>0.0353744</td><td>0.0626631</td><td>0.218791</td><td>0.195661</td><td>0.128562</td><td>0.134894</td></tr><tr><th>29</th><td>29</td><td>66</td><td>0.000915304</td><td>-1.7341e-5</td><td>0.0183134</td><td>-4.24678e-5</td><td>1.6385e-5</td><td>0.0267464</td><td>0.0504761</td><td>0.183893</td><td>0.175562</td><td>0.125989</td><td>0.130627</td></tr><tr><th>30</th><td>30</td><td>69</td><td>0.000304659</td><td>-2.03922e-5</td><td>0.000408822</td><td>-4.26149e-5</td><td>0.000383947</td><td>0.091593</td><td>0.0804821</td><td>0.134387</td><td>0.152108</td><td>0.179278</td><td>0.168518</td></tr><tr><th>&vellip;</th><td>&vellip;</td><td>&vellip;</td><td>&vellip;</td><td>&vellip;</td><td>&vellip;</td><td>&vellip;</td><td>&vellip;</td><td>&vellip;</td><td>&vellip;</td><td>&vellip;</td><td>&vellip;</td><td>&vellip;</td><td>&vellip;</td></tr></tbody></table>"
      ],
      "text/latex": [
       "\\begin{tabular}{r|ccccccccccccc}\n",
       "\t& gen & at\\_bus & 3 & 8 & 11 & 20 & 24 & 26 & 31 & 38 & 43 & 49 & 53\\\\\n",
       "\t\\hline\n",
       "\t& Int64 & Int64 & Float64 & Float64 & Float64 & Float64 & Float64 & Float64 & Float64 & Float64 & Float64 & Float64 & Float64\\\\\n",
       "\t\\hline\n",
       "\t1 & 1 & 1 & 1.73873e-5 & 7.1612e-6 & 1.04286e-5 & -3.52529e-5 & 3.12384e-8 & 5.95624e-6 & 9.45182e-6 & 2.53532e-6 & 5.19493e-6 & 6.37283e-6 & 6.73209e-6 \\\\\n",
       "\t2 & 2 & 4 & 1.53785e-5 & 9.70632e-6 & 1.36642e-5 & -2.90785e-5 & 1.91665e-6 & 6.67612e-6 & 1.04771e-5 & 2.34365e-6 & 5.44236e-6 & 7.30524e-6 & 7.70877e-6 \\\\\n",
       "\t3 & 3 & 6 & 1.43023e-5 & 7.77962e-6 & 1.10664e-5 & -3.4226e-5 & 4.61397e-7 & 6.15884e-6 & 9.73653e-6 & 2.51202e-6 & 5.28759e-6 & 6.62328e-6 & 6.99417e-6 \\\\\n",
       "\t4 & 4 & 8 & 1.76914e-5 & 1.62917e-5 & 1.43973e-5 & 8.71582e-6 & 6.53924e-6 & 8.13968e-6 & 1.2322e-5 & 1.63021e-6 & 5.68208e-6 & 9.14585e-6 & 9.64725e-6 \\\\\n",
       "\t5 & 5 & 10 & 0.683788 & 0.954884 & 0.654163 & -0.0242207 & 0.0332049 & -0.0140828 & 0.0435053 & 0.00123468 & -0.0149846 & 0.000808167 & -0.000407696 \\\\\n",
       "\t6 & 6 & 12 & 0.152625 & 0.067288 & 0.1259 & -4.13813e-5 & -7.91139e-6 & 0.0128398 & 0.0445334 & 0.0167016 & 0.0394037 & 0.00669624 & 0.00729912 \\\\\n",
       "\t7 & 7 & 15 & 4.05042e-5 & -5.85928e-6 & 4.43996e-5 & -4.38581e-5 & -2.72589e-5 & 2.98768e-5 & 4.4295e-5 & 4.51269e-5 & 5.06443e-5 & 2.93297e-5 & 3.13903e-5 \\\\\n",
       "\t8 & 8 & 18 & 0.010834 & -1.38285e-5 & 0.0141869 & -4.3949e-5 & -3.14833e-5 & 0.00528586 & 0.00212075 & 0.0292138 & 0.0282111 & 0.0048005 & 0.00547741 \\\\\n",
       "\t9 & 9 & 19 & 0.0539611 & -1.36621e-5 & 0.0727695 & -4.41168e-5 & -3.44453e-5 & 0.00762826 & 0.0317748 & 0.0922595 & 0.0999934 & 0.0205368 & 0.0219797 \\\\\n",
       "\t10 & 10 & 24 & 1.55506e-6 & -1.2779e-6 & 1.04667e-6 & 4.22926e-5 & 9.64461e-6 & 3.41589e-6 & 3.87237e-6 & -2.06626e-7 & 4.0798e-7 & 2.24645e-6 & 2.35282e-6 \\\\\n",
       "\t11 & 11 & 25 & 0.000429366 & -1.73646e-5 & 0.000406478 & 1.07052 & 0.641395 & 0.303579 & 0.223118 & 1.77021e-5 & 0.0001671 & 0.0234085 & 0.0213449 \\\\\n",
       "\t12 & 12 & 26 & 0.00455972 & -1.80909e-5 & 0.0287626 & -3.60751e-5 & 0.302011 & 0.444183 & 0.324368 & 0.0193355 & 0.0392097 & 0.0359997 & 0.0349305 \\\\\n",
       "\t13 & 13 & 27 & 9.08092e-6 & -4.89953e-6 & 7.32838e-6 & 1.072e-5 & 1.76373e-5 & 1.45277e-5 & 2.40845e-5 & 2.66983e-6 & 6.13806e-6 & 9.84262e-6 & 1.03438e-5 \\\\\n",
       "\t14 & 14 & 31 & 0.00215502 & -1.5466e-5 & 0.00295137 & -3.98392e-5 & 0.00159911 & 0.00727285 & 0.0166656 & 0.00240865 & 0.00301516 & 0.00148683 & 0.00154467 \\\\\n",
       "\t15 & 15 & 32 & 8.77862e-6 & -4.5373e-6 & 7.07627e-6 & 1.67162e-5 & 1.57203e-5 & 1.38106e-5 & 2.39761e-5 & 2.76193e-6 & 5.92457e-6 & 9.32951e-6 & 9.81356e-6 \\\\\n",
       "\t16 & 16 & 34 & 8.78261e-6 & -4.8088e-6 & 7.81923e-6 & -4.27666e-5 & -7.85178e-6 & 7.35082e-6 & 1.18098e-5 & 1.0315e-5 & 1.33123e-5 & 9.64274e-6 & 1.01525e-5 \\\\\n",
       "\t17 & 17 & 36 & 9.33287e-6 & -5.08246e-6 & 8.32332e-6 & -4.27017e-5 & -8.29267e-6 & 7.89461e-6 & 1.26663e-5 & 1.13042e-5 & 1.39594e-5 & 1.01789e-5 & 1.07291e-5 \\\\\n",
       "\t18 & 18 & 40 & 0.000682077 & -1.68117e-5 & 0.0010486 & -4.27636e-5 & -1.69443e-5 & 8.53587e-5 & 0.00016004 & -9.96481e-6 & 3.08619e-5 & 0.0172148 & 0.00574795 \\\\\n",
       "\t19 & 19 & 42 & 0.000839221 & -1.70376e-5 & 0.00639047 & -4.25916e-5 & -1.19959e-5 & 0.000158379 & 0.000298525 & -2.83481e-6 & 0.000103858 & 0.184722 & 0.160899 \\\\\n",
       "\t20 & 20 & 46 & 0.000791617 & -1.78068e-5 & 0.00185595 & -4.25384e-5 & 4.67763e-6 & 0.00182655 & 0.00326087 & 0.00894262 & 0.0107565 & 0.00927137 & 0.00887883 \\\\\n",
       "\t21 & 21 & 49 & 0.000967952 & -1.77645e-5 & 0.00925951 & -4.24998e-5 & 9.47388e-6 & 0.00941239 & 0.019251 & 0.0709581 & 0.0874911 & 0.0989334 & 0.0935705 \\\\\n",
       "\t22 & 22 & 54 & 0.000915405 & -1.72272e-5 & 0.00308931 & -4.24039e-5 & 9.75998e-6 & 0.00327575 & 0.0062584 & 0.020697 & 0.0225424 & 0.0218883 & 0.0215619 \\\\\n",
       "\t23 & 23 & 55 & 1.37873e-5 & -8.5684e-6 & 1.1028e-5 & -4.21464e-5 & 1.89616e-6 & 1.37161e-5 & 1.9852e-5 & 8.37733e-6 & 1.37409e-5 & 1.88068e-5 & 1.98107e-5 \\\\\n",
       "\t24 & 24 & 56 & 1.31817e-5 & -8.30099e-6 & 1.05368e-5 & -4.21317e-5 & 1.81227e-6 & 1.31033e-5 & 1.89614e-5 & 7.96294e-6 & 1.31136e-5 & 1.80019e-5 & 1.91406e-5 \\\\\n",
       "\t25 & 25 & 59 & 0.0010739 & -1.7098e-5 & 0.00853449 & -4.2412e-5 & 1.36663e-5 & 0.0114027 & 0.0214486 & 0.0754848 & 0.0752937 & 0.0640649 & 0.0633917 \\\\\n",
       "\t26 & 26 & 61 & 0.00104227 & -1.70895e-5 & 0.00855879 & -4.23933e-5 & 1.57994e-5 & 0.0131726 & 0.0236991 & 0.0815669 & 0.0796428 & 0.0662222 & 0.0663597 \\\\\n",
       "\t27 & 27 & 62 & 6.87331e-6 & -4.69455e-6 & 5.46826e-6 & -4.15381e-5 & 1.35397e-6 & 6.91009e-6 & 9.94907e-6 & 4.47116e-6 & 6.83217e-6 & 9.25483e-6 & 9.76367e-6 \\\\\n",
       "\t28 & 28 & 65 & 0.00101377 & -1.69554e-5 & 0.0198865 & -4.24286e-5 & 2.00563e-5 & 0.0353744 & 0.0626631 & 0.218791 & 0.195661 & 0.128562 & 0.134894 \\\\\n",
       "\t29 & 29 & 66 & 0.000915304 & -1.7341e-5 & 0.0183134 & -4.24678e-5 & 1.6385e-5 & 0.0267464 & 0.0504761 & 0.183893 & 0.175562 & 0.125989 & 0.130627 \\\\\n",
       "\t30 & 30 & 69 & 0.000304659 & -2.03922e-5 & 0.000408822 & -4.26149e-5 & 0.000383947 & 0.091593 & 0.0804821 & 0.134387 & 0.152108 & 0.179278 & 0.168518 \\\\\n",
       "\t$\\dots$ & $\\dots$ & $\\dots$ & $\\dots$ & $\\dots$ & $\\dots$ & $\\dots$ & $\\dots$ & $\\dots$ & $\\dots$ & $\\dots$ & $\\dots$ & $\\dots$ & $\\dots$ \\\\\n",
       "\\end{tabular}\n"
      ],
      "text/plain": [
       "54×13 DataFrame\n",
       "│ Row │ gen   │ at_bus │ 3           │ 8            │ 11          │ 20           │ 24          │ 26          │ 31          │ 38          │ 43           │ 49          │ 53           │\n",
       "│     │ \u001b[90mInt64\u001b[39m │ \u001b[90mInt64\u001b[39m  │ \u001b[90mFloat64\u001b[39m     │ \u001b[90mFloat64\u001b[39m      │ \u001b[90mFloat64\u001b[39m     │ \u001b[90mFloat64\u001b[39m      │ \u001b[90mFloat64\u001b[39m     │ \u001b[90mFloat64\u001b[39m     │ \u001b[90mFloat64\u001b[39m     │ \u001b[90mFloat64\u001b[39m     │ \u001b[90mFloat64\u001b[39m      │ \u001b[90mFloat64\u001b[39m     │ \u001b[90mFloat64\u001b[39m      │\n",
       "├─────┼───────┼────────┼─────────────┼──────────────┼─────────────┼──────────────┼─────────────┼─────────────┼─────────────┼─────────────┼──────────────┼─────────────┼──────────────┤\n",
       "│ 1   │ 1     │ 1      │ 1.73873e-5  │ 7.1612e-6    │ 1.04286e-5  │ -3.52529e-5  │ 3.12384e-8  │ 5.95624e-6  │ 9.45182e-6  │ 2.53532e-6  │ 5.19493e-6   │ 6.37283e-6  │ 6.73209e-6   │\n",
       "│ 2   │ 2     │ 4      │ 1.53785e-5  │ 9.70632e-6   │ 1.36642e-5  │ -2.90785e-5  │ 1.91665e-6  │ 6.67612e-6  │ 1.04771e-5  │ 2.34365e-6  │ 5.44236e-6   │ 7.30524e-6  │ 7.70877e-6   │\n",
       "│ 3   │ 3     │ 6      │ 1.43023e-5  │ 7.77962e-6   │ 1.10664e-5  │ -3.4226e-5   │ 4.61397e-7  │ 6.15884e-6  │ 9.73653e-6  │ 2.51202e-6  │ 5.28759e-6   │ 6.62328e-6  │ 6.99417e-6   │\n",
       "│ 4   │ 4     │ 8      │ 1.76914e-5  │ 1.62917e-5   │ 1.43973e-5  │ 8.71582e-6   │ 6.53924e-6  │ 8.13968e-6  │ 1.2322e-5   │ 1.63021e-6  │ 5.68208e-6   │ 9.14585e-6  │ 9.64725e-6   │\n",
       "│ 5   │ 5     │ 10     │ 0.683788    │ 0.954884     │ 0.654163    │ -0.0242207   │ 0.0332049   │ -0.0140828  │ 0.0435053   │ 0.00123468  │ -0.0149846   │ 0.000808167 │ -0.000407696 │\n",
       "│ 6   │ 6     │ 12     │ 0.152625    │ 0.067288     │ 0.1259      │ -4.13813e-5  │ -7.91139e-6 │ 0.0128398   │ 0.0445334   │ 0.0167016   │ 0.0394037    │ 0.00669624  │ 0.00729912   │\n",
       "│ 7   │ 7     │ 15     │ 4.05042e-5  │ -5.85928e-6  │ 4.43996e-5  │ -4.38581e-5  │ -2.72589e-5 │ 2.98768e-5  │ 4.4295e-5   │ 4.51269e-5  │ 5.06443e-5   │ 2.93297e-5  │ 3.13903e-5   │\n",
       "│ 8   │ 8     │ 18     │ 0.010834    │ -1.38285e-5  │ 0.0141869   │ -4.3949e-5   │ -3.14833e-5 │ 0.00528586  │ 0.00212075  │ 0.0292138   │ 0.0282111    │ 0.0048005   │ 0.00547741   │\n",
       "│ 9   │ 9     │ 19     │ 0.0539611   │ -1.36621e-5  │ 0.0727695   │ -4.41168e-5  │ -3.44453e-5 │ 0.00762826  │ 0.0317748   │ 0.0922595   │ 0.0999934    │ 0.0205368   │ 0.0219797    │\n",
       "│ 10  │ 10    │ 24     │ 1.55506e-6  │ -1.2779e-6   │ 1.04667e-6  │ 4.22926e-5   │ 9.64461e-6  │ 3.41589e-6  │ 3.87237e-6  │ -2.06626e-7 │ 4.0798e-7    │ 2.24645e-6  │ 2.35282e-6   │\n",
       "⋮\n",
       "│ 44  │ 44    │ 99     │ 1.46177e-5  │ 4.09182e-6   │ 1.15613e-5  │ -3.41555e-5  │ 1.01216e-5  │ 1.49652e-5  │ 2.12811e-5  │ 5.61835e-6  │ 1.01241e-5   │ 1.55851e-5  │ 1.79072e-5   │\n",
       "│ 45  │ 45    │ 100    │ 0.00162378  │ 2.99251e-5   │ 0.000745122 │ -3.69974e-5  │ 0.00108358  │ 0.00200722  │ 0.0024908   │ 0.00253937  │ 0.000454777  │ 0.00114371  │ 0.00361972   │\n",
       "│ 46  │ 46    │ 103    │ 0.000974172 │ 3.64457e-5   │ 0.0006107   │ -3.6189e-5   │ 0.000656643 │ 0.00110343  │ 0.00149867  │ 0.000567816 │ 0.000367705  │ 0.000787266 │ 0.00152307   │\n",
       "│ 47  │ 47    │ 104    │ 0.000180856 │ 3.97651e-5   │ 0.000179197 │ -3.50148e-5  │ 0.000137406 │ 0.000246552 │ 0.000350331 │ 9.32798e-5  │ 0.000138985  │ 0.000226008 │ 0.000305384  │\n",
       "│ 48  │ 48    │ 105    │ 0.00261794  │ 4.78612e-5   │ 0.000819446 │ -3.42721e-5  │ 0.00161048  │ 0.001774    │ 0.00239145  │ 0.00107336  │ 0.000350944  │ 0.000875246 │ 0.00294253   │\n",
       "│ 49  │ 49    │ 107    │ 0.00286347  │ 5.45766e-5   │ 0.00083058  │ -3.186e-5    │ 0.00171692  │ 0.00164223  │ 0.00227556  │ 0.000719605 │ 0.000329935  │ 0.000812514 │ 0.0025468    │\n",
       "│ 50  │ 50    │ 110    │ 0.0025881   │ 4.91191e-5   │ 0.000821419 │ -3.34607e-5  │ 0.00156413  │ 0.00173629  │ 0.00234925  │ 0.000959003 │ 0.000351042  │ 0.00087248  │ 0.00282053   │\n",
       "│ 51  │ 51    │ 111    │ 0.000263368 │ -0.000320328 │ 0.000187367 │ -0.000566976 │ 0.000246536 │ 0.000645975 │ 0.000862874 │ 0.000392054 │ -6.00036e-5  │ 0.000152929 │ 0.00101785   │\n",
       "│ 52  │ 52    │ 112    │ 0.00302157  │ -0.000360506 │ 0.000457378 │ -0.000639963 │ 0.00181757  │ 0.00138287  │ 0.00186375  │ 0.000536594 │ -0.000131917 │ 0.000172005 │ 0.00227465   │\n",
       "│ 53  │ 53    │ 113    │ 7.54852e-6  │ -2.89277e-6  │ 6.49319e-6  │ -4.26164e-5  │ -5.13518e-6 │ 7.45385e-6  │ 1.0808e-5   │ 5.21579e-6  │ 7.31603e-6   │ 6.59835e-6  │ 6.9792e-6    │\n",
       "│ 54  │ 54    │ 116    │ 6.03959e-6  │ -4.08838e-6  │ 4.74091e-6  │ -4.06233e-5  │ 2.74123e-6  │ 6.45327e-6  │ 9.15746e-6  │ 3.67161e-6  │ 5.68114e-6   │ 7.70819e-6  │ 8.07741e-6   │"
      ]
     },
     "metadata": {},
     "output_type": "display_data"
    }
   ],
   "source": [
    "include(\"output.jl\")\n",
    "\n",
    "res_dfs = jump_to_df(m_cc, settings, buses, generators, lines, farms; solvetime = solvetime_cc)\n",
    "for r in res_dfs\n",
    "    display(r)\n",
    "end"
   ]
  },
  {
   "cell_type": "code",
   "execution_count": 18,
   "metadata": {
    "hideCode": false,
    "hidePrompt": false
   },
   "outputs": [
    {
     "name": "stdout",
     "output_type": "stream",
     "text": [
      "MOSEK warning 705: #26 (nearly) zero elements are specified in sparse row ''(11767) of matrix 'A'.\n",
      "MOSEK warning 705: #25 (nearly) zero elements are specified in sparse row ''(11768) of matrix 'A'.\n",
      "MOSEK warning 705: #25 (nearly) zero elements are specified in sparse row ''(11769) of matrix 'A'.\n",
      "MOSEK warning 705: #26 (nearly) zero elements are specified in sparse row ''(11770) of matrix 'A'.\n",
      "MOSEK warning 705: #25 (nearly) zero elements are specified in sparse row ''(11771) of matrix 'A'.\n",
      "MOSEK warning 705: #25 (nearly) zero elements are specified in sparse row ''(11772) of matrix 'A'.\n",
      "MOSEK warning 705: #25 (nearly) zero elements are specified in sparse row ''(11773) of matrix 'A'.\n",
      "MOSEK warning 705: #25 (nearly) zero elements are specified in sparse row ''(11774) of matrix 'A'.\n",
      "MOSEK warning 705: #25 (nearly) zero elements are specified in sparse row ''(11775) of matrix 'A'.\n",
      "MOSEK warning 705: #25 (nearly) zero elements are specified in sparse row ''(11776) of matrix 'A'.\n",
      "MOSEK warning 705: #26 (nearly) zero elements are specified in sparse row ''(11723) of matrix 'A'.\n",
      "MOSEK warning 705: #25 (nearly) zero elements are specified in sparse row ''(11724) of matrix 'A'.\n",
      "MOSEK warning 705: #25 (nearly) zero elements are specified in sparse row ''(11725) of matrix 'A'.\n",
      "MOSEK warning 705: #26 (nearly) zero elements are specified in sparse row ''(11726) of matrix 'A'.\n",
      "MOSEK warning 705: #25 (nearly) zero elements are specified in sparse row ''(11727) of matrix 'A'.\n",
      "MOSEK warning 705: #25 (nearly) zero elements are specified in sparse row ''(11728) of matrix 'A'.\n",
      "MOSEK warning 705: #25 (nearly) zero elements are specified in sparse row ''(11729) of matrix 'A'.\n",
      "MOSEK warning 705: #25 (nearly) zero elements are specified in sparse row ''(11730) of matrix 'A'.\n",
      "MOSEK warning 705: #25 (nearly) zero elements are specified in sparse row ''(11731) of matrix 'A'.\n",
      "MOSEK warning 705: #25 (nearly) zero elements are specified in sparse row ''(11732) of matrix 'A'.\n"
     ]
    }
   ],
   "source": [
    "# Full experiment\n",
    "\n",
    "ex_name = \"all_cases_no_varpen_le_fixedeps\"\n",
    "\n",
    "var_penalty = Dict(\"p_G\" => 0, \"q_G\" => 0, \"v\" => 0, \"f_p\" => 0, \"f_q\" => 0)\n",
    "settings = Dict(\n",
    "    \"ϵ\" => 0.001,\n",
    "    \"theta_u\" => 180,\n",
    "    \"alpha_mod\" => \"single\",\n",
    "    \"var_penalty\" => var_penalty,\n",
    "    \"run_type\" => \"full_cc\", # det, gen_cc, full_cc\n",
    ")\n",
    "\n",
    "experiment_results = Dict()\n",
    "experiment_settings = Dict()\n",
    "\n",
    "# All with single alpha and no varpen\n",
    "# Det\n",
    "settings[\"run_type\"] = \"det\"\n",
    "m_cc, meta = build_ac_cc_opf(generators, buses, lines, farms, settings, m_det; print_output=false);\n",
    "solvetime_cc = @elapsed optimize!(m_cc)\n",
    "res_dfs = jump_to_df(m_cc, settings, buses, generators, lines, farms; solvetime = solvetime_cc)\n",
    "experiment_results[\"det\"] = res_dfs\n",
    "experiment_settings[\"det\"] = copy(settings)\n",
    "\n",
    "# gen_cc\n",
    "settings[\"run_type\"] = \"gen_cc\"\n",
    "m_cc, meta = build_ac_cc_opf(generators, buses, lines, farms, settings, m_det; print_output=false);\n",
    "solvetime_cc = @elapsed optimize!(m_cc)\n",
    "res_dfs = jump_to_df(m_cc, settings, buses, generators, lines, farms; solvetime = solvetime_cc)\n",
    "experiment_results[\"gen_cc\"] = res_dfs\n",
    "experiment_settings[\"gen_cc\"] = copy(settings)\n",
    "\n",
    "# full_cc\n",
    "settings[\"run_type\"] = \"full_cc\"\n",
    "m_cc, meta = build_ac_cc_opf(generators, buses, lines, farms, settings, m_det; print_output=false);\n",
    "solvetime_cc = @elapsed optimize!(m_cc)\n",
    "res_dfs = jump_to_df(m_cc, settings, buses, generators, lines, farms; solvetime = solvetime_cc)\n",
    "experiment_results[\"full_cc\"] = res_dfs\n",
    "experiment_settings[\"full_cc\"] = copy(settings)\n",
    "\n",
    "\n",
    "# Split Alpha\n",
    "settings[\"alpha_mod\"] = \"split\"\n",
    "# Det\n",
    "settings[\"run_type\"] = \"det\"\n",
    "m_cc, meta = build_ac_cc_opf(generators, buses, lines, farms, settings, m_det; print_output=false);\n",
    "solvetime_cc = @elapsed optimize!(m_cc)\n",
    "res_dfs = jump_to_df(m_cc, settings, buses, generators, lines, farms; solvetime = solvetime_cc)\n",
    "experiment_results[\"det_split\"] = res_dfs\n",
    "experiment_settings[\"det_split\"] = copy(settings)\n",
    "\n",
    "# gen_cc\n",
    "settings[\"run_type\"] = \"gen_cc\"\n",
    "m_cc, meta = build_ac_cc_opf(generators, buses, lines, farms, settings, m_det; print_output=false);\n",
    "solvetime_cc = @elapsed optimize!(m_cc)\n",
    "res_dfs = jump_to_df(m_cc, settings, buses, generators, lines, farms; solvetime = solvetime_cc)\n",
    "experiment_results[\"gen_cc_split\"] = res_dfs\n",
    "experiment_settings[\"gen_cc_split\"] = copy(settings)\n",
    "\n",
    "# full_cc\n",
    "settings[\"run_type\"] = \"full_cc\"\n",
    "m_cc, meta = build_ac_cc_opf(generators, buses, lines, farms, settings, m_det; print_output=false);\n",
    "solvetime_cc = @elapsed optimize!(m_cc)\n",
    "res_dfs = jump_to_df(m_cc, settings, buses, generators, lines, farms; solvetime = solvetime_cc)\n",
    "experiment_results[\"full_cc_split\"] = res_dfs\n",
    "experiment_settings[\"full_cc_split\"] = copy(settings)\n",
    "\n",
    "save_results(experiment_results, experiment_settings, ex_name)"
   ]
  },
  {
   "cell_type": "code",
   "execution_count": 19,
   "metadata": {},
   "outputs": [
    {
     "name": "stdout",
     "output_type": "stream",
     "text": [
      "Running psi = 0.0\n",
      "MOSEK warning 705: #26 (nearly) zero elements are specified in sparse row ''(11767) of matrix 'A'.\n",
      "MOSEK warning 705: #25 (nearly) zero elements are specified in sparse row ''(11768) of matrix 'A'.\n",
      "MOSEK warning 705: #25 (nearly) zero elements are specified in sparse row ''(11769) of matrix 'A'.\n",
      "MOSEK warning 705: #26 (nearly) zero elements are specified in sparse row ''(11770) of matrix 'A'.\n",
      "MOSEK warning 705: #25 (nearly) zero elements are specified in sparse row ''(11771) of matrix 'A'.\n",
      "MOSEK warning 705: #25 (nearly) zero elements are specified in sparse row ''(11772) of matrix 'A'.\n",
      "MOSEK warning 705: #25 (nearly) zero elements are specified in sparse row ''(11773) of matrix 'A'.\n",
      "MOSEK warning 705: #25 (nearly) zero elements are specified in sparse row ''(11774) of matrix 'A'.\n",
      "MOSEK warning 705: #25 (nearly) zero elements are specified in sparse row ''(11775) of matrix 'A'.\n",
      "MOSEK warning 705: #25 (nearly) zero elements are specified in sparse row ''(11776) of matrix 'A'.\n",
      "Running psi = 0.1\n",
      "MOSEK warning 705: #26 (nearly) zero elements are specified in sparse row ''(11767) of matrix 'A'.\n",
      "MOSEK warning 705: #25 (nearly) zero elements are specified in sparse row ''(11768) of matrix 'A'.\n",
      "MOSEK warning 705: #25 (nearly) zero elements are specified in sparse row ''(11769) of matrix 'A'.\n",
      "MOSEK warning 705: #26 (nearly) zero elements are specified in sparse row ''(11770) of matrix 'A'.\n",
      "MOSEK warning 705: #25 (nearly) zero elements are specified in sparse row ''(11771) of matrix 'A'.\n",
      "MOSEK warning 705: #25 (nearly) zero elements are specified in sparse row ''(11772) of matrix 'A'.\n",
      "MOSEK warning 705: #25 (nearly) zero elements are specified in sparse row ''(11773) of matrix 'A'.\n",
      "MOSEK warning 705: #25 (nearly) zero elements are specified in sparse row ''(11774) of matrix 'A'.\n",
      "MOSEK warning 705: #25 (nearly) zero elements are specified in sparse row ''(11775) of matrix 'A'.\n",
      "MOSEK warning 705: #25 (nearly) zero elements are specified in sparse row ''(11776) of matrix 'A'.\n",
      "Running psi = 1.0\n",
      "MOSEK warning 705: #26 (nearly) zero elements are specified in sparse row ''(11767) of matrix 'A'.\n",
      "MOSEK warning 705: #25 (nearly) zero elements are specified in sparse row ''(11768) of matrix 'A'.\n",
      "MOSEK warning 705: #25 (nearly) zero elements are specified in sparse row ''(11769) of matrix 'A'.\n",
      "MOSEK warning 705: #26 (nearly) zero elements are specified in sparse row ''(11770) of matrix 'A'.\n",
      "MOSEK warning 705: #25 (nearly) zero elements are specified in sparse row ''(11771) of matrix 'A'.\n",
      "MOSEK warning 705: #25 (nearly) zero elements are specified in sparse row ''(11772) of matrix 'A'.\n",
      "MOSEK warning 705: #25 (nearly) zero elements are specified in sparse row ''(11773) of matrix 'A'.\n",
      "MOSEK warning 705: #25 (nearly) zero elements are specified in sparse row ''(11774) of matrix 'A'.\n",
      "MOSEK warning 705: #25 (nearly) zero elements are specified in sparse row ''(11775) of matrix 'A'.\n",
      "MOSEK warning 705: #25 (nearly) zero elements are specified in sparse row ''(11776) of matrix 'A'.\n",
      "Running psi = 10.0\n",
      "MOSEK warning 705: #26 (nearly) zero elements are specified in sparse row ''(11767) of matrix 'A'.\n",
      "MOSEK warning 705: #25 (nearly) zero elements are specified in sparse row ''(11768) of matrix 'A'.\n",
      "MOSEK warning 705: #25 (nearly) zero elements are specified in sparse row ''(11769) of matrix 'A'.\n",
      "MOSEK warning 705: #26 (nearly) zero elements are specified in sparse row ''(11770) of matrix 'A'.\n",
      "MOSEK warning 705: #25 (nearly) zero elements are specified in sparse row ''(11771) of matrix 'A'.\n",
      "MOSEK warning 705: #25 (nearly) zero elements are specified in sparse row ''(11772) of matrix 'A'.\n",
      "MOSEK warning 705: #25 (nearly) zero elements are specified in sparse row ''(11773) of matrix 'A'.\n",
      "MOSEK warning 705: #25 (nearly) zero elements are specified in sparse row ''(11774) of matrix 'A'.\n",
      "MOSEK warning 705: #25 (nearly) zero elements are specified in sparse row ''(11775) of matrix 'A'.\n",
      "MOSEK warning 705: #25 (nearly) zero elements are specified in sparse row ''(11776) of matrix 'A'.\n",
      "Running psi = 100.0\n",
      "MOSEK warning 705: #26 (nearly) zero elements are specified in sparse row ''(11767) of matrix 'A'.\n",
      "MOSEK warning 705: #25 (nearly) zero elements are specified in sparse row ''(11768) of matrix 'A'.\n",
      "MOSEK warning 705: #25 (nearly) zero elements are specified in sparse row ''(11769) of matrix 'A'.\n",
      "MOSEK warning 705: #26 (nearly) zero elements are specified in sparse row ''(11770) of matrix 'A'.\n",
      "MOSEK warning 705: #25 (nearly) zero elements are specified in sparse row ''(11771) of matrix 'A'.\n",
      "MOSEK warning 705: #25 (nearly) zero elements are specified in sparse row ''(11772) of matrix 'A'.\n",
      "MOSEK warning 705: #25 (nearly) zero elements are specified in sparse row ''(11773) of matrix 'A'.\n",
      "MOSEK warning 705: #25 (nearly) zero elements are specified in sparse row ''(11774) of matrix 'A'.\n",
      "MOSEK warning 705: #25 (nearly) zero elements are specified in sparse row ''(11775) of matrix 'A'.\n",
      "MOSEK warning 705: #25 (nearly) zero elements are specified in sparse row ''(11776) of matrix 'A'.\n",
      "Running psi = 1000.0\n",
      "MOSEK warning 705: #26 (nearly) zero elements are specified in sparse row ''(11767) of matrix 'A'.\n",
      "MOSEK warning 705: #25 (nearly) zero elements are specified in sparse row ''(11768) of matrix 'A'.\n",
      "MOSEK warning 705: #25 (nearly) zero elements are specified in sparse row ''(11769) of matrix 'A'.\n",
      "MOSEK warning 705: #26 (nearly) zero elements are specified in sparse row ''(11770) of matrix 'A'.\n",
      "MOSEK warning 705: #25 (nearly) zero elements are specified in sparse row ''(11771) of matrix 'A'.\n",
      "MOSEK warning 705: #25 (nearly) zero elements are specified in sparse row ''(11772) of matrix 'A'.\n",
      "MOSEK warning 705: #25 (nearly) zero elements are specified in sparse row ''(11773) of matrix 'A'.\n",
      "MOSEK warning 705: #25 (nearly) zero elements are specified in sparse row ''(11774) of matrix 'A'.\n",
      "MOSEK warning 705: #25 (nearly) zero elements are specified in sparse row ''(11775) of matrix 'A'.\n",
      "MOSEK warning 705: #25 (nearly) zero elements are specified in sparse row ''(11776) of matrix 'A'.\n"
     ]
    }
   ],
   "source": [
    "# Full experiment\n",
    "\n",
    "ex_name = \"full_cc_var_pen_range_vle_fixedeps\"\n",
    "\n",
    "var_penalty = Dict(\"p_G\" => 0, \"q_G\" => 0, \"v\" => 0, \"f_p\" => 0, \"f_q\" => 0)\n",
    "settings = Dict(\n",
    "    \"ϵ\" => 0.001,\n",
    "    \"theta_u\" => 180,\n",
    "    \"alpha_mod\" => \"single\",\n",
    "    \"var_penalty\" => var_penalty,\n",
    "    \"run_type\" => \"full_cc\", # det, gen_cc, full_cc\n",
    ")\n",
    "\n",
    "experiment_results = Dict()\n",
    "experiment_settings = Dict()\n",
    "\n",
    "psis = [0, 0.1, 1, 10, 100, 1000]\n",
    "for psi in psis\n",
    "    println(\"Running psi = $(psi)\")\n",
    "    \n",
    "    var_penalty = Dict(\"p_G\" => psi, \"q_G\" => psi, \"v\" => psi, \"f_p\" => psi, \"f_q\" => psi)\n",
    "    settings[\"var_penalty\"] = var_penalty\n",
    "    \n",
    "    m_cc, meta = build_ac_cc_opf(generators, buses, lines, farms, settings, m_det; print_output=false);\n",
    "    solvetime_cc = @elapsed optimize!(m_cc)\n",
    "    \n",
    "    res_dfs = jump_to_df(m_cc, settings, buses, generators, lines, farms; solvetime = solvetime_cc)\n",
    "    \n",
    "    runname = \"psi$(psi)\"\n",
    "    experiment_results[runname] = res_dfs\n",
    "    experiment_settings[runname] = copy(settings)\n",
    "    \n",
    "end\n",
    "\n",
    "save_results(experiment_results, experiment_settings, ex_name)"
   ]
  },
  {
   "cell_type": "code",
   "execution_count": 25,
   "metadata": {},
   "outputs": [
    {
     "name": "stdout",
     "output_type": "stream",
     "text": [
      "29\n"
     ]
    }
   ],
   "source": [
    "start = 22\n",
    "endb = 23\n",
    "for l in lines\n",
    "    if ((l.head == start) && (l.tail == endb)) || ((l.head == endb) && (l.tail == start))\n",
    "        println(l.arcID)\n",
    "    end\n",
    "end"
   ]
  },
  {
   "cell_type": "code",
   "execution_count": null,
   "metadata": {},
   "outputs": [],
   "source": []
  }
 ],
 "metadata": {
  "hide_code_all_hidden": false,
  "kernelspec": {
   "display_name": "Julia 1.1.0",
   "language": "julia",
   "name": "julia-1.1"
  },
  "language_info": {
   "file_extension": ".jl",
   "mimetype": "application/julia",
   "name": "julia",
   "version": "1.1.0"
  },
  "varInspector": {
   "cols": {
    "lenName": 16,
    "lenType": 16,
    "lenVar": 40
   },
   "kernels_config": {
    "python": {
     "delete_cmd_postfix": "",
     "delete_cmd_prefix": "del ",
     "library": "var_list.py",
     "varRefreshCmd": "print(var_dic_list())"
    },
    "r": {
     "delete_cmd_postfix": ") ",
     "delete_cmd_prefix": "rm(",
     "library": "var_list.r",
     "varRefreshCmd": "cat(var_dic_list()) "
    }
   },
   "types_to_exclude": [
    "module",
    "function",
    "builtin_function_or_method",
    "instance",
    "_Feature"
   ],
   "window_display": false
  }
 },
 "nbformat": 4,
 "nbformat_minor": 2
}
