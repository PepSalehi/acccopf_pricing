{
 "cells": [
  {
   "cell_type": "markdown",
   "metadata": {},
   "source": [
    "# Case Study Model\n",
    "\n",
    "This notebook shows the case study results supplement to the paper \"*Risk- and Variance-Aware Electricity Pricing*\" by Robert Mieth, Jip Kim and Yury Dvorkin.\n",
    "Implementation and Models by Robert Mieth, building on AC-OPF and CC-ACOPF Code written by Miles Lubin and Yury Dvorkin available in https://github.com/dvorkinman/Code_for_CCACOPF\n",
    "\n",
    "## General Remarks\n",
    "\n",
    "- Framework\n",
    "    - Requires Julia 1.1.\n",
    "    - All necessary packages with their respective versions are indicated in the Julia project/manifest files \n",
    "    - The necessary packages are automatically installed *within the environment of this project*, i.e. executing this notebook will have no effect on globally installed packages and versions of your Julia distribution\n"
   ]
  },
  {
   "cell_type": "code",
   "execution_count": 24,
   "metadata": {
    "hideCode": false,
    "hidePrompt": false
   },
   "outputs": [
    {
     "data": {
      "text/plain": [
       "\"C:\\\\Users\\\\Robert\\\\Promotion\\\\Workshop\\\\02_cc_dlmp_varaware\\\\02_var_aware_accc_lmp\\\\_for_repo\\\\Project.toml\""
      ]
     },
     "execution_count": 24,
     "metadata": {},
     "output_type": "execute_result"
    }
   ],
   "source": [
    "## Instantiate Julia Environment\n",
    "using Pkg\n",
    "Pkg.activate(\".\")\n",
    "# Pkg.instantiate()"
   ]
  },
  {
   "cell_type": "code",
   "execution_count": 25,
   "metadata": {
    "hideCode": false,
    "hidePrompt": false
   },
   "outputs": [],
   "source": [
    "## Load Packages\n",
    "using Distributions, LinearAlgebra, SparseArrays, DataFrames, Dates # Basic Julia Utility\n",
    "using CSV, JSON, JLD # For reading and writing data \n",
    "using JuMP # Modeling Framework\n",
    "using Mosek, MosekTools # Solver and Solver Environment for conic programs\n",
    "using Ipopt # Interior-point solver for non-convex ACOPF\n",
    "\n",
    "ENV[\"Columns\"] = 500 # Increase Default Column-Cutoff for better result display"
   ]
  },
  {
   "cell_type": "code",
   "execution_count": 26,
   "metadata": {},
   "outputs": [
    {
     "data": {
      "text/plain": [
       "save_results (generic function with 1 method)"
      ]
     },
     "execution_count": 26,
     "metadata": {},
     "output_type": "execute_result"
    }
   ],
   "source": [
    "## Load Functions and models\n",
    "include(\"src/input.jl\") # Type definitons and read-in functions\n",
    "include(\"src/model_definitions.jl\") # AC-OPF and CC AC-OPF Models\n",
    "include(\"src/tools.jl\") # Some additional functions\n",
    "include(\"src/output.jl\") # Postprocessing of solved model"
   ]
  },
  {
   "cell_type": "code",
   "execution_count": 27,
   "metadata": {},
   "outputs": [
    {
     "data": {
      "text/plain": [
       "Dict{String,Any} with 4 entries:\n",
       "  \"generators\"    => Generator[Generator(1, 1, 0.0, 0.0, 1.0, 0.0, 0.15, -0.05,…\n",
       "  \"buses\"         => Bus[Bus(1, :PV, 0.561, 0.297, 0.0, 0.0, 0.0, 0.0, 1.0, 0.1…\n",
       "  \"lines\"         => Line[Line(1, 2, 1, 0.0303, 0.0999, 2.7803, -9.16674, 0.0, …\n",
       "  \"generatorlist\" => [1, 4, 6, 8, 10, 12, 15, 18, 19, 24  …  100, 103, 104, 105…"
      ]
     },
     "execution_count": 27,
     "metadata": {},
     "output_type": "execute_result"
    }
   ],
   "source": [
    "## Load case data\n",
    "casedat = load(\"casedata/118bus.jld\")\n",
    "# Note: Because MatpowerCases.jl has no Julia 1 support, \n",
    "# the data has been read with an older Julia version and pickled \n",
    "# in a .jld file to be read in Julia 1."
   ]
  },
  {
   "cell_type": "code",
   "execution_count": 28,
   "metadata": {
    "hideCode": false,
    "hidePrompt": false
   },
   "outputs": [
    {
     "name": "stdout",
     "output_type": "stream",
     "text": [
      "bus: 118\n",
      "line: 186\n",
      "gen: 54\n",
      "farm: 11\n"
     ]
    }
   ],
   "source": [
    "## Prepare Data\n",
    "generators = casedat[\"generators\"]\n",
    "buses = casedat[\"buses\"]\n",
    "lines = casedat[\"lines\"]\n",
    "generatorlist = casedat[\"generatorlist\"]\n",
    "\n",
    "n_buses = length(buses)\n",
    "n_lines = length(lines)\n",
    "n_generators = length(generators)\n",
    "\n",
    "refbus = 1\n",
    "loadscale = 1.10\n",
    "mvaBase = 100\n",
    "thermalLimitscale = 0.6\n",
    "theta_u = 15\n",
    "\n",
    "line_limits= [175 175 500 175 175 175 500 500 500 175 175 175 175 175 175 175 175 175 175 175 500 175 175 175 175 175 175 175 175 175 500 500 500 175 175 500 175 500 175 175 140 175 175 175 175 175 175 175 175 500 500 175 175 175 175 175 175 175 175 175 175 175 175 175 175 175 175 175 175 175 175 175 175 175 175 175 175 175 175 175 175 175 175 175 175 175 175 175 175 500 175 175 500 500 500 500 500 500 500 175 175 500 175 500 175 175 500 500 175 175 175 175 175 175 175 500 175 175 175 175 175 175 500 500 175 500 500 200 200 175 175 175 500 500 175 175 500 500 500 175 500 500 175 175 175 175 175 175 175 175 175 175 200 175 175 175 175 175 175 175 175 175 500 175 175 175 175 175 175 175 175 175 175 175 175 175 175 175 500 175 175 175 500 175 175 175]\n",
    "\n",
    "for i in 1:length(lines)\n",
    "    lines[i].u = 0.99*thermalLimitscale * line_limits[i]/mvaBase\n",
    "end\n",
    "\n",
    "# Create Wind Farms\n",
    "wp = 1.25 \n",
    "factor_σ =  1.25*wp\n",
    "voll = 10000\n",
    "\n",
    "farms = Farm[]\n",
    "push!(farms, Farm(70.0/100*wp,   factor_σ *7.0/100,  3))\n",
    "push!(farms, Farm(147.0/100*wp,  factor_σ *14.7/100, 8))\n",
    "push!(farms, Farm(102.0/100*wp,  factor_σ *10.2/100, 11))\n",
    "push!(farms, Farm(105.0/100*wp,  factor_σ *10.5/100, 20))\n",
    "push!(farms, Farm(113.0/100*wp,  factor_σ *11.3/100, 24))\n",
    "push!(farms, Farm(84.0/100*wp,   factor_σ *8.4/100,  26))\n",
    "push!(farms, Farm(59.0/100*wp,   factor_σ * 5.9/100, 31))\n",
    "push!(farms, Farm(250.0/100*wp,  factor_σ *25.0/100, 38))\n",
    "push!(farms, Farm(118.0/100*wp,  factor_σ *11.8/100, 43))\n",
    "push!(farms, Farm(76.0/100*wp,   factor_σ *7.6/100,  49))\n",
    "push!(farms, Farm(72.0/100*wp,   factor_σ *7.2/100,  53))\n",
    "n_farms = length(farms)\n",
    "\n",
    "for (i,f) in enumerate(farms)\n",
    "    push!(buses[f.bus].farmids, i)\n",
    "end\n",
    "\n",
    "println(\"bus: \", n_buses)\n",
    "println(\"line: \", n_lines)\n",
    "println(\"gen: \", n_generators)\n",
    "println(\"farm: \", n_farms)\n",
    "\n",
    "PV = findall(b -> b.kind==:PV, buses)\n",
    "PQ = findall(b -> b.kind==:PQ, buses)\n",
    "REF = findall(b -> b.kind==:Ref, buses)\n",
    "@assert length(REF) == 1"
   ]
  },
  {
   "cell_type": "code",
   "execution_count": 29,
   "metadata": {
    "hideCode": false,
    "hidePrompt": false
   },
   "outputs": [
    {
     "name": "stdout",
     "output_type": "stream",
     "text": [
      ">>> Total Deviaton = 1.4477201144585377\n",
      "This is Ipopt version 3.12.10, running with linear solver mumps.\n",
      "NOTE: Other linear solvers might be more efficient (see Ipopt documentation).\n",
      "\n",
      "Number of nonzeros in equality constraint Jacobian...:     5156\n",
      "Number of nonzeros in inequality constraint Jacobian.:     1358\n",
      "Number of nonzeros in Lagrangian Hessian.............:     8252\n",
      "\n",
      "Total number of variables............................:     1339\n",
      "                     variables with only lower bounds:      183\n",
      "                variables with lower and upper bounds:      186\n",
      "                     variables with only upper bounds:        0\n",
      "Total number of equality constraints.................:     1167\n",
      "Total number of inequality constraints...............:      825\n",
      "        inequality constraints with only lower bounds:      227\n",
      "   inequality constraints with lower and upper bounds:        0\n",
      "        inequality constraints with only upper bounds:      598\n",
      "\n",
      "iter    objective    inf_pr   inf_du lg(mu)  ||d||  lg(rg) alpha_du alpha_pr  ls\n",
      "   0  0.0000000e+00 3.12e+00 1.00e+02  -1.0 0.00e+00    -  0.00e+00 0.00e+00   0\n",
      "   1  6.1129916e+01 3.12e+00 9.99e+01  -1.0 5.88e+02    -  3.18e-04 5.49e-04h  1\n",
      "   2  9.8388324e+01 3.12e+00 9.99e+01  -1.0 2.13e+02    -  7.05e-04 3.07e-04f  1\n",
      "   3  6.2977151e+02 3.11e+00 1.18e+02  -1.0 8.67e+01   0.0 5.10e-04 4.07e-03f  1\n",
      "   4  6.7464681e+02 3.11e+00 1.18e+02  -1.0 1.87e+01   1.3 5.97e-03 3.75e-04h  1\n",
      "   5  6.7935294e+02 3.11e+00 1.18e+02  -1.0 3.16e+01   0.9 1.86e-03 4.26e-05h  8\n",
      "   6  1.2445879e+03 3.09e+00 1.54e+02  -1.0 2.07e+01   1.3 4.99e-03 4.99e-03s 15\n",
      "   7  1.3619712e+03 3.09e+00 1.53e+02  -1.0 1.07e+01   0.8 1.11e-03 1.11e-03s 15\n",
      "   8  1.3931022e+03 3.09e+00 1.53e+02  -1.0 2.55e+01   1.2 2.80e-04 2.80e-04s 15\n",
      "   9  1.4994385e+03 3.09e+00 1.59e+02  -1.0 3.38e+01   0.7 2.29e-03 0.00e+00S 15\n",
      "iter    objective    inf_pr   inf_du lg(mu)  ||d||  lg(rg) alpha_du alpha_pr  ls\n",
      "  10  1.5190739e+03 3.08e+00 9.03e+02  -1.0 7.91e+01   1.2 4.20e-03 1.82e-04h  1\n",
      "  11  1.7338280e+03 3.08e+00 8.31e+02  -1.0 7.92e+01   0.7 1.00e-03 2.41e-03h  1\n",
      "  12  1.7417292e+03 3.08e+00 8.31e+02  -1.0 4.92e+01   1.1 9.13e-04 7.35e-05h  1\n",
      "  13  1.7986940e+03 3.08e+00 8.16e+02  -1.0 6.31e+01   1.6 4.89e-05 4.71e-04h  1\n",
      "  14  1.9830687e+03 3.07e+00 7.76e+02  -1.0 2.92e+01   2.0 1.23e-03 1.59e-03h  1\n",
      "  15  2.0118364e+03 3.07e+00 7.80e+02  -1.0 2.32e+01   1.5 8.89e-05 2.90e-04h  1\n",
      "  16  2.0337147e+03 3.07e+00 7.35e+02  -1.0 2.40e+01   1.9 2.37e-03 1.95e-04h  1\n",
      "  17  2.2426091e+03 3.06e+00 7.84e+02  -1.0 8.61e+01   1.4 1.07e-05 2.41e-03h  1\n",
      "  18  2.7412843e+03 3.05e+00 8.27e+02  -1.0 1.59e+01   1.9 1.13e-03 4.41e-03h  1\n",
      "  19  3.1565809e+03 3.04e+00 8.56e+02  -1.0 7.42e+00   1.4 5.10e-04 3.78e-03h  1\n",
      "iter    objective    inf_pr   inf_du lg(mu)  ||d||  lg(rg) alpha_du alpha_pr  ls\n",
      "  20  3.2347443e+03 3.03e+00 8.22e+02  -1.0 1.73e+01   0.9 5.15e-03 7.83e-04h  1\n",
      "  21  3.2912554e+03 3.03e+00 7.32e+02  -1.0 2.05e+01   1.3 2.44e-02 5.32e-04h  1\n",
      "  22  3.4682781e+03 3.03e+00 7.26e+02  -1.0 1.04e+02   0.9 1.16e-03 2.28e-03h  2\n",
      "  23  4.4571865e+03 3.00e+00 9.89e+02  -1.0 1.67e+01   1.3 2.41e-02 9.25e-03h  1\n",
      "  24  5.3054666e+03 2.97e+00 9.90e+02  -1.0 9.86e+00   0.8 5.82e-03 8.43e-03h  1\n",
      "  25  5.7898489e+03 2.96e+00 9.85e+02  -1.0 6.90e+00   1.2 5.27e-03 4.82e-03h  1\n",
      "  26  5.8280444e+03 2.96e+00 1.84e+03  -1.0 5.78e+00   2.6 1.68e-02 3.62e-04h  1\n",
      "  27  6.5603951e+03 2.94e+00 1.58e+03  -1.0 7.09e+00   2.1 2.65e-04 7.15e-03h  1\n",
      "  28  6.7673833e+03 2.93e+00 1.58e+03  -1.0 4.92e+00   1.6 1.26e-03 2.14e-03h  1\n",
      "  29  6.7936817e+03 2.93e+00 2.30e+03  -1.0 1.07e+01   2.0 2.02e-02 2.71e-04h  1\n",
      "iter    objective    inf_pr   inf_du lg(mu)  ||d||  lg(rg) alpha_du alpha_pr  ls\n",
      "  30  7.5788513e+03 2.91e+00 1.63e+03  -1.0 1.12e+01   2.5 2.68e-03 7.80e-03h  1\n",
      "  31  8.5503205e+03 2.88e+00 1.77e+03  -1.0 9.28e+00   2.0 1.47e-03 1.07e-02h  1\n",
      "  32  9.3952603e+03 2.85e+00 1.49e+03  -1.0 5.91e+00   1.5 1.87e-02 9.14e-03h  1\n",
      "  33  9.6767685e+03 2.84e+00 1.30e+03  -1.0 2.80e+00   1.9 4.59e-02 2.94e-03h  1\n",
      "  34  1.2418133e+04 2.76e+00 1.43e+03  -1.0 6.26e+00   1.5 4.49e-04 3.01e-02h  1\n",
      "  35  1.3618859e+04 2.72e+00 1.32e+03  -1.0 1.71e+00   1.9 4.14e-02 1.30e-02h  1\n",
      "  36  1.7298007e+04 2.61e+00 1.37e+03  -1.0 2.65e+00   1.4 3.56e-03 4.10e-02h  1\n",
      "  37  1.9795193e+04 2.53e+00 1.38e+03  -1.0 2.77e+00   0.9 8.30e-03 2.96e-02h  1\n",
      "  38  2.0468775e+04 2.51e+00 1.37e+03  -1.0 5.43e+00   0.5 5.10e-03 8.70e-03h  1\n",
      "  39  2.2454706e+04 2.45e+00 1.32e+03  -1.0 2.00e+00   0.9 3.41e-02 2.43e-02h  1\n",
      "iter    objective    inf_pr   inf_du lg(mu)  ||d||  lg(rg) alpha_du alpha_pr  ls\n",
      "  40  2.2624645e+04 2.44e+00 1.24e+03  -1.0 3.38e+00   0.4 4.56e-02 2.33e-03h  1\n",
      "  41  2.5118329e+04 2.36e+00 1.21e+03  -1.0 2.26e+00   0.8 2.38e-02 3.21e-02h  1\n",
      "  42  3.1320563e+04 2.16e+00 1.22e+03  -1.0 3.32e+00   0.4 1.61e-02 8.79e-02h  1\n",
      "  43  3.3941806e+04 2.06e+00 1.18e+03  -1.0 5.80e+00  -0.1 3.44e-02 4.39e-02h  1\n",
      "  44  3.7132312e+04 1.94e+00 1.17e+03  -1.0 5.31e+00    -  1.54e-02 5.75e-02h  1\n",
      "  45  4.3838715e+04 1.72e+00 1.01e+03  -1.0 2.63e+00   0.3 1.33e-01 1.16e-01h  1\n",
      "  46  5.0655193e+04 1.46e+00 9.70e+02  -1.0 3.70e+00    -  4.41e-02 1.48e-01h  1\n",
      "  47  5.5109540e+04 1.30e+00 7.30e+02  -1.0 6.23e+00    -  2.44e-01 1.14e-01h  1\n",
      "  48  6.3631875e+04 9.97e-01 6.61e+02  -1.0 2.98e+00    -  9.92e-02 2.32e-01h  1\n",
      "  49  7.0294313e+04 7.74e-01 4.67e+02  -1.0 2.92e+00    -  2.91e-01 2.24e-01h  1\n",
      "iter    objective    inf_pr   inf_du lg(mu)  ||d||  lg(rg) alpha_du alpha_pr  ls\n",
      "  50  7.9454671e+04 4.89e-01 3.40e+02  -1.0 2.58e+00    -  2.75e-01 3.68e-01h  1\n",
      "  51  8.8466666e+04 2.26e-01 2.69e+02  -1.0 2.02e+00    -  2.17e-01 5.37e-01h  1\n",
      "  52  9.4170556e+04 6.79e-02 1.78e+02  -1.0 1.20e+00    -  3.43e-01 7.00e-01h  1\n",
      "  53  9.6501353e+04 3.14e-02 1.41e+02  -1.0 1.24e+00    -  2.11e-01 1.00e+00h  1\n",
      "  54  9.6375803e+04 5.77e-03 8.52e+01  -1.0 1.04e+00    -  3.96e-01 1.00e+00f  1\n",
      "  55  9.5312511e+04 6.00e-03 8.01e+01  -1.0 2.53e+00    -  2.99e-02 3.62e-01f  1\n",
      "  56  9.4138804e+04 2.53e-02 5.30e+01  -1.0 1.48e+00    -  2.77e-01 7.89e-01f  1\n",
      "  57  9.3831881e+04 8.21e-03 4.18e+01  -1.0 1.27e+00    -  2.02e-01 7.33e-01f  1\n",
      "  58  9.3400475e+04 7.33e-03 3.36e+01  -1.0 3.40e+00    -  2.44e-01 1.14e-01f  1\n",
      "  59  9.1711546e+04 1.47e-02 1.60e+01  -1.0 2.49e+00    -  1.00e-01 5.22e-01f  1\n",
      "iter    objective    inf_pr   inf_du lg(mu)  ||d||  lg(rg) alpha_du alpha_pr  ls\n",
      "  60  9.1413131e+04 1.87e-01 7.59e+00  -1.0 3.17e+00    -  7.79e-01 5.25e-01f  1\n",
      "  61  9.1416534e+04 1.45e-01 4.77e+00  -1.0 8.85e-01    -  8.27e-01 4.54e-01h  1\n",
      "  62  9.1462087e+04 2.42e-03 6.01e-01  -1.0 6.66e-01    -  1.00e+00 1.00e+00h  1\n",
      "  63  9.1262903e+04 2.01e-03 6.41e-01  -1.7 3.57e-01    -  9.17e-01 7.47e-01f  1\n",
      "  64  9.1182955e+04 1.49e-03 2.45e+00  -1.7 2.17e-01    -  1.00e+00 7.17e-01f  1\n",
      "  65  9.1160201e+04 2.07e-04 7.65e-03  -1.7 1.71e-01    -  1.00e+00 1.00e+00f  1\n",
      "  66  9.1108503e+04 5.40e-04 1.86e+00  -3.8 2.24e-01    -  8.26e-01 6.56e-01f  1\n",
      "  67  9.1086262e+04 1.69e-04 3.26e-01  -3.8 2.36e-01    -  8.59e-01 8.49e-01f  1\n",
      "  68  9.1083322e+04 4.76e-05 3.13e-03  -3.8 7.73e-02    -  1.00e+00 1.00e+00h  1\n",
      "  69  9.1083472e+04 2.75e-06 3.14e-04  -3.8 1.86e-02    -  1.00e+00 1.00e+00h  1\n",
      "iter    objective    inf_pr   inf_du lg(mu)  ||d||  lg(rg) alpha_du alpha_pr  ls\n",
      "  70  9.1082949e+04 1.45e-06 3.79e-04  -5.7 1.18e-02    -  9.81e-01 9.82e-01h  1\n",
      "  71  9.1082937e+04 2.06e-07 3.20e-05  -5.7 5.04e-03    -  1.00e+00 1.00e+00h  1\n",
      "  72  9.1082937e+04 4.24e-08 6.90e-06  -5.7 1.96e-03    -  1.00e+00 1.00e+00h  1\n",
      "  73  9.1082930e+04 1.67e-08 4.78e-05  -8.6 1.20e-03    -  9.97e-01 1.00e+00h  1\n",
      "  74  9.1082930e+04 3.76e-09 5.92e-07  -8.6 5.86e-04    -  1.00e+00 1.00e+00h  1\n",
      "  75  9.1082930e+04 6.77e-10 1.06e-07  -8.6 2.48e-04    -  1.00e+00 1.00e+00h  1\n",
      "  76  9.1082930e+04 5.21e-11 8.17e-09  -8.6 6.89e-05    -  1.00e+00 1.00e+00h  1\n",
      "\n",
      "Number of Iterations....: 76\n",
      "\n",
      "                                   (scaled)                 (unscaled)\n",
      "Objective...............:   2.2770732461562216e+03    9.1082929846248851e+04\n",
      "Dual infeasibility......:   8.1674136387885379e-09    3.2669654555154153e-07\n",
      "Constraint violation....:   5.2093246383222436e-11    5.2093246383222436e-11\n",
      "Complementarity.........:   6.4916789087357805e-09    2.5966715634943122e-07\n",
      "Overall NLP error.......:   8.1674136387885379e-09    3.2669654555154153e-07\n",
      "\n",
      "\n",
      "Number of objective function evaluations             = 100\n",
      "Number of objective gradient evaluations             = 77\n",
      "Number of equality constraint evaluations            = 100\n",
      "Number of inequality constraint evaluations          = 100\n",
      "Number of equality constraint Jacobian evaluations   = 77\n",
      "Number of inequality constraint Jacobian evaluations = 77\n",
      "Number of Lagrangian Hessian evaluations             = 76\n",
      "Total CPU secs in IPOPT (w/o function evaluations)   =      0.922\n",
      "Total CPU secs in NLP function evaluations           =      0.455\n",
      "\n",
      "EXIT: Optimal Solution Found.\n"
     ]
    },
    {
     "data": {
      "text/plain": [
       "91082.92984624885"
      ]
     },
     "execution_count": 29,
     "metadata": {},
     "output_type": "execute_result"
    }
   ],
   "source": [
    "## Run AC-OPF for linearization point\n",
    "settings = Dict(\n",
    "    \"ϵ\" => 0.01,\n",
    "    \"theta_u\" => 180,\n",
    ")\n",
    "m_det = build_ac_opf(thermalLimitscale, generators, buses, lines, farms, settings);\n",
    "\n",
    "solvetime = @elapsed optimize!(m_det)\n",
    "objective_value(m_det)"
   ]
  },
  {
   "cell_type": "code",
   "execution_count": 30,
   "metadata": {
    "hideCode": false,
    "hidePrompt": false
   },
   "outputs": [
    {
     "name": "stdout",
     "output_type": "stream",
     "text": [
      "MOSEK warning 705: #26 (nearly) zero elements are specified in sparse row ''(11767) of matrix 'A'.\n",
      "MOSEK warning 705: #25 (nearly) zero elements are specified in sparse row ''(11768) of matrix 'A'.\n",
      "MOSEK warning 705: #25 (nearly) zero elements are specified in sparse row ''(11769) of matrix 'A'.\n",
      "MOSEK warning 705: #26 (nearly) zero elements are specified in sparse row ''(11770) of matrix 'A'.\n",
      "MOSEK warning 705: #25 (nearly) zero elements are specified in sparse row ''(11771) of matrix 'A'.\n",
      "MOSEK warning 705: #25 (nearly) zero elements are specified in sparse row ''(11772) of matrix 'A'.\n",
      "MOSEK warning 705: #25 (nearly) zero elements are specified in sparse row ''(11773) of matrix 'A'.\n",
      "MOSEK warning 705: #25 (nearly) zero elements are specified in sparse row ''(11774) of matrix 'A'.\n",
      "MOSEK warning 705: #25 (nearly) zero elements are specified in sparse row ''(11775) of matrix 'A'.\n",
      "MOSEK warning 705: #25 (nearly) zero elements are specified in sparse row ''(11776) of matrix 'A'.\n"
     ]
    },
    {
     "data": {
      "text/plain": [
       "OPTIMAL::TerminationStatusCode = 1"
      ]
     },
     "execution_count": 30,
     "metadata": {},
     "output_type": "execute_result"
    }
   ],
   "source": [
    "# Run Model with respective settings\n",
    "\n",
    "# var_penalty = Dict(\"p_G\" => 100, \"q_G\" => 100, \"v\" => 100, \"f_p\" => 100, \"f_q\" => 100)\n",
    "var_penalty = Dict(\"p_G\" => 0, \"q_G\" => 0, \"v\" => 0, \"f_p\" => 0, \"f_q\" => 0)\n",
    "\n",
    "settings = Dict(\n",
    "    # Set risk-parameter ϵ < 0.5\n",
    "    \"ϵ\" => 0.01, \n",
    "    # Restrict voltage angle if numerical instability \n",
    "    # occurs (normally not necessary)\n",
    "    \"theta_u\" => 180, \n",
    "    # \"single\": one alpha per generator (default); \n",
    "    #\"split\": one alpha per wind-farm and generator\n",
    "    \"alpha_mod\" => \"single\", \n",
    "    # hand dict with variance penalty to model\n",
    "    \"var_penalty\" => var_penalty, \n",
    "    # \"det\": no chance constraints; \n",
    "    # \"gen_cc\": chance constraints only on active power generation; \n",
    "    # \"full_cc\" all chance constraints\n",
    "    \"run_type\" => \"full_cc\", \n",
    ")\n",
    "\n",
    "m_cc, meta = build_ac_cc_opf(generators, buses, lines, farms, settings, m_det; print_output=false);\n",
    "solvetime_cc = @elapsed optimize!(m_cc)\n",
    "termination_status(m_cc)"
   ]
  },
  {
   "cell_type": "code",
   "execution_count": 31,
   "metadata": {},
   "outputs": [
    {
     "name": "stdout",
     "output_type": "stream",
     "text": [
      "93139.61001278347\n"
     ]
    },
    {
     "data": {
      "text/plain": [
       "0.9999999910210383"
      ]
     },
     "execution_count": 31,
     "metadata": {},
     "output_type": "execute_result"
    }
   ],
   "source": [
    "## Show alpha sum for sanity check\n",
    "println(objective_value(m_cc))\n",
    "\n",
    "if length(size((m_cc[:α]))) == 1\n",
    "    sum(value.(m_cc[:α]))\n",
    "else\n",
    "    [sum(value.(m_cc[:α])[:,i]) for i in 1:size(m_cc[:α])[2]]\n",
    "end"
   ]
  },
  {
   "cell_type": "code",
   "execution_count": 34,
   "metadata": {},
   "outputs": [],
   "source": [
    "## Process Results\n",
    "res_dfs = jump_to_df(m_cc, settings, buses, generators, lines, farms; solvetime = solvetime_cc);"
   ]
  },
  {
   "cell_type": "code",
   "execution_count": 39,
   "metadata": {},
   "outputs": [
    {
     "data": {
      "text/html": [
       "<table class=\"data-frame\"><thead><tr><th></th><th>bus</th><th>btype</th><th>haswind</th><th>gp</th><th>gq</th><th>v</th><th>alpha</th><th>std_v</th><th>std_q_G</th><th>std_p_G</th><th>lambda_p</th><th>lambda_q</th><th>gamma</th><th>delta_p_plus</th><th>delta_p_minus</th><th>delta_p_det_plus</th><th>delta_p_det_minus</th><th>mu_v_p</th><th>mu_v_m</th></tr><tr><th></th><th>Int64</th><th>String</th><th>Bool</th><th>Real</th><th>Real</th><th>Float64</th><th>Float64</th><th>Float64</th><th>Float64</th><th>Real</th><th>Float64</th><th>Float64</th><th>Float64</th><th>Real</th><th>Real</th><th>Real</th><th>Real</th><th>Float64</th><th>Float64</th></tr></thead><tbody><p>118 rows × 19 columns</p><tr><th>1</th><td>1</td><td>PV</td><td>false</td><td>-1.37351e-7</td><td>0.05</td><td>1.01303</td><td>-3.0214e-9</td><td>0.0</td><td>0.0429859</td><td>-3.0214e-9</td><td>-2997.8</td><td>-16.9854</td><td>-26.327</td><td>-2.51184e-6</td><td>-247.894</td><td>-754.303</td><td>-2.47585e-6</td><td>-5.51683e-5</td><td>-3.44701e-5</td></tr><tr><th>2</th><td>2</td><td>PQ</td><td>false</td><td>0</td><td>0</td><td>1.00955</td><td>0.0</td><td>0.0123756</td><td>0.0</td><td>0</td><td>-3055.27</td><td>-11.4755</td><td>0.0</td><td>0</td><td>0</td><td>0</td><td>0</td><td>-0.000119467</td><td>-6.04806e-5</td></tr><tr><th>3</th><td>3</td><td>PQ</td><td>true</td><td>0</td><td>0</td><td>1.03128</td><td>0.0</td><td>0.00795715</td><td>0.0</td><td>0</td><td>-2934.05</td><td>-8.79722</td><td>0.0</td><td>0</td><td>0</td><td>0</td><td>0</td><td>-0.000254566</td><td>-3.4444e-5</td></tr><tr><th>4</th><td>4</td><td>PV</td><td>false</td><td>-1.38612e-7</td><td>2.91926</td><td>1.06</td><td>-3.36041e-9</td><td>0.0</td><td>0.0240501</td><td>-3.36041e-9</td><td>-2798.16</td><td>-9.58739e-5</td><td>0.0</td><td>-2.51185e-6</td><td>-256.816</td><td>-945.021</td><td>-2.47588e-6</td><td>-1567.52</td><td>-2.11484e-5</td></tr><tr><th>5</th><td>5</td><td>PQ</td><td>false</td><td>0</td><td>0</td><td>1.04349</td><td>0.0</td><td>0.00463671</td><td>0.0</td><td>0</td><td>-2776.09</td><td>-13.9151</td><td>0.0</td><td>0</td><td>0</td><td>0</td><td>0</td><td>-0.000447099</td><td>-2.73223e-5</td></tr><tr><th>6</th><td>6</td><td>PV</td><td>false</td><td>-1.37764e-7</td><td>0.497739</td><td>1.03228</td><td>-3.17813e-9</td><td>0.0</td><td>0.000971753</td><td>-3.17813e-9</td><td>-2942.87</td><td>-6.05959</td><td>0.0</td><td>-2.51184e-6</td><td>-251.926</td><td>-805.206</td><td>-2.47585e-6</td><td>-9.39483e-5</td><td>-2.73665e-5</td></tr><tr><th>7</th><td>7</td><td>PQ</td><td>false</td><td>0</td><td>0</td><td>1.02543</td><td>0.0</td><td>0.00923499</td><td>0.0</td><td>0</td><td>-2993.13</td><td>-4.96591</td><td>0.0</td><td>0</td><td>0</td><td>0</td><td>0</td><td>-0.000200187</td><td>-3.91866e-5</td></tr><tr><th>8</th><td>8</td><td>PV</td><td>true</td><td>-1.39667e-7</td><td>-2.79584</td><td>0.988486</td><td>-3.66626e-9</td><td>0.0</td><td>0.061243</td><td>-3.66626e-9</td><td>-2549.91</td><td>-4.01978e-5</td><td>0.0</td><td>-2.51184e-6</td><td>-294.668</td><td>-1155.43</td><td>-2.47586e-6</td><td>-3.56429e-5</td><td>-5.22259e-5</td></tr><tr><th>9</th><td>9</td><td>PQ</td><td>false</td><td>0</td><td>0</td><td>1.00481</td><td>0.0</td><td>0.0127838</td><td>0.0</td><td>0</td><td>-2529.43</td><td>-6.63343</td><td>0.0</td><td>0</td><td>0</td><td>0</td><td>0</td><td>-0.000101244</td><td>-7.0886e-5</td></tr><tr><th>10</th><td>10</td><td>PV</td><td>false</td><td>1.14316</td><td>-1.30235</td><td>0.984537</td><td>0.190868</td><td>0.0</td><td>0.0473593</td><td>0.190868</td><td>-2508.07</td><td>-4.18992e-5</td><td>0.0</td><td>-5.88528e-7</td><td>-2.90087e-6</td><td>-4.21261e-6</td><td>-5.97129e-7</td><td>-3.41169e-5</td><td>-5.60153e-5</td></tr><tr><th>11</th><td>11</td><td>PQ</td><td>true</td><td>0</td><td>0</td><td>1.0255</td><td>0.0</td><td>0.00923248</td><td>0.0</td><td>0</td><td>-2992.71</td><td>-0.0820998</td><td>0.0</td><td>0</td><td>0</td><td>0</td><td>0</td><td>-0.00020232</td><td>-3.90255e-5</td></tr><tr><th>12</th><td>12</td><td>PV</td><td>false</td><td>0.453677</td><td>-0.0832465</td><td>1.01628</td><td>5.88114e-7</td><td>0.0</td><td>0.0777425</td><td>5.88114e-7</td><td>-3067.48</td><td>-2.56015e-5</td><td>0.0</td><td>-1.78939e-6</td><td>-5.58288e-6</td><td>-1.03158e-5</td><td>-2.073e-6</td><td>-5.66446e-5</td><td>-0.0</td></tr><tr><th>13</th><td>13</td><td>PQ</td><td>false</td><td>0</td><td>0</td><td>0.998207</td><td>0.0</td><td>0.0129436</td><td>0.0</td><td>0</td><td>-3250.98</td><td>-1.87974</td><td>0.0</td><td>0</td><td>0</td><td>0</td><td>0</td><td>-8.20949e-5</td><td>-8.76482e-5</td></tr><tr><th>14</th><td>14</td><td>PQ</td><td>false</td><td>0</td><td>0</td><td>1.00238</td><td>0.0</td><td>0.0129509</td><td>0.0</td><td>0</td><td>-3317.34</td><td>-20.3533</td><td>0.0</td><td>0</td><td>0</td><td>0</td><td>0</td><td>-9.43991e-5</td><td>-7.62122e-5</td></tr><tr><th>15</th><td>15</td><td>PV</td><td>false</td><td>5.65327e-8</td><td>-0.0756176</td><td>0.968333</td><td>2.28331e-8</td><td>0.0</td><td>0.0104811</td><td>2.28331e-8</td><td>-3959.35</td><td>-94.6648</td><td>0.0</td><td>-2.51212e-6</td><td>-14.2115</td><td>-26.4373</td><td>-2.47616e-6</td><td>-2.79156e-5</td><td>-8.82316e-5</td></tr><tr><th>16</th><td>16</td><td>PQ</td><td>false</td><td>0</td><td>0</td><td>0.995948</td><td>0.0</td><td>0.0127745</td><td>0.0</td><td>0</td><td>-3280.85</td><td>-10.8666</td><td>0.0</td><td>0</td><td>0</td><td>0</td><td>0</td><td>-7.61072e-5</td><td>-9.44368e-5</td></tr><tr><th>17</th><td>17</td><td>PQ</td><td>false</td><td>0</td><td>0</td><td>0.978615</td><td>0.0</td><td>0.010012</td><td>0.0</td><td>0</td><td>-3668.33</td><td>-56.7803</td><td>0.0</td><td>0</td><td>0</td><td>0</td><td>0</td><td>-4.46985e-5</td><td>-0.000167534</td></tr><tr><th>18</th><td>18</td><td>PV</td><td>false</td><td>0.322529</td><td>-0.149182</td><td>0.958911</td><td>1.88942e-8</td><td>0.0</td><td>0.00465018</td><td>1.88942e-8</td><td>-4064.51</td><td>-116.757</td><td>0.0</td><td>-3.71385e-6</td><td>-7.84953e-6</td><td>-1.37714e-5</td><td>-4.64675e-6</td><td>-2.52643e-5</td><td>-0.000131491</td></tr><tr><th>19</th><td>19</td><td>PV</td><td>false</td><td>1.0</td><td>-0.0478073</td><td>0.968344</td><td>-2.75385e-9</td><td>0.0</td><td>0.0138384</td><td>-2.75385e-9</td><td>-4401.22</td><td>-189.442</td><td>0.0</td><td>-43.5586</td><td>-2.41883e-6</td><td>-2.46159e-6</td><td>-157.66</td><td>-2.79112e-5</td><td>-8.82405e-5</td></tr><tr><th>20</th><td>20</td><td>PQ</td><td>true</td><td>0</td><td>0</td><td>0.985309</td><td>0.0</td><td>0.0113874</td><td>0.0</td><td>0</td><td>-5571.24</td><td>-255.815</td><td>0.0</td><td>0</td><td>0</td><td>0</td><td>0</td><td>-5.42059e-5</td><td>-0.00013556</td></tr><tr><th>21</th><td>21</td><td>PQ</td><td>false</td><td>0</td><td>0</td><td>0.980589</td><td>0.0</td><td>0.0104972</td><td>0.0</td><td>0</td><td>-3781.13</td><td>-206.028</td><td>0.0</td><td>0</td><td>0</td><td>0</td><td>0</td><td>-4.75671e-5</td><td>-0.000157092</td></tr><tr><th>22</th><td>22</td><td>PQ</td><td>false</td><td>0</td><td>0</td><td>0.985248</td><td>0.0</td><td>0.0114635</td><td>0.0</td><td>0</td><td>-1690.56</td><td>-160.139</td><td>0.0</td><td>0</td><td>0</td><td>0</td><td>0</td><td>-5.46983e-5</td><td>-0.000134111</td></tr><tr><th>23</th><td>23</td><td>PQ</td><td>false</td><td>0</td><td>0</td><td>1.00013</td><td>0.0</td><td>0.0131205</td><td>0.0</td><td>0</td><td>-1734.54</td><td>-31.543</td><td>0.0</td><td>0</td><td>0</td><td>0</td><td>0</td><td>-8.87895e-5</td><td>-8.22567e-5</td></tr><tr><th>24</th><td>24</td><td>PV</td><td>true</td><td>-1.40891e-7</td><td>-1.78306</td><td>0.975624</td><td>-2.93189e-9</td><td>0.0</td><td>0.334951</td><td>-2.93189e-9</td><td>-1994.29</td><td>-5.0473e-6</td><td>0.0</td><td>-2.51183e-6</td><td>-394.439</td><td>-1611.27</td><td>-2.47585e-6</td><td>-3.15449e-5</td><td>-6.90643e-5</td></tr><tr><th>25</th><td>25</td><td>PV</td><td>false</td><td>0.47458</td><td>-0.423012</td><td>1.04845</td><td>0.230646</td><td>0.0</td><td>0.0201985</td><td>0.230646</td><td>-2431.44</td><td>-60.2961</td><td>0.0</td><td>-1.02977e-6</td><td>-1.78334e-5</td><td>-1.02893e-5</td><td>-9.49477e-7</td><td>-0.000324086</td><td>-2.33606e-5</td></tr><tr><th>26</th><td>26</td><td>PV</td><td>true</td><td>1.17369</td><td>-3.21637</td><td>1.03897</td><td>0.111892</td><td>0.0</td><td>1.68773</td><td>0.111892</td><td>-2747.57</td><td>-6.10897e-7</td><td>0.0</td><td>-8.73396e-7</td><td>-2.4795e-6</td><td>-3.92667e-6</td><td>-9.77825e-7</td><td>-0.00011721</td><td>-2.57519e-5</td></tr><tr><th>27</th><td>27</td><td>PV</td><td>false</td><td>-1.38669e-7</td><td>1.03135</td><td>1.00983</td><td>-2.64499e-9</td><td>0.0</td><td>0.507468</td><td>-2.64499e-9</td><td>-2757.94</td><td>-2.48225e-6</td><td>0.0</td><td>-2.51183e-6</td><td>-301.228</td><td>-940.831</td><td>-2.47583e-6</td><td>-5.36184e-5</td><td>-3.57656e-5</td></tr><tr><th>28</th><td>28</td><td>PQ</td><td>false</td><td>0</td><td>0</td><td>0.974782</td><td>0.0</td><td>0.00925412</td><td>0.0</td><td>0</td><td>-2884.46</td><td>-7.76979</td><td>0.0</td><td>0</td><td>0</td><td>0</td><td>0</td><td>-4.12077e-5</td><td>-0.000189114</td></tr><tr><th>29</th><td>29</td><td>PQ</td><td>false</td><td>0</td><td>0</td><td>0.945765</td><td>0.0</td><td>0.00155997</td><td>0.0</td><td>0</td><td>-3002.91</td><td>-5.48211</td><td>0.0</td><td>0</td><td>0</td><td>0</td><td>0</td><td>-2.31131e-5</td><td>-0.00127528</td></tr><tr><th>30</th><td>30</td><td>PQ</td><td>false</td><td>0</td><td>0</td><td>0.986171</td><td>0.0</td><td>0.0115311</td><td>0.0</td><td>0</td><td>-3601.03</td><td>-18.6107</td><td>0.0</td><td>0</td><td>0</td><td>0</td><td>0</td><td>-5.48562e-5</td><td>-0.000131941</td></tr><tr><th>&vellip;</th><td>&vellip;</td><td>&vellip;</td><td>&vellip;</td><td>&vellip;</td><td>&vellip;</td><td>&vellip;</td><td>&vellip;</td><td>&vellip;</td><td>&vellip;</td><td>&vellip;</td><td>&vellip;</td><td>&vellip;</td><td>&vellip;</td><td>&vellip;</td><td>&vellip;</td><td>&vellip;</td><td>&vellip;</td><td>&vellip;</td><td>&vellip;</td></tr></tbody></table>"
      ],
      "text/latex": [
       "\\begin{tabular}{r|ccccccccccccccccccc}\n",
       "\t& bus & btype & haswind & gp & gq & v & alpha & std\\_v & std\\_q\\_G & std\\_p\\_G & lambda\\_p & lambda\\_q & gamma & delta\\_p\\_plus & delta\\_p\\_minus & delta\\_p\\_det\\_plus & delta\\_p\\_det\\_minus & mu\\_v\\_p & mu\\_v\\_m\\\\\n",
       "\t\\hline\n",
       "\t& Int64 & String & Bool & Real & Real & Float64 & Float64 & Float64 & Float64 & Real & Float64 & Float64 & Float64 & Real & Real & Real & Real & Float64 & Float64\\\\\n",
       "\t\\hline\n",
       "\t1 & 1 & PV & false & -1.37351e-7 & 0.05 & 1.01303 & -3.0214e-9 & 0.0 & 0.0429859 & -3.0214e-9 & -2997.8 & -16.9854 & -26.327 & -2.51184e-6 & -247.894 & -754.303 & -2.47585e-6 & -5.51683e-5 & -3.44701e-5 \\\\\n",
       "\t2 & 2 & PQ & false & 0 & 0 & 1.00955 & 0.0 & 0.0123756 & 0.0 & 0 & -3055.27 & -11.4755 & 0.0 & 0 & 0 & 0 & 0 & -0.000119467 & -6.04806e-5 \\\\\n",
       "\t3 & 3 & PQ & true & 0 & 0 & 1.03128 & 0.0 & 0.00795715 & 0.0 & 0 & -2934.05 & -8.79722 & 0.0 & 0 & 0 & 0 & 0 & -0.000254566 & -3.4444e-5 \\\\\n",
       "\t4 & 4 & PV & false & -1.38612e-7 & 2.91926 & 1.06 & -3.36041e-9 & 0.0 & 0.0240501 & -3.36041e-9 & -2798.16 & -9.58739e-5 & 0.0 & -2.51185e-6 & -256.816 & -945.021 & -2.47588e-6 & -1567.52 & -2.11484e-5 \\\\\n",
       "\t5 & 5 & PQ & false & 0 & 0 & 1.04349 & 0.0 & 0.00463671 & 0.0 & 0 & -2776.09 & -13.9151 & 0.0 & 0 & 0 & 0 & 0 & -0.000447099 & -2.73223e-5 \\\\\n",
       "\t6 & 6 & PV & false & -1.37764e-7 & 0.497739 & 1.03228 & -3.17813e-9 & 0.0 & 0.000971753 & -3.17813e-9 & -2942.87 & -6.05959 & 0.0 & -2.51184e-6 & -251.926 & -805.206 & -2.47585e-6 & -9.39483e-5 & -2.73665e-5 \\\\\n",
       "\t7 & 7 & PQ & false & 0 & 0 & 1.02543 & 0.0 & 0.00923499 & 0.0 & 0 & -2993.13 & -4.96591 & 0.0 & 0 & 0 & 0 & 0 & -0.000200187 & -3.91866e-5 \\\\\n",
       "\t8 & 8 & PV & true & -1.39667e-7 & -2.79584 & 0.988486 & -3.66626e-9 & 0.0 & 0.061243 & -3.66626e-9 & -2549.91 & -4.01978e-5 & 0.0 & -2.51184e-6 & -294.668 & -1155.43 & -2.47586e-6 & -3.56429e-5 & -5.22259e-5 \\\\\n",
       "\t9 & 9 & PQ & false & 0 & 0 & 1.00481 & 0.0 & 0.0127838 & 0.0 & 0 & -2529.43 & -6.63343 & 0.0 & 0 & 0 & 0 & 0 & -0.000101244 & -7.0886e-5 \\\\\n",
       "\t10 & 10 & PV & false & 1.14316 & -1.30235 & 0.984537 & 0.190868 & 0.0 & 0.0473593 & 0.190868 & -2508.07 & -4.18992e-5 & 0.0 & -5.88528e-7 & -2.90087e-6 & -4.21261e-6 & -5.97129e-7 & -3.41169e-5 & -5.60153e-5 \\\\\n",
       "\t11 & 11 & PQ & true & 0 & 0 & 1.0255 & 0.0 & 0.00923248 & 0.0 & 0 & -2992.71 & -0.0820998 & 0.0 & 0 & 0 & 0 & 0 & -0.00020232 & -3.90255e-5 \\\\\n",
       "\t12 & 12 & PV & false & 0.453677 & -0.0832465 & 1.01628 & 5.88114e-7 & 0.0 & 0.0777425 & 5.88114e-7 & -3067.48 & -2.56015e-5 & 0.0 & -1.78939e-6 & -5.58288e-6 & -1.03158e-5 & -2.073e-6 & -5.66446e-5 & -0.0 \\\\\n",
       "\t13 & 13 & PQ & false & 0 & 0 & 0.998207 & 0.0 & 0.0129436 & 0.0 & 0 & -3250.98 & -1.87974 & 0.0 & 0 & 0 & 0 & 0 & -8.20949e-5 & -8.76482e-5 \\\\\n",
       "\t14 & 14 & PQ & false & 0 & 0 & 1.00238 & 0.0 & 0.0129509 & 0.0 & 0 & -3317.34 & -20.3533 & 0.0 & 0 & 0 & 0 & 0 & -9.43991e-5 & -7.62122e-5 \\\\\n",
       "\t15 & 15 & PV & false & 5.65327e-8 & -0.0756176 & 0.968333 & 2.28331e-8 & 0.0 & 0.0104811 & 2.28331e-8 & -3959.35 & -94.6648 & 0.0 & -2.51212e-6 & -14.2115 & -26.4373 & -2.47616e-6 & -2.79156e-5 & -8.82316e-5 \\\\\n",
       "\t16 & 16 & PQ & false & 0 & 0 & 0.995948 & 0.0 & 0.0127745 & 0.0 & 0 & -3280.85 & -10.8666 & 0.0 & 0 & 0 & 0 & 0 & -7.61072e-5 & -9.44368e-5 \\\\\n",
       "\t17 & 17 & PQ & false & 0 & 0 & 0.978615 & 0.0 & 0.010012 & 0.0 & 0 & -3668.33 & -56.7803 & 0.0 & 0 & 0 & 0 & 0 & -4.46985e-5 & -0.000167534 \\\\\n",
       "\t18 & 18 & PV & false & 0.322529 & -0.149182 & 0.958911 & 1.88942e-8 & 0.0 & 0.00465018 & 1.88942e-8 & -4064.51 & -116.757 & 0.0 & -3.71385e-6 & -7.84953e-6 & -1.37714e-5 & -4.64675e-6 & -2.52643e-5 & -0.000131491 \\\\\n",
       "\t19 & 19 & PV & false & 1.0 & -0.0478073 & 0.968344 & -2.75385e-9 & 0.0 & 0.0138384 & -2.75385e-9 & -4401.22 & -189.442 & 0.0 & -43.5586 & -2.41883e-6 & -2.46159e-6 & -157.66 & -2.79112e-5 & -8.82405e-5 \\\\\n",
       "\t20 & 20 & PQ & true & 0 & 0 & 0.985309 & 0.0 & 0.0113874 & 0.0 & 0 & -5571.24 & -255.815 & 0.0 & 0 & 0 & 0 & 0 & -5.42059e-5 & -0.00013556 \\\\\n",
       "\t21 & 21 & PQ & false & 0 & 0 & 0.980589 & 0.0 & 0.0104972 & 0.0 & 0 & -3781.13 & -206.028 & 0.0 & 0 & 0 & 0 & 0 & -4.75671e-5 & -0.000157092 \\\\\n",
       "\t22 & 22 & PQ & false & 0 & 0 & 0.985248 & 0.0 & 0.0114635 & 0.0 & 0 & -1690.56 & -160.139 & 0.0 & 0 & 0 & 0 & 0 & -5.46983e-5 & -0.000134111 \\\\\n",
       "\t23 & 23 & PQ & false & 0 & 0 & 1.00013 & 0.0 & 0.0131205 & 0.0 & 0 & -1734.54 & -31.543 & 0.0 & 0 & 0 & 0 & 0 & -8.87895e-5 & -8.22567e-5 \\\\\n",
       "\t24 & 24 & PV & true & -1.40891e-7 & -1.78306 & 0.975624 & -2.93189e-9 & 0.0 & 0.334951 & -2.93189e-9 & -1994.29 & -5.0473e-6 & 0.0 & -2.51183e-6 & -394.439 & -1611.27 & -2.47585e-6 & -3.15449e-5 & -6.90643e-5 \\\\\n",
       "\t25 & 25 & PV & false & 0.47458 & -0.423012 & 1.04845 & 0.230646 & 0.0 & 0.0201985 & 0.230646 & -2431.44 & -60.2961 & 0.0 & -1.02977e-6 & -1.78334e-5 & -1.02893e-5 & -9.49477e-7 & -0.000324086 & -2.33606e-5 \\\\\n",
       "\t26 & 26 & PV & true & 1.17369 & -3.21637 & 1.03897 & 0.111892 & 0.0 & 1.68773 & 0.111892 & -2747.57 & -6.10897e-7 & 0.0 & -8.73396e-7 & -2.4795e-6 & -3.92667e-6 & -9.77825e-7 & -0.00011721 & -2.57519e-5 \\\\\n",
       "\t27 & 27 & PV & false & -1.38669e-7 & 1.03135 & 1.00983 & -2.64499e-9 & 0.0 & 0.507468 & -2.64499e-9 & -2757.94 & -2.48225e-6 & 0.0 & -2.51183e-6 & -301.228 & -940.831 & -2.47583e-6 & -5.36184e-5 & -3.57656e-5 \\\\\n",
       "\t28 & 28 & PQ & false & 0 & 0 & 0.974782 & 0.0 & 0.00925412 & 0.0 & 0 & -2884.46 & -7.76979 & 0.0 & 0 & 0 & 0 & 0 & -4.12077e-5 & -0.000189114 \\\\\n",
       "\t29 & 29 & PQ & false & 0 & 0 & 0.945765 & 0.0 & 0.00155997 & 0.0 & 0 & -3002.91 & -5.48211 & 0.0 & 0 & 0 & 0 & 0 & -2.31131e-5 & -0.00127528 \\\\\n",
       "\t30 & 30 & PQ & false & 0 & 0 & 0.986171 & 0.0 & 0.0115311 & 0.0 & 0 & -3601.03 & -18.6107 & 0.0 & 0 & 0 & 0 & 0 & -5.48562e-5 & -0.000131941 \\\\\n",
       "\t$\\dots$ & $\\dots$ & $\\dots$ & $\\dots$ & $\\dots$ & $\\dots$ & $\\dots$ & $\\dots$ & $\\dots$ & $\\dots$ & $\\dots$ & $\\dots$ & $\\dots$ & $\\dots$ & $\\dots$ & $\\dots$ & $\\dots$ & $\\dots$ & $\\dots$ & $\\dots$ \\\\\n",
       "\\end{tabular}\n"
      ],
      "text/plain": [
       "118×19 DataFrame\n",
       "│ Row │ bus   │ btype  │ haswind │ gp          │ gq         │ v        │ alpha        │ std_v      │ std_q_G     │ std_p_G      │ lambda_p │ lambda_q    │ gamma   │ delta_p_plus │ delta_p_minus │ delta_p_det_plus │ delta_p_det_minus │ mu_v_p       │ mu_v_m       │\n",
       "│     │ \u001b[90mInt64\u001b[39m │ \u001b[90mString\u001b[39m │ \u001b[90mBool\u001b[39m    │ \u001b[90mReal\u001b[39m        │ \u001b[90mReal\u001b[39m       │ \u001b[90mFloat64\u001b[39m  │ \u001b[90mFloat64\u001b[39m      │ \u001b[90mFloat64\u001b[39m    │ \u001b[90mFloat64\u001b[39m     │ \u001b[90mReal\u001b[39m         │ \u001b[90mFloat64\u001b[39m  │ \u001b[90mFloat64\u001b[39m     │ \u001b[90mFloat64\u001b[39m │ \u001b[90mReal\u001b[39m         │ \u001b[90mReal\u001b[39m          │ \u001b[90mReal\u001b[39m             │ \u001b[90mReal\u001b[39m              │ \u001b[90mFloat64\u001b[39m      │ \u001b[90mFloat64\u001b[39m      │\n",
       "├─────┼───────┼────────┼─────────┼─────────────┼────────────┼──────────┼──────────────┼────────────┼─────────────┼──────────────┼──────────┼─────────────┼─────────┼──────────────┼───────────────┼──────────────────┼───────────────────┼──────────────┼──────────────┤\n",
       "│ 1   │ 1     │ PV     │ false   │ -1.37351e-7 │ 0.05       │ 1.01303  │ -3.0214e-9   │ 0.0        │ 0.0429859   │ -3.0214e-9   │ -2997.8  │ -16.9854    │ -26.327 │ -2.51184e-6  │ -247.894      │ -754.303         │ -2.47585e-6       │ -5.51683e-5  │ -3.44701e-5  │\n",
       "│ 2   │ 2     │ PQ     │ false   │ 0           │ 0          │ 1.00955  │ 0.0          │ 0.0123756  │ 0.0         │ 0            │ -3055.27 │ -11.4755    │ 0.0     │ 0            │ 0             │ 0                │ 0                 │ -0.000119467 │ -6.04806e-5  │\n",
       "│ 3   │ 3     │ PQ     │ true    │ 0           │ 0          │ 1.03128  │ 0.0          │ 0.00795715 │ 0.0         │ 0            │ -2934.05 │ -8.79722    │ 0.0     │ 0            │ 0             │ 0                │ 0                 │ -0.000254566 │ -3.4444e-5   │\n",
       "│ 4   │ 4     │ PV     │ false   │ -1.38612e-7 │ 2.91926    │ 1.06     │ -3.36041e-9  │ 0.0        │ 0.0240501   │ -3.36041e-9  │ -2798.16 │ -9.58739e-5 │ 0.0     │ -2.51185e-6  │ -256.816      │ -945.021         │ -2.47588e-6       │ -1567.52     │ -2.11484e-5  │\n",
       "│ 5   │ 5     │ PQ     │ false   │ 0           │ 0          │ 1.04349  │ 0.0          │ 0.00463671 │ 0.0         │ 0            │ -2776.09 │ -13.9151    │ 0.0     │ 0            │ 0             │ 0                │ 0                 │ -0.000447099 │ -2.73223e-5  │\n",
       "│ 6   │ 6     │ PV     │ false   │ -1.37764e-7 │ 0.497739   │ 1.03228  │ -3.17813e-9  │ 0.0        │ 0.000971753 │ -3.17813e-9  │ -2942.87 │ -6.05959    │ 0.0     │ -2.51184e-6  │ -251.926      │ -805.206         │ -2.47585e-6       │ -9.39483e-5  │ -2.73665e-5  │\n",
       "│ 7   │ 7     │ PQ     │ false   │ 0           │ 0          │ 1.02543  │ 0.0          │ 0.00923499 │ 0.0         │ 0            │ -2993.13 │ -4.96591    │ 0.0     │ 0            │ 0             │ 0                │ 0                 │ -0.000200187 │ -3.91866e-5  │\n",
       "│ 8   │ 8     │ PV     │ true    │ -1.39667e-7 │ -2.79584   │ 0.988486 │ -3.66626e-9  │ 0.0        │ 0.061243    │ -3.66626e-9  │ -2549.91 │ -4.01978e-5 │ 0.0     │ -2.51184e-6  │ -294.668      │ -1155.43         │ -2.47586e-6       │ -3.56429e-5  │ -5.22259e-5  │\n",
       "│ 9   │ 9     │ PQ     │ false   │ 0           │ 0          │ 1.00481  │ 0.0          │ 0.0127838  │ 0.0         │ 0            │ -2529.43 │ -6.63343    │ 0.0     │ 0            │ 0             │ 0                │ 0                 │ -0.000101244 │ -7.0886e-5   │\n",
       "│ 10  │ 10    │ PV     │ false   │ 1.14316     │ -1.30235   │ 0.984537 │ 0.190868     │ 0.0        │ 0.0473593   │ 0.190868     │ -2508.07 │ -4.18992e-5 │ 0.0     │ -5.88528e-7  │ -2.90087e-6   │ -4.21261e-6      │ -5.97129e-7       │ -3.41169e-5  │ -5.60153e-5  │\n",
       "⋮\n",
       "│ 108 │ 108   │ PQ     │ false   │ 0           │ 0          │ 0.940009 │ 0.0          │ 2.81464e-6 │ 0.0         │ 0            │ -4026.38 │ -1.35071    │ 0.0     │ 0            │ 0             │ 0                │ 0                 │ -2.2285e-5   │ -0.475894    │\n",
       "│ 109 │ 109   │ PQ     │ false   │ 0           │ 0          │ 0.940127 │ 0.0          │ 3.61656e-5 │ 0.0         │ 0            │ -4029.43 │ -2.09459    │ 0.0     │ 0            │ 0             │ 0                │ 0                 │ -2.26542e-5  │ -0.0844713   │\n",
       "│ 110 │ 110   │ PV     │ false   │ 0.0954038   │ 0.224512   │ 0.944681 │ 0.00640599   │ 0.0        │ 0.00235451  │ 0.00640599   │ -4019.08 │ -0.228015   │ 0.0     │ -2.81034e-6  │ -2.95174e-5   │ -5.19725e-5      │ -2.89787e-6       │ -2.34854e-5  │ -0.000463881 │\n",
       "│ 111 │ 111   │ PV     │ false   │ 0.353189    │ -0.0210487 │ 0.951571 │ 0.000445717  │ 0.0        │ 0.274176    │ 0.000445717  │ -3962.16 │ -7.22917e-6 │ 0.0     │ -2.49661e-6  │ -7.19205e-6   │ -1.31313e-5      │ -2.93763e-6       │ -2.58522e-5  │ -0.0001899   │\n",
       "│ 112 │ 112   │ PV     │ false   │ 0.406942    │ 0.270478   │ 0.945181 │ 0.00296501   │ 0.0        │ 0.353852    │ 0.00296501   │ -4081.39 │ -5.56878e-6 │ 0.0     │ -4.29117e-6  │ -6.29217e-6   │ -1.02565e-5      │ -5.81398e-6       │ -2.34185e-5  │ -0.000415579 │\n",
       "│ 113 │ 113   │ PV     │ false   │ -1.27125e-7 │ -0.984632  │ 0.954327 │ -6.30065e-10 │ 0.0        │ 0.00660621  │ -6.30065e-10 │ -3553.51 │ -39.9882    │ 0.0     │ -2.51184e-6  │ -142.991      │ -303.5           │ -2.47585e-6       │ -2.41739e-5  │ -0.000172622 │\n",
       "│ 114 │ 114   │ PQ     │ false   │ 0           │ 0          │ 0.98965  │ 0.0          │ 0.0122129  │ 0.0         │ 0            │ -2761.79 │ -5.52466    │ 0.0     │ 0            │ 0             │ 0                │ 0                 │ -6.33573e-5  │ -0.000115331 │\n",
       "│ 115 │ 115   │ PQ     │ false   │ 0           │ 0          │ 0.991036 │ 0.0          │ 0.0123292  │ 0.0         │ 0            │ -2763.87 │ -5.53973    │ 0.0     │ 0            │ 0             │ 0                │ 0                 │ -6.61939e-5  │ -0.000110144 │\n",
       "│ 116 │ 116   │ PV     │ false   │ -1.31703e-7 │ 0.943415   │ 1.02049  │ -2.80985e-8  │ 0.0        │ 1.97033     │ -2.80985e-8  │ -3536.52 │ -1.69041e-7 │ 0.0     │ -2.51182e-6  │ -49.6689      │ -413.808         │ -2.47588e-6       │ -6.41638e-5  │ -3.16284e-5  │\n",
       "│ 117 │ 117   │ PQ     │ false   │ 0           │ 0          │ 0.998834 │ 0.0          │ 0.00825123 │ 0.0         │ 0            │ -3109.16 │ -14.2997    │ 0.0     │ 0            │ 0             │ 0                │ 0                 │ -5.97609e-5  │ -6.36453e-5  │\n",
       "│ 118 │ 118   │ PQ     │ false   │ 0           │ 0          │ 0.991886 │ 0.0          │ 0.0124025  │ 0.0         │ 0            │ -3694.9  │ -86.3361    │ 0.0     │ 0            │ 0             │ 0                │ 0                 │ -6.53708e-5  │ -0.000109835 │"
      ]
     },
     "metadata": {},
     "output_type": "display_data"
    }
   ],
   "source": [
    "## Show Bus Results\n",
    "display(res_dfs[1])"
   ]
  },
  {
   "cell_type": "code",
   "execution_count": 40,
   "metadata": {},
   "outputs": [
    {
     "data": {
      "text/html": [
       "<table class=\"data-frame\"><thead><tr><th></th><th>f_p_ij</th><th>f_p_ji</th><th>f_q_ij</th><th>f_q_ji</th><th>std_pij</th><th>std_pji</th><th>std_qij</th><th>std_qji</th><th>aux_pij</th><th>aux_pji</th><th>aux_qij</th><th>aux_qji</th><th>eta_ij</th><th>eta_ji</th></tr><tr><th></th><th>Float64</th><th>Float64</th><th>Float64</th><th>Float64</th><th>Float64</th><th>Float64</th><th>Float64</th><th>Float64</th><th>Float64</th><th>Float64</th><th>Float64</th><th>Float64</th><th>Float64</th><th>Float64</th></tr></thead><tbody><p>186 rows × 14 columns</p><tr><th>1</th><td>0.0247857</td><td>-0.02477</td><td>0.0154762</td><td>-0.04137</td><td>0.101326</td><td>0.101204</td><td>0.0988197</td><td>0.0986111</td><td>0.591416</td><td>0.59074</td><td>0.585873</td><td>0.587145</td><td>-2.79866e-5</td><td>-2.80311e-5</td></tr><tr><th>2</th><td>-0.585786</td><td>0.590696</td><td>-0.262476</td><td>0.267319</td><td>0.0544249</td><td>0.0537787</td><td>0.0701981</td><td>0.070073</td><td>0.776948</td><td>0.778723</td><td>0.52759</td><td>0.52891</td><td>-5.1249e-5</td><td>-5.226e-5</td></tr><tr><th>3</th><td>-0.744341</td><td>0.748815</td><td>2.36138</td><td>-2.34342</td><td>0.121881</td><td>0.123826</td><td>0.0572463</td><td>0.0597338</td><td>1.20154</td><td>1.21408</td><td>2.56235</td><td>2.55335</td><td>-3.86373e-5</td><td>-3.71404e-5</td></tr><tr><th>4</th><td>-0.240316</td><td>0.241172</td><td>-0.0796522</td><td>0.0529389</td><td>0.102531</td><td>0.103016</td><td>0.0917269</td><td>0.0923162</td><td>0.650612</td><td>0.65273</td><td>0.557147</td><td>0.553788</td><td>-3.09278e-5</td><td>-3.0847e-5</td></tr><tr><th>5</th><td>0.738634</td><td>-0.733072</td><td>0.0615122</td><td>-0.0516314</td><td>0.0415561</td><td>0.0421561</td><td>0.0622171</td><td>0.0631914</td><td>0.880154</td><td>0.877361</td><td>0.378911</td><td>0.38124</td><td>-6.63796e-5</td><td>-6.47394e-5</td></tr><tr><th>6</th><td>0.161072</td><td>-0.1609</td><td>0.307371</td><td>-0.312408</td><td>0.0898102</td><td>0.089586</td><td>0.0831834</td><td>0.0827706</td><td>0.573457</td><td>0.572147</td><td>0.647528</td><td>0.649776</td><td>-3.21176e-5</td><td>-3.2238e-5</td></tr><tr><th>7</th><td>-1.13639</td><td>1.13922</td><td>-0.978005</td><td>-0.138396</td><td>0.226373</td><td>0.24771</td><td>0.190948</td><td>0.244846</td><td>1.93985</td><td>2.05196</td><td>1.72675</td><td>1.45317</td><td>-1.43987e-5</td><td>-1.20439e-5</td></tr><tr><th>8</th><td>2.10275</td><td>-2.10275</td><td>-1.49326</td><td>1.6328</td><td>0.134935</td><td>0.129789</td><td>0.022657</td><td>0.00839417</td><td>2.43771</td><td>2.40469</td><td>1.58758</td><td>1.65233</td><td>-0.000107048</td><td>-23.4296</td></tr><tr><th>9</th><td>-1.13922</td><td>1.14316</td><td>0.138396</td><td>-1.30235</td><td>0.24771</td><td>0.207546</td><td>0.244846</td><td>0.155535</td><td>2.05196</td><td>1.86132</td><td>1.45317</td><td>1.88916</td><td>-1.20439e-5</td><td>-1.65647e-5</td></tr><tr><th>10</th><td>0.315341</td><td>-0.314621</td><td>0.425883</td><td>-0.442516</td><td>0.0783139</td><td>0.0771814</td><td>0.0645459</td><td>0.0629144</td><td>0.610278</td><td>0.604811</td><td>0.671287</td><td>0.680288</td><td>-4.05028e-5</td><td>-4.12851e-5</td></tr><tr><th>11</th><td>0.374132</td><td>-0.372693</td><td>0.16069</td><td>-0.174445</td><td>0.0866765</td><td>0.0861261</td><td>0.0831871</td><td>0.0825943</td><td>0.697055</td><td>0.694079</td><td>0.54053</td><td>0.545399</td><td>-3.49777e-5</td><td>-3.51055e-5</td></tr><tr><th>12</th><td>0.79428</td><td>-0.790848</td><td>0.25186</td><td>-0.24578</td><td>0.0703002</td><td>0.070093</td><td>0.0227891</td><td>0.0229289</td><td>0.957823</td><td>0.955727</td><td>0.304877</td><td>0.305784</td><td>-8.28087</td><td>-0.00137075</td></tr><tr><th>13</th><td>-0.19523</td><td>0.195953</td><td>-0.05763</td><td>0.0439035</td><td>0.0956307</td><td>0.0957311</td><td>0.0954947</td><td>0.0956604</td><td>0.621094</td><td>0.621975</td><td>0.571719</td><td>0.570316</td><td>-2.93712e-5</td><td>-2.9331e-5</td></tr><tr><th>14</th><td>0.0956203</td><td>-0.0951624</td><td>0.0480215</td><td>-0.0890195</td><td>0.101671</td><td>0.101185</td><td>0.0974214</td><td>0.0965733</td><td>0.600452</td><td>0.597817</td><td>0.582173</td><td>0.587015</td><td>-2.84193e-5</td><td>-2.85915e-5</td></tr><tr><th>15</th><td>-0.0481007</td><td>0.0481525</td><td>0.290408</td><td>-0.299302</td><td>0.0943293</td><td>0.0939611</td><td>0.0866684</td><td>0.0859515</td><td>0.556377</td><td>0.554209</td><td>0.650222</td><td>0.653962</td><td>-3.07675e-5</td><td>-3.09582e-5</td></tr><tr><th>16</th><td>0.398034</td><td>-0.393729</td><td>0.259075</td><td>-0.264116</td><td>0.0762324</td><td>0.0762186</td><td>0.0754173</td><td>0.0754375</td><td>0.684943</td><td>0.681428</td><td>0.575313</td><td>0.578965</td><td>-3.76623e-5</td><td>-3.76129e-5</td></tr><tr><th>17</th><td>0.182966</td><td>-0.182438</td><td>0.139572</td><td>-0.156305</td><td>0.0968213</td><td>0.0963602</td><td>0.0926518</td><td>0.0920164</td><td>0.613549</td><td>0.611064</td><td>0.587305</td><td>0.591737</td><td>-2.99428e-5</td><td>-3.012e-5</td></tr><tr><th>18</th><td>0.0197286</td><td>-0.0206364</td><td>0.0881155</td><td>-0.151504</td><td>0.101865</td><td>0.100632</td><td>0.097317</td><td>0.0951524</td><td>0.589258</td><td>0.582365</td><td>0.592408</td><td>0.605145</td><td>-2.82949e-5</td><td>-2.8806e-5</td></tr><tr><th>19</th><td>0.028438</td><td>-0.0285726</td><td>0.145305</td><td>-0.194324</td><td>0.101422</td><td>0.100104</td><td>0.0952101</td><td>0.092905</td><td>0.584374</td><td>0.576874</td><td>0.603614</td><td>0.61717</td><td>-2.88133e-5</td><td>-2.93949e-5</td></tr><tr><th>20</th><td>0.173865</td><td>-0.17288</td><td>0.198224</td><td>-0.215975</td><td>0.0965016</td><td>0.0959195</td><td>0.0898537</td><td>0.0888914</td><td>0.60323</td><td>0.59972</td><td>0.604478</td><td>0.610602</td><td>-3.06132e-5</td><td>-3.08845e-5</td></tr><tr><th>21</th><td>-0.44146</td><td>0.443175</td><td>-0.109648</td><td>0.0734762</td><td>0.275229</td><td>0.275404</td><td>0.27835</td><td>0.278547</td><td>1.7365</td><td>1.73816</td><td>1.64616</td><td>1.64375</td><td>-9.92013e-6</td><td>-9.91301e-6</td></tr><tr><th>22</th><td>-0.10212</td><td>0.102226</td><td>0.105975</td><td>-0.150802</td><td>0.101459</td><td>0.100667</td><td>0.095908</td><td>0.0941143</td><td>0.597536</td><td>0.592675</td><td>0.590643</td><td>0.600058</td><td>-2.8848e-5</td><td>-2.92538e-5</td></tr><tr><th>23</th><td>0.0563267</td><td>-0.0584254</td><td>0.364917</td><td>-0.38564</td><td>0.0936526</td><td>0.0924597</td><td>0.0783172</td><td>0.0766172</td><td>0.534498</td><td>0.529405</td><td>0.686663</td><td>0.695982</td><td>-3.31258e-5</td><td>-3.37967e-5</td></tr><tr><th>24</th><td>-0.279046</td><td>0.279354</td><td>-0.137542</td><td>0.128363</td><td>0.0915995</td><td>0.0917771</td><td>0.0890139</td><td>0.0893759</td><td>0.649132</td><td>0.650239</td><td>0.567848</td><td>0.565686</td><td>-3.17458e-5</td><td>-3.16511e-5</td></tr><tr><th>25</th><td>-0.747941</td><td>0.763063</td><td>0.0436829</td><td>-0.00175076</td><td>0.11236</td><td>0.116747</td><td>0.0214874</td><td>0.00701779</td><td>1.01095</td><td>1.03466</td><td>0.0992798</td><td>0.0180766</td><td>-0.00186864</td><td>-12283.2</td></tr><tr><th>26</th><td>-0.732807</td><td>0.735739</td><td>0.227111</td><td>-0.226901</td><td>0.0653608</td><td>0.0654004</td><td>0.0444656</td><td>0.0434871</td><td>0.90766</td><td>0.909868</td><td>0.394208</td><td>0.3904</td><td>-0.000123178</td><td>-0.00012736</td></tr><tr><th>27</th><td>0.351437</td><td>-0.350075</td><td>-0.0312523</td><td>0.0168164</td><td>0.0968881</td><td>0.096879</td><td>0.087244</td><td>0.0875405</td><td>0.703949</td><td>0.703221</td><td>0.521766</td><td>0.521859</td><td>-3.3874e-5</td><td>-3.37803e-5</td></tr><tr><th>28</th><td>0.196075</td><td>-0.196048</td><td>-0.104816</td><td>0.0812905</td><td>0.106085</td><td>0.106382</td><td>0.0924501</td><td>0.0931436</td><td>0.634191</td><td>0.635937</td><td>0.570233</td><td>0.566504</td><td>-3.04636e-5</td><td>-3.02922e-5</td></tr><tr><th>29</th><td>0.0860483</td><td>-0.0867963</td><td>-0.136291</td><td>0.0931524</td><td>0.109667</td><td>0.110486</td><td>0.0938677</td><td>0.0952511</td><td>0.604068</td><td>0.60872</td><td>0.59135</td><td>0.582723</td><td>-2.94981e-5</td><td>-2.91528e-5</td></tr><tr><th>30</th><td>0.0248677</td><td>-0.0268935</td><td>0.495952</td><td>-0.551685</td><td>0.14622</td><td>0.143535</td><td>0.0635789</td><td>0.0597631</td><td>0.571508</td><td>0.549766</td><td>0.726722</td><td>0.759872</td><td>-4.49855e-5</td><td>-4.98148e-5</td></tr><tr><th>&vellip;</th><td>&vellip;</td><td>&vellip;</td><td>&vellip;</td><td>&vellip;</td><td>&vellip;</td><td>&vellip;</td><td>&vellip;</td><td>&vellip;</td><td>&vellip;</td><td>&vellip;</td><td>&vellip;</td><td>&vellip;</td><td>&vellip;</td><td>&vellip;</td></tr></tbody></table>"
      ],
      "text/latex": [
       "\\begin{tabular}{r|cccccccccccccc}\n",
       "\t& f\\_p\\_ij & f\\_p\\_ji & f\\_q\\_ij & f\\_q\\_ji & std\\_pij & std\\_pji & std\\_qij & std\\_qji & aux\\_pij & aux\\_pji & aux\\_qij & aux\\_qji & eta\\_ij & eta\\_ji\\\\\n",
       "\t\\hline\n",
       "\t& Float64 & Float64 & Float64 & Float64 & Float64 & Float64 & Float64 & Float64 & Float64 & Float64 & Float64 & Float64 & Float64 & Float64\\\\\n",
       "\t\\hline\n",
       "\t1 & 0.0247857 & -0.02477 & 0.0154762 & -0.04137 & 0.101326 & 0.101204 & 0.0988197 & 0.0986111 & 0.591416 & 0.59074 & 0.585873 & 0.587145 & -2.79866e-5 & -2.80311e-5 \\\\\n",
       "\t2 & -0.585786 & 0.590696 & -0.262476 & 0.267319 & 0.0544249 & 0.0537787 & 0.0701981 & 0.070073 & 0.776948 & 0.778723 & 0.52759 & 0.52891 & -5.1249e-5 & -5.226e-5 \\\\\n",
       "\t3 & -0.744341 & 0.748815 & 2.36138 & -2.34342 & 0.121881 & 0.123826 & 0.0572463 & 0.0597338 & 1.20154 & 1.21408 & 2.56235 & 2.55335 & -3.86373e-5 & -3.71404e-5 \\\\\n",
       "\t4 & -0.240316 & 0.241172 & -0.0796522 & 0.0529389 & 0.102531 & 0.103016 & 0.0917269 & 0.0923162 & 0.650612 & 0.65273 & 0.557147 & 0.553788 & -3.09278e-5 & -3.0847e-5 \\\\\n",
       "\t5 & 0.738634 & -0.733072 & 0.0615122 & -0.0516314 & 0.0415561 & 0.0421561 & 0.0622171 & 0.0631914 & 0.880154 & 0.877361 & 0.378911 & 0.38124 & -6.63796e-5 & -6.47394e-5 \\\\\n",
       "\t6 & 0.161072 & -0.1609 & 0.307371 & -0.312408 & 0.0898102 & 0.089586 & 0.0831834 & 0.0827706 & 0.573457 & 0.572147 & 0.647528 & 0.649776 & -3.21176e-5 & -3.2238e-5 \\\\\n",
       "\t7 & -1.13639 & 1.13922 & -0.978005 & -0.138396 & 0.226373 & 0.24771 & 0.190948 & 0.244846 & 1.93985 & 2.05196 & 1.72675 & 1.45317 & -1.43987e-5 & -1.20439e-5 \\\\\n",
       "\t8 & 2.10275 & -2.10275 & -1.49326 & 1.6328 & 0.134935 & 0.129789 & 0.022657 & 0.00839417 & 2.43771 & 2.40469 & 1.58758 & 1.65233 & -0.000107048 & -23.4296 \\\\\n",
       "\t9 & -1.13922 & 1.14316 & 0.138396 & -1.30235 & 0.24771 & 0.207546 & 0.244846 & 0.155535 & 2.05196 & 1.86132 & 1.45317 & 1.88916 & -1.20439e-5 & -1.65647e-5 \\\\\n",
       "\t10 & 0.315341 & -0.314621 & 0.425883 & -0.442516 & 0.0783139 & 0.0771814 & 0.0645459 & 0.0629144 & 0.610278 & 0.604811 & 0.671287 & 0.680288 & -4.05028e-5 & -4.12851e-5 \\\\\n",
       "\t11 & 0.374132 & -0.372693 & 0.16069 & -0.174445 & 0.0866765 & 0.0861261 & 0.0831871 & 0.0825943 & 0.697055 & 0.694079 & 0.54053 & 0.545399 & -3.49777e-5 & -3.51055e-5 \\\\\n",
       "\t12 & 0.79428 & -0.790848 & 0.25186 & -0.24578 & 0.0703002 & 0.070093 & 0.0227891 & 0.0229289 & 0.957823 & 0.955727 & 0.304877 & 0.305784 & -8.28087 & -0.00137075 \\\\\n",
       "\t13 & -0.19523 & 0.195953 & -0.05763 & 0.0439035 & 0.0956307 & 0.0957311 & 0.0954947 & 0.0956604 & 0.621094 & 0.621975 & 0.571719 & 0.570316 & -2.93712e-5 & -2.9331e-5 \\\\\n",
       "\t14 & 0.0956203 & -0.0951624 & 0.0480215 & -0.0890195 & 0.101671 & 0.101185 & 0.0974214 & 0.0965733 & 0.600452 & 0.597817 & 0.582173 & 0.587015 & -2.84193e-5 & -2.85915e-5 \\\\\n",
       "\t15 & -0.0481007 & 0.0481525 & 0.290408 & -0.299302 & 0.0943293 & 0.0939611 & 0.0866684 & 0.0859515 & 0.556377 & 0.554209 & 0.650222 & 0.653962 & -3.07675e-5 & -3.09582e-5 \\\\\n",
       "\t16 & 0.398034 & -0.393729 & 0.259075 & -0.264116 & 0.0762324 & 0.0762186 & 0.0754173 & 0.0754375 & 0.684943 & 0.681428 & 0.575313 & 0.578965 & -3.76623e-5 & -3.76129e-5 \\\\\n",
       "\t17 & 0.182966 & -0.182438 & 0.139572 & -0.156305 & 0.0968213 & 0.0963602 & 0.0926518 & 0.0920164 & 0.613549 & 0.611064 & 0.587305 & 0.591737 & -2.99428e-5 & -3.012e-5 \\\\\n",
       "\t18 & 0.0197286 & -0.0206364 & 0.0881155 & -0.151504 & 0.101865 & 0.100632 & 0.097317 & 0.0951524 & 0.589258 & 0.582365 & 0.592408 & 0.605145 & -2.82949e-5 & -2.8806e-5 \\\\\n",
       "\t19 & 0.028438 & -0.0285726 & 0.145305 & -0.194324 & 0.101422 & 0.100104 & 0.0952101 & 0.092905 & 0.584374 & 0.576874 & 0.603614 & 0.61717 & -2.88133e-5 & -2.93949e-5 \\\\\n",
       "\t20 & 0.173865 & -0.17288 & 0.198224 & -0.215975 & 0.0965016 & 0.0959195 & 0.0898537 & 0.0888914 & 0.60323 & 0.59972 & 0.604478 & 0.610602 & -3.06132e-5 & -3.08845e-5 \\\\\n",
       "\t21 & -0.44146 & 0.443175 & -0.109648 & 0.0734762 & 0.275229 & 0.275404 & 0.27835 & 0.278547 & 1.7365 & 1.73816 & 1.64616 & 1.64375 & -9.92013e-6 & -9.91301e-6 \\\\\n",
       "\t22 & -0.10212 & 0.102226 & 0.105975 & -0.150802 & 0.101459 & 0.100667 & 0.095908 & 0.0941143 & 0.597536 & 0.592675 & 0.590643 & 0.600058 & -2.8848e-5 & -2.92538e-5 \\\\\n",
       "\t23 & 0.0563267 & -0.0584254 & 0.364917 & -0.38564 & 0.0936526 & 0.0924597 & 0.0783172 & 0.0766172 & 0.534498 & 0.529405 & 0.686663 & 0.695982 & -3.31258e-5 & -3.37967e-5 \\\\\n",
       "\t24 & -0.279046 & 0.279354 & -0.137542 & 0.128363 & 0.0915995 & 0.0917771 & 0.0890139 & 0.0893759 & 0.649132 & 0.650239 & 0.567848 & 0.565686 & -3.17458e-5 & -3.16511e-5 \\\\\n",
       "\t25 & -0.747941 & 0.763063 & 0.0436829 & -0.00175076 & 0.11236 & 0.116747 & 0.0214874 & 0.00701779 & 1.01095 & 1.03466 & 0.0992798 & 0.0180766 & -0.00186864 & -12283.2 \\\\\n",
       "\t26 & -0.732807 & 0.735739 & 0.227111 & -0.226901 & 0.0653608 & 0.0654004 & 0.0444656 & 0.0434871 & 0.90766 & 0.909868 & 0.394208 & 0.3904 & -0.000123178 & -0.00012736 \\\\\n",
       "\t27 & 0.351437 & -0.350075 & -0.0312523 & 0.0168164 & 0.0968881 & 0.096879 & 0.087244 & 0.0875405 & 0.703949 & 0.703221 & 0.521766 & 0.521859 & -3.3874e-5 & -3.37803e-5 \\\\\n",
       "\t28 & 0.196075 & -0.196048 & -0.104816 & 0.0812905 & 0.106085 & 0.106382 & 0.0924501 & 0.0931436 & 0.634191 & 0.635937 & 0.570233 & 0.566504 & -3.04636e-5 & -3.02922e-5 \\\\\n",
       "\t29 & 0.0860483 & -0.0867963 & -0.136291 & 0.0931524 & 0.109667 & 0.110486 & 0.0938677 & 0.0952511 & 0.604068 & 0.60872 & 0.59135 & 0.582723 & -2.94981e-5 & -2.91528e-5 \\\\\n",
       "\t30 & 0.0248677 & -0.0268935 & 0.495952 & -0.551685 & 0.14622 & 0.143535 & 0.0635789 & 0.0597631 & 0.571508 & 0.549766 & 0.726722 & 0.759872 & -4.49855e-5 & -4.98148e-5 \\\\\n",
       "\t$\\dots$ & $\\dots$ & $\\dots$ & $\\dots$ & $\\dots$ & $\\dots$ & $\\dots$ & $\\dots$ & $\\dots$ & $\\dots$ & $\\dots$ & $\\dots$ & $\\dots$ & $\\dots$ & $\\dots$ \\\\\n",
       "\\end{tabular}\n"
      ],
      "text/plain": [
       "186×14 DataFrame\n",
       "│ Row │ f_p_ij    │ f_p_ji    │ f_q_ij     │ f_q_ji     │ std_pij   │ std_pji   │ std_qij   │ std_qji    │ aux_pij  │ aux_pji  │ aux_qij  │ aux_qji  │ eta_ij       │ eta_ji      │\n",
       "│     │ \u001b[90mFloat64\u001b[39m   │ \u001b[90mFloat64\u001b[39m   │ \u001b[90mFloat64\u001b[39m    │ \u001b[90mFloat64\u001b[39m    │ \u001b[90mFloat64\u001b[39m   │ \u001b[90mFloat64\u001b[39m   │ \u001b[90mFloat64\u001b[39m   │ \u001b[90mFloat64\u001b[39m    │ \u001b[90mFloat64\u001b[39m  │ \u001b[90mFloat64\u001b[39m  │ \u001b[90mFloat64\u001b[39m  │ \u001b[90mFloat64\u001b[39m  │ \u001b[90mFloat64\u001b[39m      │ \u001b[90mFloat64\u001b[39m     │\n",
       "├─────┼───────────┼───────────┼────────────┼────────────┼───────────┼───────────┼───────────┼────────────┼──────────┼──────────┼──────────┼──────────┼──────────────┼─────────────┤\n",
       "│ 1   │ 0.0247857 │ -0.02477  │ 0.0154762  │ -0.04137   │ 0.101326  │ 0.101204  │ 0.0988197 │ 0.0986111  │ 0.591416 │ 0.59074  │ 0.585873 │ 0.587145 │ -2.79866e-5  │ -2.80311e-5 │\n",
       "│ 2   │ -0.585786 │ 0.590696  │ -0.262476  │ 0.267319   │ 0.0544249 │ 0.0537787 │ 0.0701981 │ 0.070073   │ 0.776948 │ 0.778723 │ 0.52759  │ 0.52891  │ -5.1249e-5   │ -5.226e-5   │\n",
       "│ 3   │ -0.744341 │ 0.748815  │ 2.36138    │ -2.34342   │ 0.121881  │ 0.123826  │ 0.0572463 │ 0.0597338  │ 1.20154  │ 1.21408  │ 2.56235  │ 2.55335  │ -3.86373e-5  │ -3.71404e-5 │\n",
       "│ 4   │ -0.240316 │ 0.241172  │ -0.0796522 │ 0.0529389  │ 0.102531  │ 0.103016  │ 0.0917269 │ 0.0923162  │ 0.650612 │ 0.65273  │ 0.557147 │ 0.553788 │ -3.09278e-5  │ -3.0847e-5  │\n",
       "│ 5   │ 0.738634  │ -0.733072 │ 0.0615122  │ -0.0516314 │ 0.0415561 │ 0.0421561 │ 0.0622171 │ 0.0631914  │ 0.880154 │ 0.877361 │ 0.378911 │ 0.38124  │ -6.63796e-5  │ -6.47394e-5 │\n",
       "│ 6   │ 0.161072  │ -0.1609   │ 0.307371   │ -0.312408  │ 0.0898102 │ 0.089586  │ 0.0831834 │ 0.0827706  │ 0.573457 │ 0.572147 │ 0.647528 │ 0.649776 │ -3.21176e-5  │ -3.2238e-5  │\n",
       "│ 7   │ -1.13639  │ 1.13922   │ -0.978005  │ -0.138396  │ 0.226373  │ 0.24771   │ 0.190948  │ 0.244846   │ 1.93985  │ 2.05196  │ 1.72675  │ 1.45317  │ -1.43987e-5  │ -1.20439e-5 │\n",
       "│ 8   │ 2.10275   │ -2.10275  │ -1.49326   │ 1.6328     │ 0.134935  │ 0.129789  │ 0.022657  │ 0.00839417 │ 2.43771  │ 2.40469  │ 1.58758  │ 1.65233  │ -0.000107048 │ -23.4296    │\n",
       "│ 9   │ -1.13922  │ 1.14316   │ 0.138396   │ -1.30235   │ 0.24771   │ 0.207546  │ 0.244846  │ 0.155535   │ 2.05196  │ 1.86132  │ 1.45317  │ 1.88916  │ -1.20439e-5  │ -1.65647e-5 │\n",
       "│ 10  │ 0.315341  │ -0.314621 │ 0.425883   │ -0.442516  │ 0.0783139 │ 0.0771814 │ 0.0645459 │ 0.0629144  │ 0.610278 │ 0.604811 │ 0.671287 │ 0.680288 │ -4.05028e-5  │ -4.12851e-5 │\n",
       "⋮\n",
       "│ 176 │ -0.350232 │ 0.353189  │ 0.01339    │ -0.0210487 │ 0.0504248 │ 0.0502653 │ 0.0548822 │ 0.0547852  │ 0.645807 │ 0.647117 │ 0.513838 │ 0.513268 │ -2.68875e-5  │ -2.69504e-5 │\n",
       "│ 177 │ 0.344236  │ -0.341058 │ -0.17412   │ 0.127478   │ 0.0496278 │ 0.0504363 │ 0.052742  │ 0.0540477  │ 0.634355 │ 0.637459 │ 0.537635 │ 0.526804 │ -2.76001e-5  │ -2.71243e-5 │\n",
       "│ 178 │ 0.218122  │ -0.215422 │ 0.761399   │ -0.759618  │ 0.0492755 │ 0.0494503 │ 0.0204737 │ 0.0206843  │ 0.433767 │ 0.433194 │ 0.855862 │ 0.855187 │ -6.42016e-5  │ -6.35257e-5 │\n",
       "│ 179 │ -0.149725 │ 0.149421  │ 0.175615   │ -0.225014  │ 0.177469  │ 0.177203  │ 0.172557  │ 0.171972   │ 1.59412  │ 1.59159  │ 1.59056  │ 1.59603  │ -8.26704e-6  │ -8.28763e-6 │\n",
       "│ 180 │ 0.216573  │ -0.216209 │ -0.150325  │ 0.136156   │ 0.0561443 │ 0.0563245 │ 0.056101  │ 0.0564536  │ 0.586051 │ 0.587344 │ 0.557964 │ 0.554787 │ -2.5522e-5   │ -2.54034e-5 │\n",
       "│ 181 │ 0.114225  │ -0.113798 │ 0.2257     │ -0.243488  │ 0.0576765 │ 0.0573363 │ 0.0552642 │ 0.0546191  │ 0.5495   │ 0.546382 │ 0.591785 │ 0.598044 │ -2.53822e-5  │ -2.56098e-5 │\n",
       "│ 182 │ 0.128209  │ -0.128202 │ -0.169156  │ 0.166488   │ 0.0583154 │ 0.058352  │ 0.0569124 │ 0.0569856  │ 0.560173 │ 0.560497 │ 0.573662 │ 0.572968 │ -2.48716e-5  │ -2.48478e-5 │\n",
       "│ 183 │ 2.02565   │ -2.024    │ -1.09401   │ 0.943415   │ 0.0573607 │ 0.0624717 │ 0.0760058 │ 0.0863406  │ 2.30168  │ 2.32581  │ 1.47823  │ 1.39554  │ -2.13271e-5  │ -1.9616e-5  │\n",
       "│ 184 │ 0.221751  │ -0.22     │ 0.0591557  │ -0.088     │ 0.0       │ 0.0       │ 0.0       │ 0.0        │ 0.436753 │ 0.479544 │ 0.561282 │ 0.371274 │ -2.20692e-5  │ -1.8066e-5  │\n",
       "│ 185 │ 0.664026  │ -0.65726  │ 0.18209    │ -0.171648  │ 0.0300615 │ 0.0306813 │ 0.0395926 │ 0.0403835  │ 0.808891 │ 0.805832 │ 0.438032 │ 0.437164 │ -4.37463e-5  │ -4.27703e-5 │\n",
       "│ 186 │ -0.292821 │ 0.29426   │ -0.0151402 │ 0.00664769 │ 0.0540815 │ 0.0540457 │ 0.0565223 │ 0.0564871  │ 0.622323 │ 0.623014 │ 0.525034 │ 0.524538 │ -2.59342e-5  │ -2.59529e-5 │"
      ]
     },
     "metadata": {},
     "output_type": "display_data"
    }
   ],
   "source": [
    "## Show Line Results\n",
    "display(res_dfs[2])"
   ]
  },
  {
   "cell_type": "code",
   "execution_count": 41,
   "metadata": {},
   "outputs": [
    {
     "data": {
      "text/html": [
       "<table class=\"data-frame\"><thead><tr><th></th><th>status</th><th>solvetime</th><th>objective</th><th>gen_cost</th><th>var_pen</th><th>sum_p_var</th><th>sum_q_var</th><th>sum_v_var</th><th>sum_fp_var</th><th>sum_fq_var</th></tr><tr><th></th><th>MathOptI…</th><th>Float64</th><th>Float64</th><th>Float64</th><th>Float64</th><th>Float64</th><th>Float64</th><th>Float64</th><th>Float64</th><th>Float64</th></tr></thead><tbody><p>1 rows × 10 columns</p><tr><th>1</th><td>OPTIMAL</td><td>2.6149</td><td>93139.6</td><td>93139.6</td><td>0.0</td><td>0.0562679</td><td>9.29373</td><td>0.00646321</td><td>3.86991</td><td>3.26866</td></tr></tbody></table>"
      ],
      "text/latex": [
       "\\begin{tabular}{r|cccccccccc}\n",
       "\t& status & solvetime & objective & gen\\_cost & var\\_pen & sum\\_p\\_var & sum\\_q\\_var & sum\\_v\\_var & sum\\_fp\\_var & sum\\_fq\\_var\\\\\n",
       "\t\\hline\n",
       "\t& MathOptI… & Float64 & Float64 & Float64 & Float64 & Float64 & Float64 & Float64 & Float64 & Float64\\\\\n",
       "\t\\hline\n",
       "\t1 & OPTIMAL & 2.6149 & 93139.6 & 93139.6 & 0.0 & 0.0562679 & 9.29373 & 0.00646321 & 3.86991 & 3.26866 \\\\\n",
       "\\end{tabular}\n"
      ],
      "text/plain": [
       "1×10 DataFrame\n",
       "│ Row │ status    │ solvetime │ objective │ gen_cost │ var_pen │ sum_p_var │ sum_q_var │ sum_v_var  │ sum_fp_var │ sum_fq_var │\n",
       "│     │ \u001b[90mMathOptI…\u001b[39m │ \u001b[90mFloat64\u001b[39m   │ \u001b[90mFloat64\u001b[39m   │ \u001b[90mFloat64\u001b[39m  │ \u001b[90mFloat64\u001b[39m │ \u001b[90mFloat64\u001b[39m   │ \u001b[90mFloat64\u001b[39m   │ \u001b[90mFloat64\u001b[39m    │ \u001b[90mFloat64\u001b[39m    │ \u001b[90mFloat64\u001b[39m    │\n",
       "├─────┼───────────┼───────────┼───────────┼──────────┼─────────┼───────────┼───────────┼────────────┼────────────┼────────────┤\n",
       "│ 1   │ OPTIMAL   │ 2.6149    │ 93139.6   │ 93139.6  │ 0.0     │ 0.0562679 │ 9.29373   │ 0.00646321 │ 3.86991    │ 3.26866    │"
      ]
     },
     "metadata": {},
     "output_type": "display_data"
    }
   ],
   "source": [
    "## Show Global Results\n",
    "display(res_dfs[3])"
   ]
  },
  {
   "cell_type": "code",
   "execution_count": 42,
   "metadata": {},
   "outputs": [
    {
     "data": {
      "text/html": [
       "<table class=\"data-frame\"><thead><tr><th></th><th>gen</th><th>at_bus</th><th>alpha</th></tr><tr><th></th><th>Int64</th><th>Int64</th><th>Float64</th></tr></thead><tbody><p>54 rows × 3 columns</p><tr><th>1</th><td>1</td><td>1</td><td>-3.0214e-9</td></tr><tr><th>2</th><td>2</td><td>4</td><td>-3.36041e-9</td></tr><tr><th>3</th><td>3</td><td>6</td><td>-3.17813e-9</td></tr><tr><th>4</th><td>4</td><td>8</td><td>-3.66626e-9</td></tr><tr><th>5</th><td>5</td><td>10</td><td>0.190868</td></tr><tr><th>6</th><td>6</td><td>12</td><td>5.88114e-7</td></tr><tr><th>7</th><td>7</td><td>15</td><td>2.28331e-8</td></tr><tr><th>8</th><td>8</td><td>18</td><td>1.88942e-8</td></tr><tr><th>9</th><td>9</td><td>19</td><td>-2.75385e-9</td></tr><tr><th>10</th><td>10</td><td>24</td><td>-2.93189e-9</td></tr><tr><th>11</th><td>11</td><td>25</td><td>0.230646</td></tr><tr><th>12</th><td>12</td><td>26</td><td>0.111892</td></tr><tr><th>13</th><td>13</td><td>27</td><td>-2.64499e-9</td></tr><tr><th>14</th><td>14</td><td>31</td><td>0.00359875</td></tr><tr><th>15</th><td>15</td><td>32</td><td>-2.59925e-9</td></tr><tr><th>16</th><td>16</td><td>34</td><td>1.11485e-8</td></tr><tr><th>17</th><td>17</td><td>36</td><td>1.35961e-8</td></tr><tr><th>18</th><td>18</td><td>40</td><td>2.06828e-7</td></tr><tr><th>19</th><td>19</td><td>42</td><td>4.81502e-7</td></tr><tr><th>20</th><td>20</td><td>46</td><td>0.00225006</td></tr><tr><th>21</th><td>21</td><td>49</td><td>0.030351</td></tr><tr><th>22</th><td>22</td><td>54</td><td>0.00717053</td></tr><tr><th>23</th><td>23</td><td>55</td><td>2.64466e-8</td></tr><tr><th>24</th><td>24</td><td>56</td><td>2.42519e-8</td></tr><tr><th>25</th><td>25</td><td>59</td><td>0.0249485</td></tr><tr><th>26</th><td>26</td><td>61</td><td>0.027654</td></tr><tr><th>27</th><td>27</td><td>62</td><td>4.70562e-9</td></tr><tr><th>28</th><td>28</td><td>65</td><td>0.0688284</td></tr><tr><th>29</th><td>29</td><td>66</td><td>0.0612326</td></tr><tr><th>30</th><td>30</td><td>69</td><td>0.175521</td></tr><tr><th>&vellip;</th><td>&vellip;</td><td>&vellip;</td><td>&vellip;</td></tr></tbody></table>"
      ],
      "text/latex": [
       "\\begin{tabular}{r|ccc}\n",
       "\t& gen & at\\_bus & alpha\\\\\n",
       "\t\\hline\n",
       "\t& Int64 & Int64 & Float64\\\\\n",
       "\t\\hline\n",
       "\t1 & 1 & 1 & -3.0214e-9 \\\\\n",
       "\t2 & 2 & 4 & -3.36041e-9 \\\\\n",
       "\t3 & 3 & 6 & -3.17813e-9 \\\\\n",
       "\t4 & 4 & 8 & -3.66626e-9 \\\\\n",
       "\t5 & 5 & 10 & 0.190868 \\\\\n",
       "\t6 & 6 & 12 & 5.88114e-7 \\\\\n",
       "\t7 & 7 & 15 & 2.28331e-8 \\\\\n",
       "\t8 & 8 & 18 & 1.88942e-8 \\\\\n",
       "\t9 & 9 & 19 & -2.75385e-9 \\\\\n",
       "\t10 & 10 & 24 & -2.93189e-9 \\\\\n",
       "\t11 & 11 & 25 & 0.230646 \\\\\n",
       "\t12 & 12 & 26 & 0.111892 \\\\\n",
       "\t13 & 13 & 27 & -2.64499e-9 \\\\\n",
       "\t14 & 14 & 31 & 0.00359875 \\\\\n",
       "\t15 & 15 & 32 & -2.59925e-9 \\\\\n",
       "\t16 & 16 & 34 & 1.11485e-8 \\\\\n",
       "\t17 & 17 & 36 & 1.35961e-8 \\\\\n",
       "\t18 & 18 & 40 & 2.06828e-7 \\\\\n",
       "\t19 & 19 & 42 & 4.81502e-7 \\\\\n",
       "\t20 & 20 & 46 & 0.00225006 \\\\\n",
       "\t21 & 21 & 49 & 0.030351 \\\\\n",
       "\t22 & 22 & 54 & 0.00717053 \\\\\n",
       "\t23 & 23 & 55 & 2.64466e-8 \\\\\n",
       "\t24 & 24 & 56 & 2.42519e-8 \\\\\n",
       "\t25 & 25 & 59 & 0.0249485 \\\\\n",
       "\t26 & 26 & 61 & 0.027654 \\\\\n",
       "\t27 & 27 & 62 & 4.70562e-9 \\\\\n",
       "\t28 & 28 & 65 & 0.0688284 \\\\\n",
       "\t29 & 29 & 66 & 0.0612326 \\\\\n",
       "\t30 & 30 & 69 & 0.175521 \\\\\n",
       "\t$\\dots$ & $\\dots$ & $\\dots$ & $\\dots$ \\\\\n",
       "\\end{tabular}\n"
      ],
      "text/plain": [
       "54×3 DataFrame\n",
       "│ Row │ gen   │ at_bus │ alpha        │\n",
       "│     │ \u001b[90mInt64\u001b[39m │ \u001b[90mInt64\u001b[39m  │ \u001b[90mFloat64\u001b[39m      │\n",
       "├─────┼───────┼────────┼──────────────┤\n",
       "│ 1   │ 1     │ 1      │ -3.0214e-9   │\n",
       "│ 2   │ 2     │ 4      │ -3.36041e-9  │\n",
       "│ 3   │ 3     │ 6      │ -3.17813e-9  │\n",
       "│ 4   │ 4     │ 8      │ -3.66626e-9  │\n",
       "│ 5   │ 5     │ 10     │ 0.190868     │\n",
       "│ 6   │ 6     │ 12     │ 5.88114e-7   │\n",
       "│ 7   │ 7     │ 15     │ 2.28331e-8   │\n",
       "│ 8   │ 8     │ 18     │ 1.88942e-8   │\n",
       "│ 9   │ 9     │ 19     │ -2.75385e-9  │\n",
       "│ 10  │ 10    │ 24     │ -2.93189e-9  │\n",
       "⋮\n",
       "│ 44  │ 44    │ 99     │ 1.81967e-8   │\n",
       "│ 45  │ 45    │ 100    │ 0.00617333   │\n",
       "│ 46  │ 46    │ 103    │ 0.000675231  │\n",
       "│ 47  │ 47    │ 104    │ 6.49958e-7   │\n",
       "│ 48  │ 48    │ 105    │ 0.00821438   │\n",
       "│ 49  │ 49    │ 107    │ 0.00411233   │\n",
       "│ 50  │ 50    │ 110    │ 0.00640599   │\n",
       "│ 51  │ 51    │ 111    │ 0.000445717  │\n",
       "│ 52  │ 52    │ 112    │ 0.00296501   │\n",
       "│ 53  │ 53    │ 113    │ -6.30065e-10 │\n",
       "│ 54  │ 54    │ 116    │ -2.80985e-8  │"
      ]
     },
     "metadata": {},
     "output_type": "display_data"
    }
   ],
   "source": [
    "## Show Detailed Alhpa\n",
    "display(res_dfs[4])"
   ]
  },
  {
   "cell_type": "markdown",
   "metadata": {
    "hideCode": true,
    "hideOutput": true
   },
   "source": [
    "(c) 2019, Robert Mieth, robert.mieth@ieee.org"
   ]
  }
 ],
 "metadata": {
  "hide_code_all_hidden": false,
  "kernelspec": {
   "display_name": "Julia 1.1.0",
   "language": "julia",
   "name": "julia-1.1"
  },
  "language_info": {
   "file_extension": ".jl",
   "mimetype": "application/julia",
   "name": "julia",
   "version": "1.1.0"
  },
  "varInspector": {
   "cols": {
    "lenName": 16,
    "lenType": 16,
    "lenVar": 40
   },
   "kernels_config": {
    "python": {
     "delete_cmd_postfix": "",
     "delete_cmd_prefix": "del ",
     "library": "var_list.py",
     "varRefreshCmd": "print(var_dic_list())"
    },
    "r": {
     "delete_cmd_postfix": ") ",
     "delete_cmd_prefix": "rm(",
     "library": "var_list.r",
     "varRefreshCmd": "cat(var_dic_list()) "
    }
   },
   "types_to_exclude": [
    "module",
    "function",
    "builtin_function_or_method",
    "instance",
    "_Feature"
   ],
   "window_display": false
  }
 },
 "nbformat": 4,
 "nbformat_minor": 2
}
